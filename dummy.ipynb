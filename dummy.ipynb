{
 "cells": [
  {
   "cell_type": "code",
   "execution_count": 1,
   "id": "3523f5b5-da39-4b12-8239-37e45429fd2a",
   "metadata": {},
   "outputs": [],
   "source": [
    "import torch\n",
    "import torch.nn as nn\n",
    "import torch.nn.functional as F"
   ]
  },
  {
   "cell_type": "code",
   "execution_count": 2,
   "id": "75d9af57-c227-4ed4-915d-caee4b55247a",
   "metadata": {},
   "outputs": [],
   "source": [
    "class Model(nn.Module):\n",
    "    def __init__(self):\n",
    "        super().__init__()\n",
    "        self.conv1 = nn.Conv2d(3, 512, 3, padding='same')\n",
    "        self.conv2 = nn.Conv2d(512, 1024, 3, padding='same')\n",
    "        self.conv3 = nn.Conv2d(1024, 2048, 3, padding='same')\n",
    "        self.conv4 = nn.Conv2d(2048, 8192, 3, padding='same')\n",
    "        self.conv5 = nn.Conv2d(8192, 8192, 3, padding='same')\n",
    "        self.conv6 = nn.Conv2d(8192, 512, 3, padding='same')\n",
    "        self.conv7 = nn.Conv2d(512, 512, 3, padding='same')\n",
    "        self.conv8 = nn.Conv2d(512, 512, 3, padding='same')\n",
    "        self.conv9 = nn.Conv2d(512, 512, 3, padding='same')\n",
    "        self.conv10 = nn.Conv2d(512, 512, 3, padding='same')\n",
    "        self.conv11 = nn.Conv2d(512, 512, 3, padding='same')\n",
    "        self.conv12 = nn.Conv2d(512, 512, 3, padding='same')\n",
    "        self.conv13 = nn.Conv2d(512, 512, 3, padding='same')\n",
    "\n",
    "    def forward(self, x):\n",
    "        x = self.conv1(x)\n",
    "        x = self.conv2(x)\n",
    "        x = self.conv3(x)\n",
    "        x = self.conv4(x)\n",
    "        x = self.conv5(x)\n",
    "        x = self.conv6(x)\n",
    "        x = self.conv7(x)\n",
    "        x = self.conv8(x)\n",
    "        x = self.conv9(x)\n",
    "        x = self.conv10(x)\n",
    "        x = self.conv11(x)\n",
    "        x = self.conv12(x)\n",
    "        x = self.conv13(x)\n",
    "        return x"
   ]
  },
  {
   "cell_type": "code",
   "execution_count": 3,
   "id": "a1091478-ba41-43d5-9b43-91e60473127c",
   "metadata": {},
   "outputs": [],
   "source": [
    "import os\n",
    "os.environ[\"CUDA_VISIBLE_DEVICES\"]= \"0,1,2,3\"\n",
    "device = torch.device('cuda')"
   ]
  },
  {
   "cell_type": "code",
   "execution_count": null,
   "id": "a4db36f5-203b-42c5-af0f-224ba7885331",
   "metadata": {},
   "outputs": [],
   "source": [
    "cnt = 0\n",
    "model = Model()\n",
    "model = nn.DataParallel(model).to(device)\n",
    "while True:\n",
    "    x = torch.randn((1, 3, 256, 256)).to(device)\n",
    "    x = model(x)\n",
    "    cnt += 1\n",
    "    \n",
    "    if cnt % 100 == 0:\n",
    "        print(cnt)"
   ]
  },
  {
   "cell_type": "code",
   "execution_count": null,
   "id": "8b69d6dd-f444-4814-8fcd-5e0533131d8d",
   "metadata": {},
   "outputs": [],
   "source": []
  }
 ],
 "metadata": {
  "kernelspec": {
   "display_name": "Python 3 (ipykernel)",
   "language": "python",
   "name": "python3"
  },
  "language_info": {
   "codemirror_mode": {
    "name": "ipython",
    "version": 3
   },
   "file_extension": ".py",
   "mimetype": "text/x-python",
   "name": "python",
   "nbconvert_exporter": "python",
   "pygments_lexer": "ipython3",
   "version": "3.8.12"
  }
 },
 "nbformat": 4,
 "nbformat_minor": 5
}
