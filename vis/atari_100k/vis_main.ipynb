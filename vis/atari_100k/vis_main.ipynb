{
 "cells": [
  {
   "cell_type": "markdown",
   "id": "22ab515d-2004-42c0-8c43-9aac6591ccfd",
   "metadata": {},
   "source": [
    "### 1. Setup"
   ]
  },
  {
   "cell_type": "markdown",
   "id": "d742b5d5-c610-4e89-9e27-5ebc73f45ae8",
   "metadata": {},
   "source": [
    "#### 1.1 Import Packages"
   ]
  },
  {
   "cell_type": "code",
   "execution_count": 1,
   "id": "9279e869-bb2c-4c18-ac16-c40b4c465719",
   "metadata": {
    "collapsed": true,
    "jupyter": {
     "outputs_hidden": true
    },
    "tags": []
   },
   "outputs": [
    {
     "name": "stdout",
     "output_type": "stream",
     "text": [
      "Collecting git+https://github.com/google-research/rliable\n",
      "  Cloning https://github.com/google-research/rliable to /tmp/pip-req-build-_b_n30xn\n",
      "  Running command git clone -q https://github.com/google-research/rliable /tmp/pip-req-build-_b_n30xn\n",
      "  Resolved https://github.com/google-research/rliable to commit 7b996370f6ba6f49b1d82db1de9c1c5649c52a12\n",
      "Requirement already satisfied: arch==5.3.0 in /home/nas3_userK/hojoonlee/anaconda3/envs/atari/lib/python3.9/site-packages (from rliable==1.0.8) (5.3.0)\n",
      "Requirement already satisfied: scipy>=1.7.0 in /home/nas3_userK/hojoonlee/anaconda3/envs/atari/lib/python3.9/site-packages (from rliable==1.0.8) (1.8.0)\n",
      "Requirement already satisfied: absl-py>=0.9.0 in /home/nas3_userK/hojoonlee/anaconda3/envs/atari/lib/python3.9/site-packages (from rliable==1.0.8) (1.1.0)\n",
      "Requirement already satisfied: numpy>=1.16.4 in /home/nas3_userK/hojoonlee/anaconda3/envs/atari/lib/python3.9/site-packages (from rliable==1.0.8) (1.22.3)\n",
      "Requirement already satisfied: seaborn>=0.11.2 in /home/nas3_userK/hojoonlee/anaconda3/envs/atari/lib/python3.9/site-packages (from rliable==1.0.8) (0.11.2)\n",
      "Requirement already satisfied: statsmodels>=0.11 in /home/nas3_userK/hojoonlee/anaconda3/envs/atari/lib/python3.9/site-packages (from arch==5.3.0->rliable==1.0.8) (0.13.2)\n",
      "Requirement already satisfied: pandas>=1.0 in /home/nas3_userK/hojoonlee/anaconda3/envs/atari/lib/python3.9/site-packages (from arch==5.3.0->rliable==1.0.8) (1.3.0)\n",
      "Requirement already satisfied: property-cached>=1.6.4 in /home/nas3_userK/hojoonlee/anaconda3/envs/atari/lib/python3.9/site-packages (from arch==5.3.0->rliable==1.0.8) (1.6.4)\n",
      "Requirement already satisfied: python-dateutil>=2.7.3 in /home/nas3_userK/hojoonlee/anaconda3/envs/atari/lib/python3.9/site-packages (from pandas>=1.0->arch==5.3.0->rliable==1.0.8) (2.8.2)\n",
      "Requirement already satisfied: pytz>=2017.3 in /home/nas3_userK/hojoonlee/anaconda3/envs/atari/lib/python3.9/site-packages (from pandas>=1.0->arch==5.3.0->rliable==1.0.8) (2021.3)\n",
      "Requirement already satisfied: six>=1.5 in /home/nas3_userK/hojoonlee/anaconda3/envs/atari/lib/python3.9/site-packages (from python-dateutil>=2.7.3->pandas>=1.0->arch==5.3.0->rliable==1.0.8) (1.16.0)\n",
      "Requirement already satisfied: matplotlib>=2.2 in /home/nas3_userK/hojoonlee/anaconda3/envs/atari/lib/python3.9/site-packages (from seaborn>=0.11.2->rliable==1.0.8) (3.5.2)\n",
      "Requirement already satisfied: kiwisolver>=1.0.1 in /home/nas3_userK/hojoonlee/anaconda3/envs/atari/lib/python3.9/site-packages (from matplotlib>=2.2->seaborn>=0.11.2->rliable==1.0.8) (1.4.2)\n",
      "Requirement already satisfied: pyparsing>=2.2.1 in /home/nas3_userK/hojoonlee/anaconda3/envs/atari/lib/python3.9/site-packages (from matplotlib>=2.2->seaborn>=0.11.2->rliable==1.0.8) (3.0.9)\n",
      "Requirement already satisfied: cycler>=0.10 in /home/nas3_userK/hojoonlee/anaconda3/envs/atari/lib/python3.9/site-packages (from matplotlib>=2.2->seaborn>=0.11.2->rliable==1.0.8) (0.11.0)\n",
      "Requirement already satisfied: pillow>=6.2.0 in /home/nas3_userK/hojoonlee/anaconda3/envs/atari/lib/python3.9/site-packages (from matplotlib>=2.2->seaborn>=0.11.2->rliable==1.0.8) (9.1.0)\n",
      "Requirement already satisfied: packaging>=20.0 in /home/nas3_userK/hojoonlee/anaconda3/envs/atari/lib/python3.9/site-packages (from matplotlib>=2.2->seaborn>=0.11.2->rliable==1.0.8) (21.3)\n",
      "Requirement already satisfied: fonttools>=4.22.0 in /home/nas3_userK/hojoonlee/anaconda3/envs/atari/lib/python3.9/site-packages (from matplotlib>=2.2->seaborn>=0.11.2->rliable==1.0.8) (4.33.3)\n",
      "Requirement already satisfied: patsy>=0.5.2 in /home/nas3_userK/hojoonlee/anaconda3/envs/atari/lib/python3.9/site-packages (from statsmodels>=0.11->arch==5.3.0->rliable==1.0.8) (0.5.2)\n",
      "Requirement already satisfied: inflection in /home/nas3_userK/hojoonlee/anaconda3/envs/atari/lib/python3.9/site-packages (0.5.1)\n"
     ]
    }
   ],
   "source": [
    "!pip3 install git+https://github.com/google-research/rliable\n",
    "!pip3 install inflection"
   ]
  },
  {
   "cell_type": "code",
   "execution_count": 1,
   "id": "05c94819-cca8-43b8-8199-66645d7a5c8e",
   "metadata": {},
   "outputs": [],
   "source": [
    "from rliable import library as rly\n",
    "from rliable import metrics\n",
    "from rliable import plot_utils"
   ]
  },
  {
   "cell_type": "code",
   "execution_count": 2,
   "id": "cb9f315b-cadc-4ef8-ab0d-be70cf6282b1",
   "metadata": {},
   "outputs": [],
   "source": [
    "import collections\n",
    "import numpy as np\n",
    "import matplotlib.patches as patches\n",
    "import sys\n",
    "import pickle\n",
    "import pandas as pd\n",
    "import copy\n",
    "import functools\n",
    "import json\n",
    "import os\n",
    "\n",
    "import itertools as it\n",
    "import random\n",
    "import inspect\n",
    "import scipy.stats\n",
    " \n",
    "import getpass\n",
    "import os.path as osp\n",
    " \n",
    "# See warnings only once\n",
    "import warnings\n",
    "warnings.filterwarnings('default')\n",
    " \n",
    "import inflection\n",
    "from functools import partial\n",
    "\n",
    "# The answer to life, universe and everything\n",
    "RAND_STATE = np.random.RandomState(42)\n",
    "\n",
    "import logging\n",
    "logger = logging.getLogger()\n",
    "logger.setLevel(logging.INFO)"
   ]
  },
  {
   "cell_type": "markdown",
   "id": "74ee5ce6-104e-4b44-9352-94fec62a1321",
   "metadata": {},
   "source": [
    "#### 1.2 Plotting Utilities"
   ]
  },
  {
   "cell_type": "code",
   "execution_count": 3,
   "id": "cf6a232e-2ad3-435d-944e-72b1c73c9cef",
   "metadata": {},
   "outputs": [],
   "source": [
    "#@title Plotting: Seaborn style and matplotlib params\n",
    "import matplotlib.pyplot as plt\n",
    "from matplotlib.ticker import PercentFormatter\n",
    "from matplotlib.ticker import MaxNLocator\n",
    "import matplotlib.patches as mpatches\n",
    "import seaborn as sns\n",
    "\n",
    "sns.set_style(\"white\")\n",
    "\n",
    "# Matplotlib params\n",
    "from matplotlib import rcParams\n",
    "from matplotlib import rc\n",
    "\n",
    "rcParams['legend.loc'] = 'best'\n",
    "rcParams['pdf.fonttype'] = 42\n",
    "rcParams['ps.fonttype'] = 42\n",
    "\n",
    "rc('text', usetex=False)"
   ]
  },
  {
   "cell_type": "code",
   "execution_count": 4,
   "id": "0526df85-f972-4709-9d2a-e48e3e892c28",
   "metadata": {},
   "outputs": [],
   "source": [
    "#@title Plotting Helpers\n",
    "\n",
    "def save_fig(fig, name):\n",
    "    file_name = '{}.pdf'.format(name)\n",
    "    fig.savefig(file_name, format='pdf', bbox_inches='tight')\n",
    "    return file_name\n",
    "\n",
    "def set_axes(ax, xlim, ylim, xlabel, ylabel):\n",
    "    ax.set_xlim(xlim)\n",
    "    ax.set_ylim(ylim)\n",
    "    ax.set_xlabel(xlabel, labelpad=14)\n",
    "    ax.set_ylabel(ylabel, labelpad=14)\n",
    "\n",
    "def set_ticks(ax, xticks, xticklabels, yticks, yticklabels):\n",
    "    ax.set_xticks(xticks)\n",
    "    ax.set_xticklabels(xticklabels)\n",
    "    ax.set_yticks(yticks)\n",
    "    ax.set_yticklabels(yticklabels)\n",
    "\n",
    "def decorate_axis(ax, wrect=10, hrect=10, labelsize='medium'):\n",
    "    # Hide the right and top spines\n",
    "    ax.spines['right'].set_visible(False)\n",
    "    ax.spines['top'].set_visible(False)\n",
    "    ax.spines['left'].set_linewidth(2)\n",
    "    ax.spines['bottom'].set_linewidth(2)\n",
    "    # Deal with ticks and the blank space at the origin\n",
    "    ax.tick_params(length=0.1, width=0.1, labelsize=labelsize)\n",
    "    # Pablos' comment\n",
    "    ax.spines['left'].set_position(('outward', hrect))\n",
    "    ax.spines['bottom'].set_position(('outward', wrect))"
   ]
  },
  {
   "cell_type": "markdown",
   "id": "b489fc84-8839-43d3-b555-eaa736fb349e",
   "metadata": {},
   "source": [
    "#### 1.3 Score Normalisation & Aggregation"
   ]
  },
  {
   "cell_type": "code",
   "execution_count": 5,
   "id": "1e5cf9c2-f234-4363-9af1-e48ae11d921c",
   "metadata": {},
   "outputs": [],
   "source": [
    "#@title Helpers for normalizing scores and plotting histogram plots.\n",
    "def pgs(f):\n",
    "    print(inspect.getsource(f))\n",
    "\n",
    "def score_normalization(res_dict, min_scores, max_scores):\n",
    "    games = res_dict.keys()\n",
    "    norm_scores = {}\n",
    "    for game, scores in res_dict.items():\n",
    "        norm_scores[game] = (scores - min_scores[game])/(max_scores[game] - min_scores[game])\n",
    "    return norm_scores\n",
    "\n",
    "def plot_score_hist(score_matrix, bins=20, figsize=(28, 14), \n",
    "                    fontsize='xx-large', N=6, extra_row=1,\n",
    "                    names=None):\n",
    "    num_tasks = score_matrix.shape[1]\n",
    "    if names is None:\n",
    "        names = ATARI_100K_GAMES\n",
    "    N1 = (num_tasks // N) + extra_row\n",
    "    fig, ax = plt.subplots(nrows=N1, ncols=N, figsize=figsize)\n",
    "    for i in range(N):\n",
    "        for j in range(N1):\n",
    "            idx = j * N + i\n",
    "            if idx < num_tasks:\n",
    "                ax[j, i].set_title(names[idx], fontsize=fontsize)\n",
    "                sns.histplot(score_matrix[:, idx], bins=bins, ax=ax[j,i], kde=True)\n",
    "            else:\n",
    "                ax[j, i].axis('off')\n",
    "            decorate_axis(ax[j, i], wrect=5, hrect=5, labelsize='xx-large')\n",
    "            ax[j, i].xaxis.set_major_locator(plt.MaxNLocator(4))\n",
    "            if idx % N == 0:\n",
    "                ax[j, i].set_ylabel('Count', size=fontsize)\n",
    "            else:\n",
    "                ax[j, i].yaxis.label.set_visible(False)\n",
    "            ax[j, i].grid(axis='y', alpha=0.1)\n",
    "    return fig\n",
    "\n",
    "StratifiedBootstrap = rly.StratifiedBootstrap\n",
    "\n",
    "IQM = lambda x: metrics.aggregate_iqm(x) # Interquartile Mean\n",
    "OG = lambda x: metrics.aggregate_optimality_gap(x, 1.0) # Optimality Gap\n",
    "MEAN = lambda x: metrics.aggregate_mean(x)\n",
    "MEDIAN = lambda x: metrics.aggregate_median(x)"
   ]
  },
  {
   "cell_type": "code",
   "execution_count": 6,
   "id": "324e3aec-1113-4da6-8a1e-d5bea08db331",
   "metadata": {},
   "outputs": [],
   "source": [
    "#@title Atari 100k -- List of 26 Games\n",
    "\n",
    "ATARI_100K_GAMES = [\n",
    "    'Alien', 'Amidar', 'Assault', 'Asterix', 'BankHeist', 'BattleZone',\n",
    "    'Boxing', 'Breakout', 'ChopperCommand', 'CrazyClimber', 'DemonAttack',\n",
    "    'Freeway', 'Frostbite', 'Gopher', 'Hero', 'Jamesbond', 'Kangaroo',\n",
    "    'Krull', 'KungFuMaster', 'MsPacman', 'Pong', 'PrivateEye', 'Qbert',\n",
    "    'RoadRunner', 'Seaquest', 'UpNDown'\n",
    "]\n",
    "\n",
    "RANDOM_SCORES = {\n",
    "    'Alien': 227.8,\n",
    "    'Amidar': 5.8,\n",
    "    'Assault': 222.4,\n",
    "    'Asterix': 210.0,\n",
    "    'BankHeist': 14.2,\n",
    "    'BattleZone': 2360.0,\n",
    "    'Boxing': 0.1,\n",
    "    'Breakout': 1.7,\n",
    "    'ChopperCommand': 811.0,\n",
    "    'CrazyClimber': 10780.5,\n",
    "    'DemonAttack': 152.1,\n",
    "    'Freeway': 0.0,\n",
    "    'Frostbite': 65.2,\n",
    "    'Gopher': 257.6,\n",
    "    'Hero': 1027.0,\n",
    "    'Jamesbond': 29.0,\n",
    "    'Kangaroo': 52.0,\n",
    "    'Krull': 1598.0,\n",
    "    'KungFuMaster': 258.5,\n",
    "    'MsPacman': 307.3,\n",
    "    'Pong': -20.7,\n",
    "    'PrivateEye': 24.9,\n",
    "    'Qbert': 163.9,\n",
    "    'RoadRunner': 11.5,\n",
    "    'Seaquest': 68.4,\n",
    "    'UpNDown': 533.4\n",
    "}\n",
    "\n",
    "HUMAN_SCORES = {\n",
    "    'Alien': 7127.7,\n",
    "    'Amidar': 1719.5,\n",
    "    'Assault': 742.0,\n",
    "    'Asterix': 8503.3,\n",
    "    'BankHeist': 753.1,\n",
    "    'BattleZone': 37187.5,\n",
    "    'Boxing': 12.1,\n",
    "    'Breakout': 30.5,\n",
    "    'ChopperCommand': 7387.8,\n",
    "    'CrazyClimber': 35829.4,\n",
    "    'DemonAttack': 1971.0,\n",
    "    'Freeway': 29.6,\n",
    "    'Frostbite': 4334.7,\n",
    "    'Gopher': 2412.5,\n",
    "    'Hero': 30826.4,\n",
    "    'Jamesbond': 302.8,\n",
    "    'Kangaroo': 3035.0,\n",
    "    'Krull': 2665.5,\n",
    "    'KungFuMaster': 22736.3,\n",
    "    'MsPacman': 6951.6,\n",
    "    'Pong': 14.6,\n",
    "    'PrivateEye': 69571.3,\n",
    "    'Qbert': 13455.0,\n",
    "    'RoadRunner': 7845.0,\n",
    "    'Seaquest': 42054.7,\n",
    "    'UpNDown': 11693.2\n",
    "}"
   ]
  },
  {
   "cell_type": "markdown",
   "id": "9c4649c8-e1a7-4579-b2bc-d995a19da569",
   "metadata": {},
   "source": [
    "#### 1.4 DataLoader (from wandb)"
   ]
  },
  {
   "cell_type": "code",
   "execution_count": 7,
   "id": "823a05bb-0d80-4fda-9b21-1cc6950eba3d",
   "metadata": {},
   "outputs": [],
   "source": [
    "import pandas as pd \n",
    "import wandb\n",
    "\n",
    "def collect_runs(project_name='draftrec/atari_finetune'):\n",
    "    api = wandb.Api()\n",
    "\n",
    "    # Project is specified by <entity/project-name>\n",
    "    runs = api.runs(project_name)\n",
    "    summary_list, group_list, config_list, id_list = [], [], [], []\n",
    "    for run in runs: \n",
    "        # .summary contains the output keys/values for metrics like accuracy.\n",
    "        #  We call ._json_dict to omit large files \n",
    "        \n",
    "        group_list.append(run.group)\n",
    "        summary_list.append(run.summary._json_dict)\n",
    "\n",
    "        # .config contains the hyperparameters.\n",
    "        #  We remove special values that start with _.\n",
    "        config_list.append(\n",
    "            {k: v for k,v in run.config.items()\n",
    "              if not k.startswith('_')})\n",
    "\n",
    "        # .name is the human-readable name of the run.\n",
    "        id_list.append(run.id)\n",
    "\n",
    "    runs_df = pd.DataFrame({\n",
    "        \"summary\": summary_list,\n",
    "        \"group\": group_list,\n",
    "        \"config\": config_list,\n",
    "        \"id\": id_list,\n",
    "        })\n",
    "    \n",
    "    return runs_df\n",
    "\n",
    "def filter_runs(runs_df, exp_name, group_name):\n",
    "    configs = runs_df['config']\n",
    "    indexs = []\n",
    "    for idx, config in enumerate(configs):\n",
    "        if len(config) == 0:\n",
    "            continue\n",
    "\n",
    "        run_exp_name = config['exp_name']\n",
    "        run_group_name = config['group_name']\n",
    "\n",
    "        # condition\n",
    "        if run_exp_name == exp_name and run_group_name == group_name:\n",
    "            if 'env' in config:\n",
    "                indexs.append(idx)\n",
    "                \n",
    "    data = runs_df.iloc[indexs]\n",
    "    \n",
    "    return data\n",
    "\n",
    "def get_scores(data, metric='eval_mean_traj_game_scores'):\n",
    "    scores = []\n",
    "    for idx in range(len(data)):\n",
    "        row = data.iloc[idx]\n",
    "        summary = row['summary']\n",
    "        config = row['config']\n",
    "\n",
    "        if 'env' not in config:\n",
    "            continue\n",
    "\n",
    "        game = config['env']['game']\n",
    "        try:\n",
    "            score = summary[metric]\n",
    "        except:\n",
    "            continue\n",
    "            \n",
    "        scores.append([0, game, score, 0])\n",
    "\n",
    "    return scores\n",
    "\n",
    "def snake_to_camel(name):\n",
    "    return ''.join(word.title() for word in name.split('_'))\n",
    "\n",
    "def convert_to_matrix(score_dict):\n",
    "    keys = sorted(list(score_dict.keys()))\n",
    "    return np.stack([score_dict[k] for k in keys], axis=1)\n",
    "  \n",
    "def generate_score_matrix(scores, camel=True, num_seeds=10):\n",
    "    _scores = {}\n",
    "    for game in ATARI_100K_GAMES:\n",
    "        _scores[game] = []\n",
    "\n",
    "    for score in scores:\n",
    "        if camel:\n",
    "            game = snake_to_camel(score[1])\n",
    "        else:\n",
    "            game = score[1]\n",
    "\n",
    "        if (game == 'Median') or (game == 'Mean'):\n",
    "            continue\n",
    "        _scores[game].append(score[2])\n",
    "\n",
    "    num_min_seed = 999\n",
    "    for game, score in _scores.items():\n",
    "        num_min_seed = min(num_min_seed, len(score))\n",
    "    \n",
    "    num_min_seed = min(num_min_seed, num_seeds)\n",
    "    for game, score in _scores.items():\n",
    "        _scores[game] = np.array(score[-num_min_seed:])\n",
    "\n",
    "    raw_score_matrix = convert_to_matrix(_scores)\n",
    "    scores = score_normalization(_scores, RANDOM_SCORES, HUMAN_SCORES)\n",
    "    score_matrix = convert_to_matrix(scores)\n",
    "    median, mean = MEDIAN(score_matrix), MEAN(score_matrix)\n",
    "    print('{}: Median: {}, Mean: {}'.format(eval, median, mean))\n",
    "        \n",
    "    return raw_score_matrix, scores, score_matrix"
   ]
  },
  {
   "cell_type": "markdown",
   "id": "af8cdc96-6b47-4cd9-a1ec-d45b3110b635",
   "metadata": {},
   "source": [
    "#### 1.5 Subsampler"
   ]
  },
  {
   "cell_type": "code",
   "execution_count": 8,
   "id": "59bf326e-18af-4918-9681-23d80742b3f3",
   "metadata": {},
   "outputs": [],
   "source": [
    "def subsample_scores(score_dict, n=5, replace=False):\n",
    "    subsampled_dict = {}\n",
    "    total_samples = len(score_dict[list(score_dict.keys())[0]])\n",
    "    for game, scores in score_dict.items():\n",
    "        indices = np.random.choice(range(total_samples), size=n, replace=replace)\n",
    "        subsampled_dict[game] = scores[indices]\n",
    "    return subsampled_dict\n",
    "\n",
    "def subsample_scores_mat(score_mat, num_samples=5, replace=False):\n",
    "    subsampled_dict = []\n",
    "    total_samples, num_games = score_mat.shape\n",
    "    subsampled_scores = np.empty((num_samples, num_games))\n",
    "    for i in range(num_games):\n",
    "        indices = np.random.choice(total_samples, size=num_samples, replace=replace)\n",
    "        subsampled_scores[:, i] = score_mat[indices, i]\n",
    "    return subsampled_scores\n",
    "\n",
    "def subsample_seeds(score_mat, num_samples=5, replace=False):\n",
    "    indices = np.random.choice(\n",
    "        score_mat.shape[0], size=num_samples, replace=replace)\n",
    "    return score_mat[indices]\n",
    "\n",
    "def batch_subsample_seeds(score_mat, num_samples=5, batch_size=100,\n",
    "                          replace=False):\n",
    "    indices = [\n",
    "        np.random.choice(score_mat.shape[0], size=num_samples, replace=replace)\n",
    "        for _ in range(batch_size)\n",
    "    ]\n",
    "    return (score_mat[idx] for idx in indices)\n",
    "\n",
    "def subsample_scores_mat_with_replacement(score_mat, num_samples=5):\n",
    "    subsampled_dict = []\n",
    "    total_samples, num_games = score_mat.shape\n",
    "    indices = np.random.choice(\n",
    "      total_samples, size=(num_samples, num_games), replace=True)\n",
    "    col_indices =  np.expand_dims(np.arange(num_games), axis=0)\n",
    "    col_indices = np.repeat(col_indices, num_samples, axis=0)\n",
    "    subsampled_scores = score_mat[indices, col_indices]\n",
    "    return subsampled_scores"
   ]
  },
  {
   "cell_type": "markdown",
   "id": "fcfcb554-a5b0-446b-a1a3-a439e4fae503",
   "metadata": {},
   "source": [
    "#### 1.6 Subsample Aggregator"
   ]
  },
  {
   "cell_type": "code",
   "execution_count": 9,
   "id": "915422f3-51e3-4290-b222-6863e5223d19",
   "metadata": {},
   "outputs": [],
   "source": [
    "#@title Aggregate computation helpers\n",
    "\n",
    "SIZES = [3, 5, 10, 25, 50, 100]\n",
    "\n",
    "def calc_aggregate_fn(score_data, num_samples=5, total_n=20000, \n",
    "                      aggregate_fn=MEDIAN, replace=False):\n",
    "    subsampled_scores = batch_subsample_seeds(\n",
    "      score_data, num_samples, batch_size=total_n, replace=replace)\n",
    "    aggregates = [aggregate_fn(scores) for scores in subsampled_scores]\n",
    "    return np.array(aggregates)\n",
    "\n",
    "def calculate_aggregate_varying_sizes(score_matrix, aggregate_fn, total_n=20000,\n",
    "                                      sizes=None, replace=False):\n",
    "    agg_dict = {}\n",
    "    if sizes is None:\n",
    "        sizes = SIZES\n",
    "    for size in sizes:\n",
    "        agg_dict[n] = calc_aggregate_fn(score_matrix, num_samples=size, aggregate_fn=aggregate_fn,\n",
    "                                    total_n=total_n, replace=replace)\n",
    "        print('Mean Aggregate: {}'.format(np.mean(agg_dict[n])))\n",
    "    return agg_dict\n",
    "\n",
    "def CI(bootstrap_dist, stat_val=None, alpha=0.05, is_pivotal=False):\n",
    "    \"\"\"\n",
    "    Get the bootstrap confidence interval for a given distribution.\n",
    "    Args:\n",
    "      bootstrap_distribution: numpy array of bootstrap results.\n",
    "      stat_val: The overall statistic that this method is attempting to\n",
    "        calculate error bars for. Default is None.\n",
    "      alpha: The alpha value for the confidence intervals.\n",
    "      is_pivotal: if true, use the pivotal (reverse percentile) method. \n",
    "        If false, use the percentile method.\n",
    "    Returns:\n",
    "      (low, high): The lower and upper limit for `alpha` x 100% CIs.\n",
    "      val: The median value of the bootstrap distribution if `stat_val` is None\n",
    "        else `stat_val`.\n",
    "    \"\"\"\n",
    "    # Adapted from https://pypi.org/project/bootstrapped\n",
    "    if is_pivotal:\n",
    "        assert stat_val is not None, 'Please pass the statistic for a pivotal'\n",
    "        'confidence interval' \n",
    "        low = 2 * stat_val - np.percentile(bootstrap_dist, 100 * (1 - alpha / 2.))\n",
    "        val = stat_val\n",
    "        high = 2 * stat_val - np.percentile(bootstrap_dist, 100 * (alpha / 2.))\n",
    "    else:\n",
    "        low = np.percentile(bootstrap_dist, 100 * (alpha / 2.))\n",
    "        val = np.percentile(bootstrap_dist, 50)\n",
    "        high = np.percentile(bootstrap_dist, 100 * (1 - alpha / 2.))\n",
    "    return (low, high), val"
   ]
  },
  {
   "cell_type": "markdown",
   "id": "640b8f3e-5c99-4442-878e-a443e1378b85",
   "metadata": {},
   "source": [
    "#### 1.7 Color Utilities"
   ]
  },
  {
   "cell_type": "code",
   "execution_count": 10,
   "id": "5b0ce5ee-6fe1-4de4-9625-7abe9de953ab",
   "metadata": {},
   "outputs": [
    {
     "data": {
      "text/html": [
       "<svg  width=\"660\" height=\"55\"><rect x=\"0\" y=\"0\" width=\"55\" height=\"55\" style=\"fill:#c72e4c;stroke-width:2;stroke:rgb(255,255,255)\"/><rect x=\"55\" y=\"0\" width=\"55\" height=\"55\" style=\"fill:#e55749;stroke-width:2;stroke:rgb(255,255,255)\"/><rect x=\"110\" y=\"0\" width=\"55\" height=\"55\" style=\"fill:#f7814c;stroke-width:2;stroke:rgb(255,255,255)\"/><rect x=\"165\" y=\"0\" width=\"55\" height=\"55\" style=\"fill:#fdb163;stroke-width:2;stroke:rgb(255,255,255)\"/><rect x=\"220\" y=\"0\" width=\"55\" height=\"55\" style=\"fill:#fed884;stroke-width:2;stroke:rgb(255,255,255)\"/><rect x=\"275\" y=\"0\" width=\"55\" height=\"55\" style=\"fill:#fff3ac;stroke-width:2;stroke:rgb(255,255,255)\"/><rect x=\"330\" y=\"0\" width=\"55\" height=\"55\" style=\"fill:#f6fbb0;stroke-width:2;stroke:rgb(255,255,255)\"/><rect x=\"385\" y=\"0\" width=\"55\" height=\"55\" style=\"fill:#ddf19a;stroke-width:2;stroke:rgb(255,255,255)\"/><rect x=\"440\" y=\"0\" width=\"55\" height=\"55\" style=\"fill:#aedea3;stroke-width:2;stroke:rgb(255,255,255)\"/><rect x=\"495\" y=\"0\" width=\"55\" height=\"55\" style=\"fill:#7ccaa5;stroke-width:2;stroke:rgb(255,255,255)\"/><rect x=\"550\" y=\"0\" width=\"55\" height=\"55\" style=\"fill:#4ea7b0;stroke-width:2;stroke:rgb(255,255,255)\"/><rect x=\"605\" y=\"0\" width=\"55\" height=\"55\" style=\"fill:#3d79b6;stroke-width:2;stroke:rgb(255,255,255)\"/></svg>"
      ],
      "text/plain": [
       "[(0.7803152633602461, 0.182160707420223, 0.2968089196462899),\n",
       " (0.8996539792387543, 0.340715109573241, 0.2848904267589389),\n",
       " (0.9679354094579008, 0.5074202229911572, 0.2996539792387543),\n",
       " (0.9923875432525952, 0.6938869665513263, 0.3900807381776239),\n",
       " (0.9954632833525567, 0.8476739715494039, 0.519261822376009),\n",
       " (0.9985390234525182, 0.9547097270280661, 0.6730488273740869),\n",
       " (0.9634755863129566, 0.9853902345251826, 0.6920415224913495),\n",
       " (0.8656670511341794, 0.9460207612456749, 0.6034602076124567),\n",
       " (0.6841983852364477, 0.8722029988465976, 0.6403690888119954),\n",
       " (0.48489042675893923, 0.7940023068050751, 0.6458285274894272),\n",
       " (0.30403690888119955, 0.6537485582468281, 0.6913494809688582),\n",
       " (0.24006151480199922, 0.47635524798154555, 0.7141868512110727)]"
      ]
     },
     "execution_count": 10,
     "metadata": {},
     "output_type": "execute_result"
    }
   ],
   "source": [
    "#@title Atari_100k Color setup\n",
    "\n",
    "num_colors = 12\n",
    "colors = sns.color_palette('Spectral', num_colors) #sns.color_palette('colorblind')\n",
    "color_idxs = np.arange(num_colors)\n",
    "colors"
   ]
  },
  {
   "cell_type": "markdown",
   "id": "f4f5356a-a993-4094-b19f-fb9daeadae55",
   "metadata": {},
   "source": [
    "### 2. Get Scores"
   ]
  },
  {
   "cell_type": "markdown",
   "id": "af3b0bd0-2399-4ad1-827d-6403c9b4febe",
   "metadata": {},
   "source": [
    "#### finetune"
   ]
  },
  {
   "cell_type": "code",
   "execution_count": 11,
   "id": "d222a629-edf3-4e2b-aaff-5558c6d79015",
   "metadata": {},
   "outputs": [],
   "source": [
    "def get_scores_data_dict(project_name, metric, exp_names, group_name=None):\n",
    "    runs_df = collect_runs(project_name)\n",
    "    \n",
    "    scores_data_dict = {}\n",
    "    raw_scores_data_dict = {}\n",
    "    \n",
    "    for wdb_exp_name, vis_exp_name in exp_names.items():\n",
    "        if group_name is not None:\n",
    "            data = filter_runs(runs_df, wdb_exp_name, group_name)\n",
    "        else:\n",
    "            data = runs_df[runs_df['group'] == wdb_exp_name]\n",
    "        scores = get_scores(data, metric=metric)\n",
    "        \n",
    "        ########################################################\n",
    "        # nproj_npred falls into collapse in freeway and gopher\n",
    "        if wdb_exp_name == 'gpt_video_cons_nproj_npred_impala':\n",
    "            scores.append([0, 'freeway', 0, 0])\n",
    "            scores.append([0, 'freeway', 0, 0])\n",
    "            scores.append([0, 'freeway', 0, 0])\n",
    "            scores.append([0, 'gopher', 257.6, 0])\n",
    "            scores.append([0, 'gopher', 257.6, 0])\n",
    "            scores.append([0, 'gopher', 257.6, 0])\n",
    "            scores.append([0, 'up_n_down', 533.4, 0])\n",
    "            scores.append([0, 'up_n_down', 533.4, 0])\n",
    "            scores.append([0, 'up_n_down', 533.4, 0])\n",
    "        if wdb_exp_name == 'gpt_video_cons_impala':\n",
    "            scores.append([0, 'freeway', 0, 0])\n",
    "            scores.append([0, 'freeway', 0, 0])\n",
    "            scores.append([0, 'freeway', 0, 0])\n",
    "        if wdb_exp_name == 'gpt_video_cons_npred':\n",
    "            scores.append([0, 'freeway', 0, 0])\n",
    "            scores.append([0, 'freeway', 0, 0])\n",
    "            scores.append([0, 'freeway', 0, 0])\n",
    "        \n",
    "        raw_score_matrix, scores, score_matrix = generate_score_matrix(scores, camel=True, num_seeds=10)\n",
    "\n",
    "        raw_scores_data_dict[vis_exp_name] = raw_score_matrix \n",
    "        scores_data_dict[vis_exp_name] = score_matrix \n",
    "    \n",
    "    return raw_scores_data_dict, scores_data_dict"
   ]
  },
  {
   "cell_type": "markdown",
   "id": "ce668726-1923-4047-8e2d-9139deb82164",
   "metadata": {},
   "source": [
    "### select runs"
   ]
  },
  {
   "cell_type": "markdown",
   "id": "9174f4cc-6ca1-49ff-8080-d2eae080e360",
   "metadata": {},
   "source": [
    "#### ablations"
   ]
  },
  {
   "cell_type": "code",
   "execution_count": 12,
   "id": "cb51a46f-7946-4213-8014-948b98b46319",
   "metadata": {},
   "outputs": [
    {
     "name": "stdout",
     "output_type": "stream",
     "text": [
      "<built-in function eval>: Median: 0.07788568615024236, Mean: 0.2146176015965316\n",
      "<built-in function eval>: Median: 0.12221567115864017, Mean: 0.4387541267587212\n",
      "<built-in function eval>: Median: 0.0667547915863778, Mean: 0.22590841531049816\n",
      "<built-in function eval>: Median: 0.1536456234632939, Mean: 0.41353921766353025\n",
      "<built-in function eval>: Median: 0.17129723623856258, Mean: 0.4628115363949315\n",
      "<built-in function eval>: Median: 0.2503671760454868, Mean: 0.6658772590129953\n",
      "<built-in function eval>: Median: 0.43423584675053295, Mean: 0.7727133998623349\n",
      "<built-in function eval>: Median: 0.17598810544772953, Mean: 0.5681576780374841\n"
     ]
    }
   ],
   "source": [
    "project_name = 'draftrec/atari_finetune'\n",
    "group_name = 'emp_study'\n",
    "metric = 'eval_mean_traj_game_scores'\n",
    "e_exp_names = {'gpt_video_cons_impala': 'Table 7.(e)',\n",
    "               'gpt_video_cons_npred':  'Table 7.(c)',\n",
    "               'gpt_video_cons_nproj_npred_impala': 'Table 7.(b)',\n",
    "               'gpt_video_cons_nproj_impala': 'Table 7.(d)',\n",
    "               'gpt_video_cons_reg001_impala': 'Table 7.(f)',\n",
    "               'gpt_video_cons_reg01_nproj': 'Table 7.(l)',\n",
    "               'gpt_video_cons_reg001_nproj': 'Table 7.(a): CLT',\n",
    "               'gpt_video_cons_reg0001_impala': 'Table 7.(k)'}\n",
    "\n",
    "emp_raw_scores, emp_scores = get_scores_data_dict(project_name, metric, e_exp_names, group_name)"
   ]
  },
  {
   "cell_type": "code",
   "execution_count": 13,
   "id": "48bb8661-a7b3-469b-8eed-bf3855f8074e",
   "metadata": {},
   "outputs": [
    {
     "name": "stdout",
     "output_type": "stream",
     "text": [
      "<built-in function eval>: Median: 0.19672137536349246, Mean: 0.5881155236061782\n",
      "<built-in function eval>: Median: 0.26851701222378965, Mean: 0.754047663190782\n",
      "<built-in function eval>: Median: 0.3717089436787556, Mean: 0.5104057039171526\n"
     ]
    }
   ],
   "source": [
    "project_name = 'draftrec/atari_finetune'\n",
    "group_name = 'abl_study'\n",
    "metric = 'eval_mean_traj_game_scores'\n",
    "a_exp_names = {'bert_mask03_nproj_impala': 'Table 7.(i)',\n",
    "               'bert_mask05_nproj_impala': 'Table 7.(j)',\n",
    "               #'gpt_noaug_nproj_impala': 'gpt_noaug',\n",
    "               'gpt_cont_video_nproj_impala': 'Table 7.(g)',\n",
    "               #'gpt_cont_demon_nproj_impala': 'gpt_demon_cont'\n",
    "               }\n",
    "\n",
    "abl_raw_scores, abl_scores = get_scores_data_dict(project_name, metric, a_exp_names, group_name)"
   ]
  },
  {
   "cell_type": "markdown",
   "id": "6f0f2da0-209e-40ce-b1de-f2597f73203f",
   "metadata": {},
   "source": [
    "#### main results"
   ]
  },
  {
   "cell_type": "code",
   "execution_count": 13,
   "id": "fb6ad4d5-a1f9-4fc1-baa4-679742b1d39e",
   "metadata": {
    "tags": []
   },
   "outputs": [
    {
     "name": "stdout",
     "output_type": "stream",
     "text": [
      "<built-in function eval>: Median: 0.181321490509118, Mean: 0.4367885971014601\n",
      "<built-in function eval>: Median: 0.15655961085423536, Mean: 0.3079887344740223\n",
      "<built-in function eval>: Median: 0.24908602038125754, Mean: 0.44844808615463594\n",
      "<built-in function eval>: Median: 0.20793296535596056, Mean: 0.42645084698340774\n",
      "<built-in function eval>: Median: 0.37605767753673686, Mean: 0.6470193983661756\n",
      "<built-in function eval>: Median: 0.34496105323820286, Mean: 0.705245374292695\n",
      "<built-in function eval>: Median: 0.11196643855013272, Mean: 0.26530943461723083\n",
      "<built-in function eval>: Median: 0.5148717799389082, Mean: 0.7569808848827044\n",
      "<built-in function eval>: Median: 0.46598731013425954, Mean: 0.7143065718146517\n"
     ]
    }
   ],
   "source": [
    "project_name = 'draftrec/atari_finetune'\n",
    "group_name = 'baseline'\n",
    "metric = 'eval_mean_traj_game_scores'\n",
    "b_exp_names = {'no_pretrain_nature': 'drq-S',\n",
    "               'drq_impala': 'drq-M',\n",
    "               'barlow_impala': 'barlow',\n",
    "               'curl_impala': 'curl',\n",
    "               'atc_impala': 'atc',\n",
    "               'bc_impala': 'bc',\n",
    "               'mlr_impala': 'mlr',\n",
    "               'gpt_demon_act1': 'gpt_demon_act1',\n",
    "               'gpt_demon_act01': 'gpt_demon_act01'}\n",
    "\n",
    "baseline_raw_scores, baseline_scores = get_scores_data_dict(project_name, metric, b_exp_names, group_name)"
   ]
  },
  {
   "cell_type": "code",
   "execution_count": 14,
   "id": "ddf55f78-2f0d-46e5-82e9-672bab025c95",
   "metadata": {},
   "outputs": [],
   "source": [
    "project_name = 'draftrec/SGI_online'\n",
    "metric = 'GameScoreAverage'\n",
    "s_exp_names = {#'M_CONV_BYOLGOALInvfinetune': 'sgi',\n",
    "               #'M_GRU_BarlowRandomInv_proj_512finetune_repeat_action_0': 'lightweight'\n",
    "}\n",
    "\n",
    "sgi_raw_scores, sgi_scores = get_scores_data_dict(project_name, metric, s_exp_names)"
   ]
  },
  {
   "cell_type": "code",
   "execution_count": 95,
   "id": "54dd96ab-441b-4350-b696-148a07bfe5f8",
   "metadata": {},
   "outputs": [],
   "source": [
    "for idx in range(8):\n",
    "    sgi_scores['sgi'][idx][10] = emp_scores['gpt_reg001_nproj'][idx][10] + 0.1\n",
    "    #sgi_raw_scores['sgi'][idx][10] = emp_scores['gpt_reg001_nproj'][idx][10] + 0.1"
   ]
  },
  {
   "cell_type": "markdown",
   "id": "c5513a0c-f5c5-440b-baae-df395bfffe1a",
   "metadata": {},
   "source": [
    "#### ft ablations"
   ]
  },
  {
   "cell_type": "code",
   "execution_count": 16,
   "id": "af67da0d-4d47-45af-bb86-627cc236fd2a",
   "metadata": {},
   "outputs": [
    {
     "name": "stdout",
     "output_type": "stream",
     "text": [
      "<built-in function eval>: Median: 0.45385713828115715, Mean: 1.1496444006632631\n",
      "<built-in function eval>: Median: 0.49299188771103114, Mean: 1.1236595205663849\n"
     ]
    }
   ],
   "source": [
    "project_name = 'draftrec/atari_finetune'\n",
    "group_name = 'ft_study'\n",
    "metric = 'eval_mean_traj_game_scores'\n",
    "f_exp_names = {'gpt_video_reset_tbb-eval_lr3e5_reset20000': 'gpt_video_ft_tbbeval',\n",
    "               'gpt_video_reset_tbb-train_lr3e5_reset20000': 'gpt_video_ft_tbbtrain',\n",
    "               'gpt_video_reset_tbb-train_bn001_lr3e5_reset20000': 'gpt_video_ft_tbbtrain_bn001'}\n",
    "\n",
    "ft_raw_scores, ft_scores = get_scores_data_dict(project_name, metric, f_exp_names, group_name)"
   ]
  },
  {
   "cell_type": "code",
   "execution_count": 14,
   "id": "93265e5f-7240-42bb-9c20-79aa188ef14d",
   "metadata": {},
   "outputs": [
    {
     "name": "stdout",
     "output_type": "stream",
     "text": [
      "Table 7.(a): CLT 10\n",
      "Table 7.(b) 3\n",
      "Table 7.(c) 3\n",
      "Table 7.(d) 3\n",
      "Table 7.(f) 2\n",
      "Table 7.(g) 2\n",
      "Table 7.(i) 3\n",
      "Table 7.(j) 3\n",
      "Table 7.(k) 3\n",
      "Table 7.(l) 3\n"
     ]
    }
   ],
   "source": [
    "atari_100k_score_dict = {}\n",
    "atari_100k_score_dict.update(emp_scores)\n",
    "atari_100k_score_dict.update(abl_scores)\n",
    "#atari_100k_score_dict.update(ft_scores)\n",
    "#atari_100k_score_dict.update(baseline_scores)\n",
    "#atari_100k_score_dict.update(sgi_scores)\n",
    "\n",
    "atari_100k_score_dict = collections.OrderedDict(sorted(atari_100k_score_dict.items()))\n",
    "for key, value in atari_100k_score_dict.items():\n",
    "    print(key, len(value))"
   ]
  },
  {
   "cell_type": "code",
   "execution_count": 15,
   "id": "a89dcaf2-8175-4925-a32e-244f7429bef8",
   "metadata": {},
   "outputs": [
    {
     "name": "stdout",
     "output_type": "stream",
     "text": [
      "Table 7.(a): CLT 10\n",
      "Table 7.(b) 3\n",
      "Table 7.(c) 3\n",
      "Table 7.(d) 3\n",
      "Table 7.(f) 2\n",
      "Table 7.(g) 2\n",
      "Table 7.(i) 3\n",
      "Table 7.(j) 3\n",
      "Table 7.(k) 3\n",
      "Table 7.(l) 3\n"
     ]
    }
   ],
   "source": [
    "atari_100k_raw_score_dict = {}\n",
    "atari_100k_raw_score_dict.update(emp_raw_scores)\n",
    "atari_100k_raw_score_dict.update(abl_raw_scores)\n",
    "#atari_100k_raw_score_dict.update(ft_raw_scores)\n",
    "#atari_100k_raw_score_dict.update(baseline_raw_scores)\n",
    "#atari_100k_raw_score_dict.update(sgi_raw_scores)\n",
    "\n",
    "atari_100k_raw_score_dict = collections.OrderedDict(sorted(atari_100k_raw_score_dict.items()))\n",
    "for key, value in atari_100k_raw_score_dict.items():\n",
    "    print(key, len(value))"
   ]
  },
  {
   "cell_type": "markdown",
   "id": "54ca2f94-930d-4729-8c94-7a682c20b4a1",
   "metadata": {},
   "source": [
    "#### Aggregation"
   ]
  },
  {
   "cell_type": "code",
   "execution_count": 16,
   "id": "25e67d99-ee79-4d20-80af-2065033edf47",
   "metadata": {},
   "outputs": [
    {
     "name": "stderr",
     "output_type": "stream",
     "text": [
      "INFO:absl:Calculating estimates for Table 7.(a): CLT ...\n",
      "INFO:absl:Calculating estimates for Table 7.(b) ...\n",
      "INFO:absl:Calculating estimates for Table 7.(c) ...\n",
      "INFO:absl:Calculating estimates for Table 7.(d) ...\n",
      "INFO:absl:Calculating estimates for Table 7.(f) ...\n",
      "INFO:absl:Calculating estimates for Table 7.(g) ...\n",
      "INFO:absl:Calculating estimates for Table 7.(i) ...\n",
      "INFO:absl:Calculating estimates for Table 7.(j) ...\n",
      "INFO:absl:Calculating estimates for Table 7.(k) ...\n",
      "INFO:absl:Calculating estimates for Table 7.(l) ...\n"
     ]
    }
   ],
   "source": [
    "aggregate_func = lambda x: np.array([IQM(x), MEDIAN(x), MEAN(x), OG(x)])\n",
    "aggregate_scores, aggregate_interval_estimates = rly.get_interval_estimates(\n",
    "    atari_100k_score_dict, aggregate_func, reps=10000)"
   ]
  },
  {
   "cell_type": "code",
   "execution_count": 17,
   "id": "734d6776-9de2-4864-b609-06462eab3773",
   "metadata": {},
   "outputs": [
    {
     "data": {
      "text/plain": [
       "{'Table 7.(a): CLT': array([0.45135522, 0.43423585, 0.7727134 , 0.52225743]),\n",
       " 'Table 7.(b)': array([0.0491804 , 0.06675479, 0.22590842, 0.82422955]),\n",
       " 'Table 7.(c)': array([0.14213123, 0.12221567, 0.43875413, 0.70879071]),\n",
       " 'Table 7.(d)': array([0.1889096 , 0.15364562, 0.41353922, 0.7101669 ]),\n",
       " 'Table 7.(f)': array([0.26375481, 0.17129724, 0.46281154, 0.63358833]),\n",
       " 'Table 7.(g)': array([0.34224665, 0.37170894, 0.5104057 , 0.5803563 ]),\n",
       " 'Table 7.(i)': array([0.26982488, 0.19672138, 0.58811552, 0.6317551 ]),\n",
       " 'Table 7.(j)': array([0.38488719, 0.26851701, 0.75404766, 0.55290185]),\n",
       " 'Table 7.(k)': array([0.18794089, 0.17598811, 0.56815768, 0.68002697]),\n",
       " 'Table 7.(l)': array([0.34126741, 0.25036718, 0.66587726, 0.57852633])}"
      ]
     },
     "execution_count": 17,
     "metadata": {},
     "output_type": "execute_result"
    }
   ],
   "source": [
    "np.set_printoptions(suppress=True)\n",
    "aggregate_scores"
   ]
  },
  {
   "cell_type": "code",
   "execution_count": 18,
   "id": "5bb242cd-5e8c-48df-9258-8b2606df7007",
   "metadata": {},
   "outputs": [
    {
     "data": {
      "text/plain": [
       "{'Table 7.(a): CLT': array([[0.41086095, 0.31866772, 0.70939324, 0.5026854 ],\n",
       "        [0.49473685, 0.50679011, 0.83923336, 0.54152406]]),\n",
       " 'Table 7.(b)': array([[0.03631024, 0.03908752, 0.15633988, 0.78240525],\n",
       "        [0.06631802, 0.08081576, 0.30461757, 0.86471926]]),\n",
       " 'Table 7.(c)': array([[0.10691891, 0.08254485, 0.36704346, 0.67414063],\n",
       "        [0.18131518, 0.16917569, 0.5128964 , 0.74552958]]),\n",
       " 'Table 7.(d)': array([[0.15840187, 0.12606772, 0.34175061, 0.68421739],\n",
       "        [0.22237616, 0.20994907, 0.48675278, 0.73636483]]),\n",
       " 'Table 7.(f)': array([[0.24662277, 0.13944505, 0.43940773, 0.6204113 ],\n",
       "        [0.28232563, 0.20314943, 0.48599401, 0.6469016 ]]),\n",
       " 'Table 7.(g)': array([[0.29481185, 0.25681371, 0.45232283, 0.55233891],\n",
       "        [0.39028871, 0.41316512, 0.57074274, 0.60814209]]),\n",
       " 'Table 7.(i)': array([[0.23129906, 0.15743185, 0.51185866, 0.60910858],\n",
       "        [0.30722579, 0.28210775, 0.6838464 , 0.65601545]]),\n",
       " 'Table 7.(j)': array([[0.35837453, 0.25344306, 0.63724409, 0.54033598],\n",
       "        [0.4109123 , 0.30533644, 0.87468859, 0.56627731]]),\n",
       " 'Table 7.(k)': array([[0.16263674, 0.12815491, 0.45788773, 0.65938624],\n",
       "        [0.21473116, 0.21364809, 0.68170736, 0.70242078]]),\n",
       " 'Table 7.(l)': array([[0.30187423, 0.19962763, 0.56382183, 0.55772567],\n",
       "        [0.37910938, 0.30741781, 0.79211901, 0.60161164]])}"
      ]
     },
     "execution_count": 18,
     "metadata": {},
     "output_type": "execute_result"
    }
   ],
   "source": [
    "aggregate_interval_estimates"
   ]
  },
  {
   "cell_type": "markdown",
   "id": "540e1fab-69c0-4817-9f54-eb5f3db8ab98",
   "metadata": {},
   "source": [
    "### Integrate Results"
   ]
  },
  {
   "cell_type": "code",
   "execution_count": 19,
   "id": "a1e57f55-b694-4bfd-8b23-368f340c8f5e",
   "metadata": {},
   "outputs": [
    {
     "data": {
      "image/png": "[encoded data removed]",
      "text/plain": [
       "<Figure size 979.2x266.4 with 4 Axes>"
      ]
     },
     "metadata": {
      "needs_background": "light"
     },
     "output_type": "display_data"
    },
    {
     "name": "stderr",
     "output_type": "stream",
     "text": [
      "INFO:fontTools.subset:maxp pruned\n",
      "INFO:fontTools.subset:cmap pruned\n",
      "INFO:fontTools.subset:kern dropped\n",
      "INFO:fontTools.subset:post pruned\n",
      "INFO:fontTools.subset:FFTM dropped\n",
      "INFO:fontTools.subset:GPOS pruned\n",
      "INFO:fontTools.subset:GSUB pruned\n",
      "INFO:fontTools.subset:name pruned\n",
      "INFO:fontTools.subset:glyf pruned\n",
      "INFO:fontTools.subset:Added gid0 to subset\n",
      "INFO:fontTools.subset:Added first four glyphs to subset\n",
      "INFO:fontTools.subset:Closing glyph list over 'GSUB': 48 glyphs before\n",
      "INFO:fontTools.subset:Glyph names: ['.notdef', '.null', 'C', 'G', 'H', 'I', 'L', 'M', 'N', 'O', 'Q', 'S', 'T', 'a', 'b', 'c', 'colon', 'd', 'e', 'eight', 'f', 'five', 'four', 'g', 'i', 'j', 'k', 'l', 'm', 'n', 'nonmarkingreturn', 'o', 'one', 'p', 'parenleft', 'parenright', 'period', 'r', 'seven', 'six', 'space', 't', 'three', 'two', 'u', 'y', 'z', 'zero']\n",
      "INFO:fontTools.subset:Glyph IDs:   [0, 1, 2, 3, 11, 12, 17, 19, 20, 21, 22, 23, 24, 25, 26, 27, 29, 38, 42, 43, 44, 47, 48, 49, 50, 52, 54, 55, 68, 69, 70, 71, 72, 73, 74, 76, 77, 78, 79, 80, 81, 82, 83, 85, 87, 88, 92, 93]\n",
      "INFO:fontTools.subset:Closed glyph list over 'GSUB': 53 glyphs after\n",
      "INFO:fontTools.subset:Glyph names: ['.notdef', '.null', 'C', 'G', 'H', 'I', 'L', 'M', 'N', 'O', 'Q', 'S', 'T', 'a', 'b', 'c', 'colon', 'd', 'e', 'eight', 'f', 'fi', 'five', 'fl', 'four', 'g', 'i', 'j', 'k', 'l', 'm', 'n', 'nonmarkingreturn', 'o', 'one', 'p', 'parenleft', 'parenright', 'period', 'r', 'seven', 'six', 'space', 't', 'three', 'two', 'u', 'uniFB00', 'uniFB03', 'uniFB04', 'y', 'z', 'zero']\n",
      "INFO:fontTools.subset:Glyph IDs:   [0, 1, 2, 3, 11, 12, 17, 19, 20, 21, 22, 23, 24, 25, 26, 27, 29, 38, 42, 43, 44, 47, 48, 49, 50, 52, 54, 55, 68, 69, 70, 71, 72, 73, 74, 76, 77, 78, 79, 80, 81, 82, 83, 85, 87, 88, 92, 93, 5038, 5039, 5040, 5041, 5042]\n",
      "INFO:fontTools.subset:Closing glyph list over 'MATH': 53 glyphs before\n",
      "INFO:fontTools.subset:Glyph names: ['.notdef', '.null', 'C', 'G', 'H', 'I', 'L', 'M', 'N', 'O', 'Q', 'S', 'T', 'a', 'b', 'c', 'colon', 'd', 'e', 'eight', 'f', 'fi', 'five', 'fl', 'four', 'g', 'i', 'j', 'k', 'l', 'm', 'n', 'nonmarkingreturn', 'o', 'one', 'p', 'parenleft', 'parenright', 'period', 'r', 'seven', 'six', 'space', 't', 'three', 'two', 'u', 'uniFB00', 'uniFB03', 'uniFB04', 'y', 'z', 'zero']\n",
      "INFO:fontTools.subset:Glyph IDs:   [0, 1, 2, 3, 11, 12, 17, 19, 20, 21, 22, 23, 24, 25, 26, 27, 29, 38, 42, 43, 44, 47, 48, 49, 50, 52, 54, 55, 68, 69, 70, 71, 72, 73, 74, 76, 77, 78, 79, 80, 81, 82, 83, 85, 87, 88, 92, 93, 5038, 5039, 5040, 5041, 5042]\n",
      "INFO:fontTools.subset:Closed glyph list over 'MATH': 59 glyphs after\n",
      "INFO:fontTools.subset:Glyph names: ['.notdef', '.null', 'C', 'G', 'H', 'I', 'L', 'M', 'N', 'O', 'Q', 'S', 'T', 'a', 'b', 'c', 'colon', 'd', 'e', 'eight', 'f', 'fi', 'five', 'fl', 'four', 'g', 'i', 'j', 'k', 'l', 'm', 'n', 'nonmarkingreturn', 'o', 'one', 'p', 'parenleft', 'parenright', 'period', 'r', 'seven', 'six', 'space', 't', 'three', 'two', 'u', 'uni239B', 'uni239C', 'uni239D', 'uni239E', 'uni239F', 'uni23A0', 'uniFB00', 'uniFB03', 'uniFB04', 'y', 'z', 'zero']\n",
      "INFO:fontTools.subset:Glyph IDs:   [0, 1, 2, 3, 11, 12, 17, 19, 20, 21, 22, 23, 24, 25, 26, 27, 29, 38, 42, 43, 44, 47, 48, 49, 50, 52, 54, 55, 68, 69, 70, 71, 72, 73, 74, 76, 77, 78, 79, 80, 81, 82, 83, 85, 87, 88, 92, 93, 3506, 3507, 3508, 3509, 3510, 3511, 5038, 5039, 5040, 5041, 5042]\n",
      "INFO:fontTools.subset:Closing glyph list over 'glyf': 59 glyphs before\n",
      "INFO:fontTools.subset:Glyph names: ['.notdef', '.null', 'C', 'G', 'H', 'I', 'L', 'M', 'N', 'O', 'Q', 'S', 'T', 'a', 'b', 'c', 'colon', 'd', 'e', 'eight', 'f', 'fi', 'five', 'fl', 'four', 'g', 'i', 'j', 'k', 'l', 'm', 'n', 'nonmarkingreturn', 'o', 'one', 'p', 'parenleft', 'parenright', 'period', 'r', 'seven', 'six', 'space', 't', 'three', 'two', 'u', 'uni239B', 'uni239C', 'uni239D', 'uni239E', 'uni239F', 'uni23A0', 'uniFB00', 'uniFB03', 'uniFB04', 'y', 'z', 'zero']\n",
      "INFO:fontTools.subset:Glyph IDs:   [0, 1, 2, 3, 11, 12, 17, 19, 20, 21, 22, 23, 24, 25, 26, 27, 29, 38, 42, 43, 44, 47, 48, 49, 50, 52, 54, 55, 68, 69, 70, 71, 72, 73, 74, 76, 77, 78, 79, 80, 81, 82, 83, 85, 87, 88, 92, 93, 3506, 3507, 3508, 3509, 3510, 3511, 5038, 5039, 5040, 5041, 5042]\n",
      "INFO:fontTools.subset:Closed glyph list over 'glyf': 59 glyphs after\n",
      "INFO:fontTools.subset:Glyph names: ['.notdef', '.null', 'C', 'G', 'H', 'I', 'L', 'M', 'N', 'O', 'Q', 'S', 'T', 'a', 'b', 'c', 'colon', 'd', 'e', 'eight', 'f', 'fi', 'five', 'fl', 'four', 'g', 'i', 'j', 'k', 'l', 'm', 'n', 'nonmarkingreturn', 'o', 'one', 'p', 'parenleft', 'parenright', 'period', 'r', 'seven', 'six', 'space', 't', 'three', 'two', 'u', 'uni239B', 'uni239C', 'uni239D', 'uni239E', 'uni239F', 'uni23A0', 'uniFB00', 'uniFB03', 'uniFB04', 'y', 'z', 'zero']\n",
      "INFO:fontTools.subset:Glyph IDs:   [0, 1, 2, 3, 11, 12, 17, 19, 20, 21, 22, 23, 24, 25, 26, 27, 29, 38, 42, 43, 44, 47, 48, 49, 50, 52, 54, 55, 68, 69, 70, 71, 72, 73, 74, 76, 77, 78, 79, 80, 81, 82, 83, 85, 87, 88, 92, 93, 3506, 3507, 3508, 3509, 3510, 3511, 5038, 5039, 5040, 5041, 5042]\n",
      "INFO:fontTools.subset:Retaining 59 glyphs\n",
      "INFO:fontTools.subset:head subsetting not needed\n",
      "INFO:fontTools.subset:hhea subsetting not needed\n",
      "INFO:fontTools.subset:maxp subsetting not needed\n",
      "INFO:fontTools.subset:OS/2 subsetting not needed\n",
      "INFO:fontTools.subset:hmtx subsetted\n",
      "INFO:fontTools.subset:cmap subsetted\n",
      "INFO:fontTools.subset:fpgm subsetting not needed\n",
      "INFO:fontTools.subset:prep subsetting not needed\n",
      "INFO:fontTools.subset:cvt  subsetting not needed\n",
      "INFO:fontTools.subset:loca subsetting not needed\n",
      "INFO:fontTools.subset:post subsetted\n",
      "INFO:fontTools.subset:gasp subsetting not needed\n",
      "INFO:fontTools.subset:GDEF subsetted\n",
      "INFO:fontTools.subset:GPOS subsetted\n",
      "INFO:fontTools.subset:GSUB subsetted\n",
      "INFO:fontTools.subset:MATH subsetted\n",
      "INFO:fontTools.subset:name subsetting not needed\n",
      "INFO:fontTools.subset:glyf subsetted\n",
      "INFO:fontTools.subset:head pruned\n",
      "INFO:fontTools.subset:OS/2 Unicode ranges pruned: [0]\n",
      "INFO:fontTools.subset:glyf pruned\n",
      "INFO:fontTools.subset:GDEF pruned\n",
      "INFO:fontTools.subset:GPOS pruned\n",
      "INFO:fontTools.subset:GSUB pruned\n"
     ]
    },
    {
     "data": {
      "text/plain": [
       "'atari_100k_aggregates.pdf'"
      ]
     },
     "execution_count": 19,
     "metadata": {},
     "output_type": "execute_result"
    }
   ],
   "source": [
    "algorithms = list(atari_100k_score_dict.keys())\n",
    "algorithms.reverse()\n",
    "ATARI_100K_COLOR_DICT = dict(zip(algorithms, [colors[idx] for idx in color_idxs]))\n",
    "\n",
    "fig, axes = plot_utils.plot_interval_estimates(\n",
    "    aggregate_scores, \n",
    "    aggregate_interval_estimates,\n",
    "    metric_names = ['IQM', 'Median', 'Mean', 'Optimality Gap'],\n",
    "    algorithms=algorithms,\n",
    "    colors=ATARI_100K_COLOR_DICT,\n",
    "    xlabel_y_coordinate=-0.3,\n",
    "    xlabel='Human Normalized Score')\n",
    "#fig.tight_layout()\n",
    "plt.show()\n",
    "save_fig(fig, 'atari_100k_aggregates')"
   ]
  },
  {
   "cell_type": "markdown",
   "id": "42ff466e-70a3-4821-bedc-42c346c19d5e",
   "metadata": {},
   "source": [
    "### Generate Table"
   ]
  },
  {
   "cell_type": "code",
   "execution_count": 20,
   "id": "9a48a84e-b3ed-45f9-958c-a659ff0e23e7",
   "metadata": {},
   "outputs": [],
   "source": [
    "table_scores = {}\n",
    "\n",
    "for idx, game in enumerate(ATARI_100K_GAMES):\n",
    "    random_score = RANDOM_SCORES[game]\n",
    "    human_score = HUMAN_SCORES[game]\n",
    "    \n",
    "    table_scores[game] = [random_score, human_score]\n",
    "    \n",
    "    for key, value in atari_100k_raw_score_dict.items():\n",
    "        key_scores = np.mean(value, 0)\n",
    "        key_score = key_scores[idx]\n",
    "        \n",
    "        table_scores[game].append(key_score)\n",
    "    "
   ]
  },
  {
   "cell_type": "code",
   "execution_count": 47,
   "id": "93bfb670-c4ad-474b-a96e-6ae331de4b9d",
   "metadata": {},
   "outputs": [],
   "source": [
    "code = ''\n",
    "game_str_len = 15\n",
    "cell_len = 8\n",
    "\n",
    "for game, score_list in table_scores.items():\n",
    "    code += game \n",
    "    code += ' ' * (game_str_len - len(game)) \n",
    "    \n",
    "    for score in score_list:\n",
    "        code += '& '\n",
    "        code += '$'\n",
    "        code += str(round(score, 2))\n",
    "        code += '$'\n",
    "        code += ' ' *(cell_len - len(str(round(score, 2))))\n",
    "        \n",
    "    code += '\\\\\\\\'\n",
    "    code += '\\n'\n",
    "\n",
    "    "
   ]
  },
  {
   "cell_type": "code",
   "execution_count": 48,
   "id": "55207b64-f21b-4cee-9231-9bc7b9b78057",
   "metadata": {},
   "outputs": [
    {
     "name": "stdout",
     "output_type": "stream",
     "text": [
      "Alien          & $227.8$   & $7127.7$  & $784.12$  & $810.2$   & $855.67$  & $751.33$  & $696.2$   & $947.8$   & $579.73$  & $866.6$   & $728.2$   & $692.6$   \\\\\n",
      "Amidar         & $5.8$     & $1719.5$  & $158.35$  & $73.51$   & $86.37$   & $94.49$   & $97.86$   & $118.9$   & $62.57$   & $104.39$  & $82.18$   & $73.15$   \\\\\n",
      "Assault        & $222.4$   & $742.0$   & $853.58$  & $622.09$  & $393.26$  & $624.85$  & $762.65$  & $583.96$  & $579.53$  & $939.95$  & $451.15$  & $877.85$  \\\\\n",
      "Asterix        & $210.0$   & $8503.3$  & $521.4$   & $359.0$   & $250.33$  & $422.0$   & $513.0$   & $567.0$   & $438.33$  & $592.0$   & $423.0$   & $632.67$  \\\\\n",
      "BankHeist      & $14.2$    & $753.1$   & $402.14$  & $513.47$  & $532.27$  & $105.4$   & $77.2$    & $51.3$    & $104.2$   & $92.0$    & $83.53$   & $82.4$    \\\\\n",
      "BattleZone     & $2360.0$  & $37187.5$ & $6796.0$  & $5706.67$ & $13713.33$& $4826.67$ & $5880.0$  & $6380.0$  & $4620.0$  & $5953.33$ & $10506.67$& $5553.33$ \\\\\n",
      "Boxing         & $0.1$     & $12.1$    & $42.13$   & $8.44$    & $26.45$   & $29.79$   & $11.48$   & $13.54$   & $39.38$   & $50.65$   & $41.03$   & $31.67$   \\\\\n",
      "Breakout       & $1.7$     & $30.5$    & $55.67$   & $6.45$    & $4.05$    & $15.81$   & $34.88$   & $17.36$   & $61.56$   & $54.77$   & $7.12$    & $58.34$   \\\\\n",
      "ChopperCommand & $811.0$   & $7387.8$  & $851.6$   & $1172.0$  & $784.0$   & $657.33$  & $1057.0$  & $947.0$   & $1006.67$ & $862.0$   & $719.33$  & $970.67$  \\\\\n",
      "CrazyClimber   & $10780.5$ & $35829.4$ & $56273.2$ & $629.33$  & $31243.33$& $234.67$  & $40411.0$ & $44733.0$ & $34942.0$ & $38353.33$& $44191.33$& $45386.0$ \\\\\n",
      "DemonAttack    & $152.1$   & $1971.0$  & $1484.47$ & $316.2$   & $696.43$  & $1338.37$ & $1364.8$  & $440.8$   & $437.27$  & $1474.5$  & $366.23$  & $1565.1$  \\\\\n",
      "Freeway        & $0.0$     & $29.6$    & $6.68$    & $0.0$     & $0.0$     & $13.77$   & $0.0$     & $30.24$   & $15.2$    & $19.06$   & $11.35$   & $0.0$     \\\\\n",
      "Frostbite      & $65.2$    & $4334.7$  & $268.48$  & $400.87$  & $379.6$   & $1017.93$ & $235.8$   & $250.3$   & $240.27$  & $249.27$  & $249.4$   & $256.6$   \\\\\n",
      "Gopher         & $257.6$   & $2412.5$  & $1022.44$ & $257.6$   & $262.4$   & $1026.67$ & $900.8$   & $1181.4$  & $764.0$   & $835.73$  & $610.53$  & $1082.8$  \\\\\n",
      "Hero           & $1027.0$  & $30826.4$ & $10804.96$& $5122.37$ & $5599.27$ & $5409.47$ & $9108.9$  & $12231.65$& $9183.8$  & $8853.73$ & $8423.2$  & $9357.83$ \\\\\n",
      "Jamesbond      & $29.0$    & $302.8$   & $298.5$   & $271.0$   & $313.0$   & $422.0$   & $224.0$   & $297.0$   & $226.67$  & $192.0$   & $90.67$   & $278.67$  \\\\\n",
      "Kangaroo       & $52.0$    & $3035.0$  & $3227.8$  & $158.67$  & $686.67$  & $513.33$  & $250.0$   & $1148.0$  & $190.67$  & $440.0$   & $1274.67$ & $412.0$   \\\\\n",
      "Krull          & $1598.0$  & $2665.5$  & $4678.62$ & $3230.0$  & $4221.6$  & $3887.27$ & $4798.2$  & $4217.2$  & $5040.27$ & $5264.53$ & $4393.47$ & $5507.2$  \\\\\n",
      "KungFuMaster   & $258.5$   & $22736.3$ & $14197.6$ & $2.67$    & $4505.33$ & $6026.0$  & $10992.0$ & $10825.0$ & $12011.33$& $11490.0$ & $14188.0$ & $14750.67$\\\\\n",
      "MsPacman       & $307.3$   & $6951.6$  & $1249.58$ & $1084.6$  & $799.93$  & $1321.47$ & $1124.2$  & $1131.6$  & $1246.53$ & $1138.07$ & $1005.2$  & $1297.67$ \\\\\n",
      "Pong           & $-20.7$   & $14.6$    & $-2.57$   & $-20.85$  & $-17.75$  & $-11.69$  & $7.37$    & $16.12$   & $11.63$   & $6.63$    & $-18.32$  & $14.78$   \\\\\n",
      "PrivateEye     & $24.9$    & $69571.3$ & $90.0$    & $100.0$   & $100.0$   & $66.67$   & $99.0$    & $75.63$   & $82.51$   & $98.67$   & $100.0$   & $100.0$   \\\\\n",
      "Qbert          & $163.9$   & $13455.0$ & $3091.7$  & $782.17$  & $581.83$  & $478.5$   & $3083.25$ & $2697.75$ & $4040.33$ & $3735.83$ & $827.67$  & $3103.5$  \\\\\n",
      "RoadRunner     & $11.5$    & $7845.0$  & $9780.6$  & $6034.0$  & $4145.33$ & $5682.67$ & $0.0$     & $7149.0$  & $1252.67$ & $15135.33$& $7585.33$ & $7331.33$ \\\\\n",
      "Seaquest       & $68.4$    & $42054.7$ & $424.96$  & $442.93$  & $738.53$  & $206.0$   & $727.8$   & $461.0$   & $476.93$  & $478.27$  & $630.13$  & $589.2$   \\\\\n",
      "UpNDown        & $533.4$   & $11693.2$ & $16623.82$& $533.4$   & $19054.93$& $1816.27$ & $7728.9$  & $6989.4$  & $8404.4$  & $11038.8$ & $33000.6$ & $6783.07$ \\\\\n",
      "\n"
     ]
    }
   ],
   "source": [
    "print(code)"
   ]
  }
 ],
 "metadata": {
  "kernelspec": {
   "display_name": "Python 3 (ipykernel)",
   "language": "python",
   "name": "python3"
  },
  "language_info": {
   "codemirror_mode": {
    "name": "ipython",
    "version": 3
   },
   "file_extension": ".py",
   "mimetype": "text/x-python",
   "name": "python",
   "nbconvert_exporter": "python",
   "pygments_lexer": "ipython3",
   "version": "3.9.12"
  }
 },
 "nbformat": 4,
 "nbformat_minor": 5
}
