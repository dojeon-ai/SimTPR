{
 "cells": [
  {
   "cell_type": "markdown",
   "id": "eb04bdff-90a8-4ec1-a223-7ec7478b6b7b",
   "metadata": {},
   "source": [
    "### Get results from Wandb"
   ]
  },
  {
   "cell_type": "code",
   "execution_count": 1,
   "id": "e5db1e9d-e012-4e52-a1c8-f7a72ee78bd0",
   "metadata": {},
   "outputs": [],
   "source": [
    "import pandas as pd \n",
    "import wandb\n",
    "api = wandb.Api()\n",
    "\n",
    "# Project is specified by <entity/project-name>\n",
    "runs = api.runs(\"draftrec/atari_pretrain\")\n",
    "\n",
    "summary_list, config_list, id_list = [], [], []\n",
    "for run in runs: \n",
    "    # .summary contains the output keys/values for metrics like accuracy.\n",
    "    #  We call ._json_dict to omit large files \n",
    "    summary_list.append(run.summary._json_dict)\n",
    "\n",
    "    # .config contains the hyperparameters.\n",
    "    #  We remove special values that start with _.\n",
    "    config_list.append(\n",
    "        {k: v for k,v in run.config.items()\n",
    "          if not k.startswith('_')})\n",
    "\n",
    "    # .name is the human-readable name of the run.\n",
    "    id_list.append(run.id)\n",
    "\n",
    "runs_df = pd.DataFrame({\n",
    "    \"summary\": summary_list,\n",
    "    \"config\": config_list,\n",
    "    \"id\": id_list,\n",
    "    })\n",
    "\n",
    "runs_df.to_csv(\"project.csv\")"
   ]
  },
  {
   "cell_type": "markdown",
   "id": "907d278c-215d-4ceb-9d39-6d8a0aec52e6",
   "metadata": {},
   "source": [
    "### Read runs"
   ]
  },
  {
   "cell_type": "code",
   "execution_count": 2,
   "id": "cf369766-e8c6-4ef5-ba10-bab9e5f9d7ba",
   "metadata": {},
   "outputs": [
    {
     "data": {
      "text/html": [
       "<div>\n",
       "<style scoped>\n",
       "    .dataframe tbody tr th:only-of-type {\n",
       "        vertical-align: middle;\n",
       "    }\n",
       "\n",
       "    .dataframe tbody tr th {\n",
       "        vertical-align: top;\n",
       "    }\n",
       "\n",
       "    .dataframe thead th {\n",
       "        text-align: right;\n",
       "    }\n",
       "</style>\n",
       "<table border=\"1\" class=\"dataframe\">\n",
       "  <thead>\n",
       "    <tr style=\"text-align: right;\">\n",
       "      <th></th>\n",
       "      <th>summary</th>\n",
       "      <th>config</th>\n",
       "      <th>id</th>\n",
       "    </tr>\n",
       "  </thead>\n",
       "  <tbody>\n",
       "    <tr>\n",
       "      <th>0</th>\n",
       "      <td>{}</td>\n",
       "      <td>{'env': {'game': 'Assault', 'type': 'atari', '...</td>\n",
       "      <td>1bescnbb</td>\n",
       "    </tr>\n",
       "    <tr>\n",
       "      <th>1</th>\n",
       "      <td>{'_wandb': {'runtime': 1}}</td>\n",
       "      <td>{}</td>\n",
       "      <td>31v22138</td>\n",
       "    </tr>\n",
       "    <tr>\n",
       "      <th>2</th>\n",
       "      <td>{'act_f1': 0.13352366218750464, 'act_acc': 0.4...</td>\n",
       "      <td>{'env': {'game': 'Alien', 'type': 'atari', 'fr...</td>\n",
       "      <td>8c31f8r6</td>\n",
       "    </tr>\n",
       "    <tr>\n",
       "      <th>3</th>\n",
       "      <td>{}</td>\n",
       "      <td>{'env': {'game': 'Alien', 'type': 'atari', 'fr...</td>\n",
       "      <td>1p9xxn3k</td>\n",
       "    </tr>\n",
       "    <tr>\n",
       "      <th>4</th>\n",
       "      <td>{}</td>\n",
       "      <td>{'env': {'game': 'Alien', 'type': 'atari', 'fr...</td>\n",
       "      <td>2a9rf0va</td>\n",
       "    </tr>\n",
       "    <tr>\n",
       "      <th>...</th>\n",
       "      <td>...</td>\n",
       "      <td>...</td>\n",
       "      <td>...</td>\n",
       "    </tr>\n",
       "    <tr>\n",
       "      <th>719</th>\n",
       "      <td>{'negative_sim': 0.04744461342226714, 'pos_neg...</td>\n",
       "      <td>{'env': {'game': 'pong', 'type': 'atari', 'hor...</td>\n",
       "      <td>5zlpym7v</td>\n",
       "    </tr>\n",
       "    <tr>\n",
       "      <th>720</th>\n",
       "      <td>{'_step': 117001, '_wandb': {'runtime': 18252}...</td>\n",
       "      <td>{'env': {'game': 'pong', 'type': 'atari', 'hor...</td>\n",
       "      <td>3oh4f4sw</td>\n",
       "    </tr>\n",
       "    <tr>\n",
       "      <th>721</th>\n",
       "      <td>{'negative_sim': 0.18186782717704772, 'pos_neg...</td>\n",
       "      <td>{'env': {'game': 'pong', 'type': 'atari', 'hor...</td>\n",
       "      <td>385p3sw7</td>\n",
       "    </tr>\n",
       "    <tr>\n",
       "      <th>722</th>\n",
       "      <td>{'positive_sim': 0.9873969799280168, 'loss': -...</td>\n",
       "      <td>{'env': {'game': 'pong', 'type': 'atari', 'hor...</td>\n",
       "      <td>njf5gwab</td>\n",
       "    </tr>\n",
       "    <tr>\n",
       "      <th>723</th>\n",
       "      <td>{'negative_sim': 0.1355766636878252, 'pos_neg_...</td>\n",
       "      <td>{'env': {'game': 'pong', 'type': 'atari', 'hor...</td>\n",
       "      <td>nqsb1fxl</td>\n",
       "    </tr>\n",
       "  </tbody>\n",
       "</table>\n",
       "<p>724 rows × 3 columns</p>\n",
       "</div>"
      ],
      "text/plain": [
       "                                               summary  \\\n",
       "0                                                   {}   \n",
       "1                           {'_wandb': {'runtime': 1}}   \n",
       "2    {'act_f1': 0.13352366218750464, 'act_acc': 0.4...   \n",
       "3                                                   {}   \n",
       "4                                                   {}   \n",
       "..                                                 ...   \n",
       "719  {'negative_sim': 0.04744461342226714, 'pos_neg...   \n",
       "720  {'_step': 117001, '_wandb': {'runtime': 18252}...   \n",
       "721  {'negative_sim': 0.18186782717704772, 'pos_neg...   \n",
       "722  {'positive_sim': 0.9873969799280168, 'loss': -...   \n",
       "723  {'negative_sim': 0.1355766636878252, 'pos_neg_...   \n",
       "\n",
       "                                                config        id  \n",
       "0    {'env': {'game': 'Assault', 'type': 'atari', '...  1bescnbb  \n",
       "1                                                   {}  31v22138  \n",
       "2    {'env': {'game': 'Alien', 'type': 'atari', 'fr...  8c31f8r6  \n",
       "3    {'env': {'game': 'Alien', 'type': 'atari', 'fr...  1p9xxn3k  \n",
       "4    {'env': {'game': 'Alien', 'type': 'atari', 'fr...  2a9rf0va  \n",
       "..                                                 ...       ...  \n",
       "719  {'env': {'game': 'pong', 'type': 'atari', 'hor...  5zlpym7v  \n",
       "720  {'env': {'game': 'pong', 'type': 'atari', 'hor...  3oh4f4sw  \n",
       "721  {'env': {'game': 'pong', 'type': 'atari', 'hor...  385p3sw7  \n",
       "722  {'env': {'game': 'pong', 'type': 'atari', 'hor...  njf5gwab  \n",
       "723  {'env': {'game': 'pong', 'type': 'atari', 'hor...  nqsb1fxl  \n",
       "\n",
       "[724 rows x 3 columns]"
      ]
     },
     "execution_count": 2,
     "metadata": {},
     "output_type": "execute_result"
    }
   ],
   "source": [
    "data_ = pd.read_csv('project.csv', index_col=0)\n",
    "data_"
   ]
  },
  {
   "cell_type": "markdown",
   "id": "3f6cc325-4f8a-4544-a8a1-264d2d367afc",
   "metadata": {},
   "source": [
    "### Filter based on conditions"
   ]
  },
  {
   "cell_type": "code",
   "execution_count": 3,
   "id": "59294ba8-5497-4814-a36a-0c133b78071d",
   "metadata": {},
   "outputs": [],
   "source": [
    "group_name = 'baseline_10'\n",
    "exp_name = 'bc'\n",
    "model_path = '0/100/model.pth'"
   ]
  },
  {
   "cell_type": "code",
   "execution_count": 4,
   "id": "5652ff34-3538-4b17-8908-56560c5f0179",
   "metadata": {},
   "outputs": [],
   "source": [
    "configs = data_['config']\n",
    "indexs = []\n",
    "for idx, config in enumerate(configs):\n",
    "    cfg = eval(config)\n",
    "    if len(cfg) == 0:\n",
    "        continue\n",
    "        \n",
    "    run_exp_name = cfg['exp_name']\n",
    "    run_group_name = cfg['group_name']\n",
    "\n",
    "    # condition\n",
    "    if run_exp_name == exp_name and run_group_name == group_name:\n",
    "        if 'env' in cfg:\n",
    "            indexs.append(idx)"
   ]
  },
  {
   "cell_type": "code",
   "execution_count": 5,
   "id": "cf36ab43-3f95-497e-b976-3a7fdcc4a94d",
   "metadata": {},
   "outputs": [
    {
     "name": "stdout",
     "output_type": "stream",
     "text": [
      "20\n"
     ]
    },
    {
     "name": "stderr",
     "output_type": "stream",
     "text": [
      "/tmp/ipykernel_8637/3806693401.py:5: SettingWithCopyWarning: \n",
      "A value is trying to be set on a copy of a slice from a DataFrame.\n",
      "Try using .loc[row_indexer,col_indexer] = value instead\n",
      "\n",
      "See the caveats in the documentation: https://pandas.pydata.org/pandas-docs/stable/user_guide/indexing.html#returning-a-view-versus-a-copy\n",
      "  data['env'] = envs\n"
     ]
    },
    {
     "data": {
      "text/html": [
       "<div>\n",
       "<style scoped>\n",
       "    .dataframe tbody tr th:only-of-type {\n",
       "        vertical-align: middle;\n",
       "    }\n",
       "\n",
       "    .dataframe tbody tr th {\n",
       "        vertical-align: top;\n",
       "    }\n",
       "\n",
       "    .dataframe thead th {\n",
       "        text-align: right;\n",
       "    }\n",
       "</style>\n",
       "<table border=\"1\" class=\"dataframe\">\n",
       "  <thead>\n",
       "    <tr style=\"text-align: right;\">\n",
       "      <th></th>\n",
       "      <th>summary</th>\n",
       "      <th>config</th>\n",
       "      <th>id</th>\n",
       "      <th>env</th>\n",
       "    </tr>\n",
       "  </thead>\n",
       "  <tbody>\n",
       "    <tr>\n",
       "      <th>41</th>\n",
       "      <td>{'act_acc': 0.2793156307190657, '_runtime': 33...</td>\n",
       "      <td>{'env': {'game': 'Krull', 'type': 'atari', 'fr...</td>\n",
       "      <td>31ktobwm</td>\n",
       "      <td>Krull</td>\n",
       "    </tr>\n",
       "    <tr>\n",
       "      <th>42</th>\n",
       "      <td>{'_step': 223000, 'epoch': 90, 'reward_f1': 0....</td>\n",
       "      <td>{'env': {'game': 'Kangaroo', 'type': 'atari', ...</td>\n",
       "      <td>z7un794r</td>\n",
       "      <td>Kangaroo</td>\n",
       "    </tr>\n",
       "    <tr>\n",
       "      <th>43</th>\n",
       "      <td>{'act_f1': 0.39769741833559713, '_timestamp': ...</td>\n",
       "      <td>{'env': {'game': 'KungFuMaster', 'type': 'atar...</td>\n",
       "      <td>1vg8yjnp</td>\n",
       "      <td>KungFuMaster</td>\n",
       "    </tr>\n",
       "    <tr>\n",
       "      <th>44</th>\n",
       "      <td>{'best_metric_val': 0.4311041672550959, 'epoch...</td>\n",
       "      <td>{'env': {'game': 'MsPacman', 'type': 'atari', ...</td>\n",
       "      <td>p1gfgr7u</td>\n",
       "      <td>MsPacman</td>\n",
       "    </tr>\n",
       "    <tr>\n",
       "      <th>49</th>\n",
       "      <td>{'act_acc': 0.43298441044668806, '_runtime': 3...</td>\n",
       "      <td>{'env': {'game': 'Jamesbond', 'type': 'atari',...</td>\n",
       "      <td>4ushilzk</td>\n",
       "      <td>Jamesbond</td>\n",
       "    </tr>\n",
       "    <tr>\n",
       "      <th>50</th>\n",
       "      <td>{'reward_ratio': 0.030301515075753783, 'min_gr...</td>\n",
       "      <td>{'env': {'game': 'Frostbite', 'type': 'atari',...</td>\n",
       "      <td>3u3osku0</td>\n",
       "      <td>Frostbite</td>\n",
       "    </tr>\n",
       "    <tr>\n",
       "      <th>51</th>\n",
       "      <td>{'loss': 1.4006055178200094, '_step': 234400, ...</td>\n",
       "      <td>{'env': {'game': 'Gopher', 'type': 'atari', 'f...</td>\n",
       "      <td>1rzyqidw</td>\n",
       "      <td>Gopher</td>\n",
       "    </tr>\n",
       "    <tr>\n",
       "      <th>52</th>\n",
       "      <td>{'epoch': 100, 'act_f1': 0.3277654334078916, '...</td>\n",
       "      <td>{'env': {'game': 'Hero', 'type': 'atari', 'fra...</td>\n",
       "      <td>nonskx95</td>\n",
       "      <td>Hero</td>\n",
       "    </tr>\n",
       "    <tr>\n",
       "      <th>61</th>\n",
       "      <td>{'_runtime': 35575, '_timestamp': 1666432920, ...</td>\n",
       "      <td>{'env': {'game': 'CrazyClimber', 'type': 'atar...</td>\n",
       "      <td>3w1wq49g</td>\n",
       "      <td>CrazyClimber</td>\n",
       "    </tr>\n",
       "    <tr>\n",
       "      <th>62</th>\n",
       "      <td>{'mean_grad_norm': 0.12148486369086388, 'best_...</td>\n",
       "      <td>{'env': {'game': 'Freeway', 'type': 'atari', '...</td>\n",
       "      <td>22m8imw2</td>\n",
       "      <td>Freeway</td>\n",
       "    </tr>\n",
       "    <tr>\n",
       "      <th>63</th>\n",
       "      <td>{'loss': 1.3032258285914446, 'reward_f1': 0.42...</td>\n",
       "      <td>{'env': {'game': 'DemonAttack', 'type': 'atari...</td>\n",
       "      <td>3n0ts35g</td>\n",
       "      <td>DemonAttack</td>\n",
       "    </tr>\n",
       "    <tr>\n",
       "      <th>64</th>\n",
       "      <td>{'act_f1': 0.3538415928989167, 'act_acc': 0.43...</td>\n",
       "      <td>{'env': {'game': 'ChopperCommand', 'type': 'at...</td>\n",
       "      <td>1eyiz23m</td>\n",
       "      <td>ChopperCommand</td>\n",
       "    </tr>\n",
       "    <tr>\n",
       "      <th>77</th>\n",
       "      <td>{'loss': 1.5088926392390316, 'act_f1': 0.35348...</td>\n",
       "      <td>{'env': {'game': 'BankHeist', 'type': 'atari',...</td>\n",
       "      <td>197tid2b</td>\n",
       "      <td>BankHeist</td>\n",
       "    </tr>\n",
       "    <tr>\n",
       "      <th>78</th>\n",
       "      <td>{'_runtime': 35765, 'mean_grad_norm': 0.139328...</td>\n",
       "      <td>{'env': {'game': 'BattleZone', 'type': 'atari'...</td>\n",
       "      <td>354qqb55</td>\n",
       "      <td>BattleZone</td>\n",
       "    </tr>\n",
       "    <tr>\n",
       "      <th>79</th>\n",
       "      <td>{'_runtime': 36727, 'reward_ratio': 0.02930146...</td>\n",
       "      <td>{'env': {'game': 'Breakout', 'type': 'atari', ...</td>\n",
       "      <td>b5i2o4qv</td>\n",
       "      <td>Breakout</td>\n",
       "    </tr>\n",
       "    <tr>\n",
       "      <th>80</th>\n",
       "      <td>{'_runtime': 36827, 'reward_f1': 0.80302682870...</td>\n",
       "      <td>{'env': {'game': 'Boxing', 'type': 'atari', 'f...</td>\n",
       "      <td>3g1rxnht</td>\n",
       "      <td>Boxing</td>\n",
       "    </tr>\n",
       "    <tr>\n",
       "      <th>81</th>\n",
       "      <td>{'min_grad_norm': 5.528868778899261e-08, '_ste...</td>\n",
       "      <td>{'env': {'game': 'Alien', 'type': 'atari', 'fr...</td>\n",
       "      <td>3dycl85a</td>\n",
       "      <td>Alien</td>\n",
       "    </tr>\n",
       "    <tr>\n",
       "      <th>82</th>\n",
       "      <td>{'loss': 1.235394837563498, 'epoch': 100, 'act...</td>\n",
       "      <td>{'env': {'game': 'Asterix', 'type': 'atari', '...</td>\n",
       "      <td>lgi6gcks</td>\n",
       "      <td>Asterix</td>\n",
       "    </tr>\n",
       "    <tr>\n",
       "      <th>83</th>\n",
       "      <td>{'_runtime': 36627, 'reward_f1': 0.57188160676...</td>\n",
       "      <td>{'env': {'game': 'Amidar', 'type': 'atari', 'f...</td>\n",
       "      <td>1m20nhb9</td>\n",
       "      <td>Amidar</td>\n",
       "    </tr>\n",
       "    <tr>\n",
       "      <th>84</th>\n",
       "      <td>{'min_grad_norm': 3.0018593485634566e-08, 'mea...</td>\n",
       "      <td>{'env': {'game': 'Assault', 'type': 'atari', '...</td>\n",
       "      <td>3txfymh8</td>\n",
       "      <td>Assault</td>\n",
       "    </tr>\n",
       "  </tbody>\n",
       "</table>\n",
       "</div>"
      ],
      "text/plain": [
       "                                              summary  \\\n",
       "41  {'act_acc': 0.2793156307190657, '_runtime': 33...   \n",
       "42  {'_step': 223000, 'epoch': 90, 'reward_f1': 0....   \n",
       "43  {'act_f1': 0.39769741833559713, '_timestamp': ...   \n",
       "44  {'best_metric_val': 0.4311041672550959, 'epoch...   \n",
       "49  {'act_acc': 0.43298441044668806, '_runtime': 3...   \n",
       "50  {'reward_ratio': 0.030301515075753783, 'min_gr...   \n",
       "51  {'loss': 1.4006055178200094, '_step': 234400, ...   \n",
       "52  {'epoch': 100, 'act_f1': 0.3277654334078916, '...   \n",
       "61  {'_runtime': 35575, '_timestamp': 1666432920, ...   \n",
       "62  {'mean_grad_norm': 0.12148486369086388, 'best_...   \n",
       "63  {'loss': 1.3032258285914446, 'reward_f1': 0.42...   \n",
       "64  {'act_f1': 0.3538415928989167, 'act_acc': 0.43...   \n",
       "77  {'loss': 1.5088926392390316, 'act_f1': 0.35348...   \n",
       "78  {'_runtime': 35765, 'mean_grad_norm': 0.139328...   \n",
       "79  {'_runtime': 36727, 'reward_ratio': 0.02930146...   \n",
       "80  {'_runtime': 36827, 'reward_f1': 0.80302682870...   \n",
       "81  {'min_grad_norm': 5.528868778899261e-08, '_ste...   \n",
       "82  {'loss': 1.235394837563498, 'epoch': 100, 'act...   \n",
       "83  {'_runtime': 36627, 'reward_f1': 0.57188160676...   \n",
       "84  {'min_grad_norm': 3.0018593485634566e-08, 'mea...   \n",
       "\n",
       "                                               config        id  \\\n",
       "41  {'env': {'game': 'Krull', 'type': 'atari', 'fr...  31ktobwm   \n",
       "42  {'env': {'game': 'Kangaroo', 'type': 'atari', ...  z7un794r   \n",
       "43  {'env': {'game': 'KungFuMaster', 'type': 'atar...  1vg8yjnp   \n",
       "44  {'env': {'game': 'MsPacman', 'type': 'atari', ...  p1gfgr7u   \n",
       "49  {'env': {'game': 'Jamesbond', 'type': 'atari',...  4ushilzk   \n",
       "50  {'env': {'game': 'Frostbite', 'type': 'atari',...  3u3osku0   \n",
       "51  {'env': {'game': 'Gopher', 'type': 'atari', 'f...  1rzyqidw   \n",
       "52  {'env': {'game': 'Hero', 'type': 'atari', 'fra...  nonskx95   \n",
       "61  {'env': {'game': 'CrazyClimber', 'type': 'atar...  3w1wq49g   \n",
       "62  {'env': {'game': 'Freeway', 'type': 'atari', '...  22m8imw2   \n",
       "63  {'env': {'game': 'DemonAttack', 'type': 'atari...  3n0ts35g   \n",
       "64  {'env': {'game': 'ChopperCommand', 'type': 'at...  1eyiz23m   \n",
       "77  {'env': {'game': 'BankHeist', 'type': 'atari',...  197tid2b   \n",
       "78  {'env': {'game': 'BattleZone', 'type': 'atari'...  354qqb55   \n",
       "79  {'env': {'game': 'Breakout', 'type': 'atari', ...  b5i2o4qv   \n",
       "80  {'env': {'game': 'Boxing', 'type': 'atari', 'f...  3g1rxnht   \n",
       "81  {'env': {'game': 'Alien', 'type': 'atari', 'fr...  3dycl85a   \n",
       "82  {'env': {'game': 'Asterix', 'type': 'atari', '...  lgi6gcks   \n",
       "83  {'env': {'game': 'Amidar', 'type': 'atari', 'f...  1m20nhb9   \n",
       "84  {'env': {'game': 'Assault', 'type': 'atari', '...  3txfymh8   \n",
       "\n",
       "               env  \n",
       "41           Krull  \n",
       "42        Kangaroo  \n",
       "43    KungFuMaster  \n",
       "44        MsPacman  \n",
       "49       Jamesbond  \n",
       "50       Frostbite  \n",
       "51          Gopher  \n",
       "52            Hero  \n",
       "61    CrazyClimber  \n",
       "62         Freeway  \n",
       "63     DemonAttack  \n",
       "64  ChopperCommand  \n",
       "77       BankHeist  \n",
       "78      BattleZone  \n",
       "79        Breakout  \n",
       "80          Boxing  \n",
       "81           Alien  \n",
       "82         Asterix  \n",
       "83          Amidar  \n",
       "84         Assault  "
      ]
     },
     "execution_count": 5,
     "metadata": {},
     "output_type": "execute_result"
    }
   ],
   "source": [
    "data = data_.iloc[indexs]\n",
    "envs = []\n",
    "for config in data['config']:\n",
    "    envs.append(eval(config)['env']['game'])\n",
    "data['env'] = envs\n",
    "print(len(data))\n",
    "data"
   ]
  },
  {
   "cell_type": "markdown",
   "id": "6502d51d-ea6d-49ce-b28e-ecb418c72172",
   "metadata": {},
   "source": [
    "### Restore Saved Models"
   ]
  },
  {
   "cell_type": "code",
   "execution_count": 6,
   "id": "7a542abe-1776-418d-a89e-76c76410a076",
   "metadata": {},
   "outputs": [
    {
     "name": "stdout",
     "output_type": "stream",
     "text": [
      "Krull 31ktobwm\n",
      "Kangaroo z7un794r\n",
      "KungFuMaster 1vg8yjnp\n",
      "MsPacman p1gfgr7u\n",
      "Jamesbond 4ushilzk\n",
      "Frostbite 3u3osku0\n",
      "Gopher 1rzyqidw\n",
      "Hero nonskx95\n",
      "CrazyClimber 3w1wq49g\n",
      "Freeway 22m8imw2\n",
      "DemonAttack 3n0ts35g\n",
      "ChopperCommand 1eyiz23m\n",
      "BankHeist 197tid2b\n",
      "BattleZone 354qqb55\n",
      "Breakout b5i2o4qv\n",
      "Boxing 3g1rxnht\n",
      "Alien 3dycl85a\n",
      "Asterix lgi6gcks\n",
      "Amidar 1m20nhb9\n",
      "Assault 3txfymh8\n"
     ]
    }
   ],
   "source": [
    "import pathlib\n",
    "base_path = str(pathlib.Path().resolve())\n",
    "\n",
    "artifact_dict = {}\n",
    "for run_id, env in zip(data['id'], data['env']):\n",
    "    print(env, run_id)\n",
    "    try:\n",
    "        name = env + '/' + model_path \n",
    "        path = base_path + '/' + name\n",
    "        wandb.restore(name, run_path=\"draftrec/atari_pretrain/\" + run_id)\n",
    "        artifact_dict[path] = name \n",
    "    except:\n",
    "        continue"
   ]
  },
  {
   "cell_type": "markdown",
   "id": "73679067-d9e7-49e4-9502-3f58133c5a4f",
   "metadata": {},
   "source": [
    "### Save to artifact"
   ]
  },
  {
   "cell_type": "code",
   "execution_count": 7,
   "id": "46d23273-07c1-40f7-a110-dc6fcc25c694",
   "metadata": {},
   "outputs": [
    {
     "name": "stderr",
     "output_type": "stream",
     "text": [
      "\u001b[34m\u001b[1mwandb\u001b[0m: Currently logged in as: \u001b[33mjoonleesky\u001b[0m (\u001b[33mdraftrec\u001b[0m). Use \u001b[1m`wandb login --relogin`\u001b[0m to force relogin\n",
      "/opt/conda/lib/python3.8/site-packages/IPython/html.py:12: ShimWarning: The `IPython.html` package has been deprecated since IPython 4.0. You should import from `notebook` instead. `IPython.html.widgets` has moved to `ipywidgets`.\n",
      "  warn(\"The `IPython.html` package has been deprecated since IPython 4.0. \"\n"
     ]
    },
    {
     "data": {
      "text/html": [
       "wandb version 0.13.4 is available!  To upgrade, please run:\n",
       " $ pip install wandb --upgrade"
      ],
      "text/plain": [
       "<IPython.core.display.HTML object>"
      ]
     },
     "metadata": {},
     "output_type": "display_data"
    },
    {
     "data": {
      "text/html": [
       "Tracking run with wandb version 0.12.21"
      ],
      "text/plain": [
       "<IPython.core.display.HTML object>"
      ]
     },
     "metadata": {},
     "output_type": "display_data"
    },
    {
     "data": {
      "text/html": [
       "Run data is saved locally in <code>/data/private/video_rl/vis/atari_100k/wandb/run-20221023_150821-hd3ioohg</code>"
      ],
      "text/plain": [
       "<IPython.core.display.HTML object>"
      ]
     },
     "metadata": {},
     "output_type": "display_data"
    },
    {
     "data": {
      "text/html": [
       "Syncing run <strong><a href=\"https://wandb.ai/draftrec/atari_pretrain/runs/hd3ioohg\" target=\"_blank\">eager-thunder-3651</a></strong> to <a href=\"https://wandb.ai/draftrec/atari_pretrain\" target=\"_blank\">Weights & Biases</a> (<a href=\"https://wandb.me/run\" target=\"_blank\">docs</a>)<br/>"
      ],
      "text/plain": [
       "<IPython.core.display.HTML object>"
      ]
     },
     "metadata": {},
     "output_type": "display_data"
    },
    {
     "data": {
      "text/plain": [
       "<wandb.sdk.wandb_artifacts.Artifact at 0x7fef32959fa0>"
      ]
     },
     "execution_count": 7,
     "metadata": {},
     "output_type": "execute_result"
    }
   ],
   "source": [
    "wandb.init(project='atari_pretrain',\n",
    "           entity='draftrec',\n",
    "           group=exp_name,\n",
    "           settings=wandb.Settings(start_method=\"thread\"))  \n",
    "artifact = wandb.Artifact(name=exp_name, type='model')\n",
    "\n",
    "# save models\n",
    "for path, name in artifact_dict.items():\n",
    "    artifact.add_file(path, name=name)\n",
    "\n",
    "wandb.run.finish_artifact(artifact)"
   ]
  },
  {
   "cell_type": "markdown",
   "id": "80148878-83a7-41e5-8eac-e315eee0b832",
   "metadata": {},
   "source": [
    "### Remove artifact"
   ]
  },
  {
   "cell_type": "code",
   "execution_count": 8,
   "id": "acba7b84-f841-4ef8-9772-0013dd40ca93",
   "metadata": {},
   "outputs": [],
   "source": [
    "import shutil\n",
    "for env in data['env']:\n",
    "    shutil.rmtree('./'+env, ignore_errors=True)"
   ]
  },
  {
   "cell_type": "markdown",
   "id": "2bc563cd-bad2-4867-87ac-3f4c39052daa",
   "metadata": {},
   "source": [
    "### Generate json file"
   ]
  },
  {
   "cell_type": "code",
   "execution_count": 17,
   "id": "5836bf82-98b7-4def-b8fc-e547c10effbe",
   "metadata": {},
   "outputs": [],
   "source": [
    "def get_results_dict(data):\n",
    "    results = []\n",
    "    for idx in range(len(data)):\n",
    "        row = data.iloc[idx]\n",
    "        summary = eval(row['summary'])\n",
    "        config = eval(row['config'])\n",
    "\n",
    "        if 'env' not in config:\n",
    "            continue\n",
    "\n",
    "        game = config['env']['game']\n",
    "        try:\n",
    "            score = summary['eval_mean_traj_game_scores']\n",
    "        except:\n",
    "            continue\n",
    "        results.append([0, game, score, 0])\n",
    "\n",
    "    return results\n",
    "    \n",
    "results = get_results_dict(data)"
   ]
  },
  {
   "cell_type": "code",
   "execution_count": 18,
   "id": "c91a3ce2-a057-4a9a-b48e-e328c48bc577",
   "metadata": {},
   "outputs": [],
   "source": [
    "import json\n",
    "\n",
    "def generate_json_file(file_name, results):\n",
    "    data = {}\n",
    "    data['data'] = results\n",
    "    path = file_name + '.json'\n",
    "    with open(path, 'w') as json_file:\n",
    "        json.dump(data, json_file)"
   ]
  },
  {
   "cell_type": "code",
   "execution_count": 19,
   "id": "b9a638e9-1ab8-4d09-8bfe-58c1626136ca",
   "metadata": {},
   "outputs": [],
   "source": [
    "generate_json_file('byol_impala', results)"
   ]
  }
 ],
 "metadata": {
  "kernelspec": {
   "display_name": "Python 3 (ipykernel)",
   "language": "python",
   "name": "python3"
  },
  "language_info": {
   "codemirror_mode": {
    "name": "ipython",
    "version": 3
   },
   "file_extension": ".py",
   "mimetype": "text/x-python",
   "name": "python",
   "nbconvert_exporter": "python",
   "pygments_lexer": "ipython3",
   "version": "3.8.12"
  }
 },
 "nbformat": 4,
 "nbformat_minor": 5
}
