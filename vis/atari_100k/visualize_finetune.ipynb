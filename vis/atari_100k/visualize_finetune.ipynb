{
 "cells": [
  {
   "cell_type": "markdown",
   "id": "22ab515d-2004-42c0-8c43-9aac6591ccfd",
   "metadata": {},
   "source": [
    "### 1. Setup"
   ]
  },
  {
   "cell_type": "markdown",
   "id": "d742b5d5-c610-4e89-9e27-5ebc73f45ae8",
   "metadata": {},
   "source": [
    "#### 1.1 Import Packages"
   ]
  },
  {
   "cell_type": "code",
   "execution_count": 1,
   "id": "9279e869-bb2c-4c18-ac16-c40b4c465719",
   "metadata": {
    "tags": []
   },
   "outputs": [
    {
     "name": "stdout",
     "output_type": "stream",
     "text": [
      "Looking in indexes: https://pypi.org/simple, http://kakaobrain-pypi.dev.9rum.cc/\n",
      "Collecting git+https://github.com/google-research/rliable\n",
      "  Cloning https://github.com/google-research/rliable to /tmp/pip-req-build-irqoh2n6\n",
      "  Running command git clone --filter=blob:none --quiet https://github.com/google-research/rliable /tmp/pip-req-build-irqoh2n6\n",
      "  Resolved https://github.com/google-research/rliable to commit 7b996370f6ba6f49b1d82db1de9c1c5649c52a12\n",
      "  Preparing metadata (setup.py) ... \u001b[?25ldone\n",
      "\u001b[?25hRequirement already satisfied: arch==5.3.0 in /opt/conda/lib/python3.8/site-packages (from rliable==1.0.8) (5.3.0)\n",
      "Requirement already satisfied: scipy>=1.7.0 in /opt/conda/lib/python3.8/site-packages (from rliable==1.0.8) (1.8.1)\n",
      "Requirement already satisfied: absl-py>=0.9.0 in /opt/conda/lib/python3.8/site-packages (from rliable==1.0.8) (1.2.0)\n",
      "Requirement already satisfied: numpy>=1.16.4 in /opt/conda/lib/python3.8/site-packages (from rliable==1.0.8) (1.23.3)\n",
      "Requirement already satisfied: seaborn>=0.11.2 in /opt/conda/lib/python3.8/site-packages (from rliable==1.0.8) (0.12.1)\n",
      "Requirement already satisfied: statsmodels>=0.11 in /opt/conda/lib/python3.8/site-packages (from arch==5.3.0->rliable==1.0.8) (0.13.5)\n",
      "Requirement already satisfied: property-cached>=1.6.4 in /opt/conda/lib/python3.8/site-packages (from arch==5.3.0->rliable==1.0.8) (1.6.4)\n",
      "Requirement already satisfied: pandas>=1.0 in /opt/conda/lib/python3.8/site-packages (from arch==5.3.0->rliable==1.0.8) (1.4.2)\n",
      "Requirement already satisfied: matplotlib!=3.6.1,>=3.1 in /opt/conda/lib/python3.8/site-packages/matplotlib-3.6.0rc2-py3.8-linux-x86_64.egg (from seaborn>=0.11.2->rliable==1.0.8) (3.6.0rc2)\n",
      "Requirement already satisfied: contourpy>=1.0.1 in /opt/conda/lib/python3.8/site-packages (from matplotlib!=3.6.1,>=3.1->seaborn>=0.11.2->rliable==1.0.8) (1.0.5)\n",
      "Requirement already satisfied: cycler>=0.10 in /opt/conda/lib/python3.8/site-packages (from matplotlib!=3.6.1,>=3.1->seaborn>=0.11.2->rliable==1.0.8) (0.11.0)\n",
      "Requirement already satisfied: fonttools>=4.22.0 in /opt/conda/lib/python3.8/site-packages (from matplotlib!=3.6.1,>=3.1->seaborn>=0.11.2->rliable==1.0.8) (4.37.1)\n",
      "Requirement already satisfied: kiwisolver>=1.0.1 in /opt/conda/lib/python3.8/site-packages (from matplotlib!=3.6.1,>=3.1->seaborn>=0.11.2->rliable==1.0.8) (1.4.4)\n",
      "Requirement already satisfied: packaging>=20.0 in /opt/conda/lib/python3.8/site-packages (from matplotlib!=3.6.1,>=3.1->seaborn>=0.11.2->rliable==1.0.8) (21.3)\n",
      "Requirement already satisfied: pillow>=6.2.0 in /opt/conda/lib/python3.8/site-packages (from matplotlib!=3.6.1,>=3.1->seaborn>=0.11.2->rliable==1.0.8) (9.0.1)\n",
      "Requirement already satisfied: pyparsing>=2.2.1 in /opt/conda/lib/python3.8/site-packages (from matplotlib!=3.6.1,>=3.1->seaborn>=0.11.2->rliable==1.0.8) (3.0.9)\n",
      "Requirement already satisfied: python-dateutil>=2.7 in /opt/conda/lib/python3.8/site-packages (from matplotlib!=3.6.1,>=3.1->seaborn>=0.11.2->rliable==1.0.8) (2.8.2)\n",
      "Requirement already satisfied: pytz>=2020.1 in /opt/conda/lib/python3.8/site-packages (from pandas>=1.0->arch==5.3.0->rliable==1.0.8) (2021.3)\n",
      "Requirement already satisfied: patsy>=0.5.2 in /opt/conda/lib/python3.8/site-packages (from statsmodels>=0.11->arch==5.3.0->rliable==1.0.8) (0.5.3)\n",
      "Requirement already satisfied: six in /opt/conda/lib/python3.8/site-packages (from patsy>=0.5.2->statsmodels>=0.11->arch==5.3.0->rliable==1.0.8) (1.16.0)\n",
      "\u001b[33mWARNING: Running pip as the 'root' user can result in broken permissions and conflicting behaviour with the system package manager. It is recommended to use a virtual environment instead: https://pip.pypa.io/warnings/venv\u001b[0m\u001b[33m\n",
      "\u001b[0m\n",
      "\u001b[1m[\u001b[0m\u001b[34;49mnotice\u001b[0m\u001b[1;39;49m]\u001b[0m\u001b[39;49m A new release of pip available: \u001b[0m\u001b[31;49m22.3\u001b[0m\u001b[39;49m -> \u001b[0m\u001b[32;49m22.3.1\u001b[0m\n",
      "\u001b[1m[\u001b[0m\u001b[34;49mnotice\u001b[0m\u001b[1;39;49m]\u001b[0m\u001b[39;49m To update, run: \u001b[0m\u001b[32;49mpip install --upgrade pip\u001b[0m\n",
      "Looking in indexes: https://pypi.org/simple, http://kakaobrain-pypi.dev.9rum.cc/\n",
      "Requirement already satisfied: inflection in /opt/conda/lib/python3.8/site-packages (0.5.1)\n",
      "\u001b[33mWARNING: Running pip as the 'root' user can result in broken permissions and conflicting behaviour with the system package manager. It is recommended to use a virtual environment instead: https://pip.pypa.io/warnings/venv\u001b[0m\u001b[33m\n",
      "\u001b[0m\n",
      "\u001b[1m[\u001b[0m\u001b[34;49mnotice\u001b[0m\u001b[1;39;49m]\u001b[0m\u001b[39;49m A new release of pip available: \u001b[0m\u001b[31;49m22.3\u001b[0m\u001b[39;49m -> \u001b[0m\u001b[32;49m22.3.1\u001b[0m\n",
      "\u001b[1m[\u001b[0m\u001b[34;49mnotice\u001b[0m\u001b[1;39;49m]\u001b[0m\u001b[39;49m To update, run: \u001b[0m\u001b[32;49mpip install --upgrade pip\u001b[0m\n"
     ]
    }
   ],
   "source": [
    "!pip3 install git+https://github.com/google-research/rliable\n",
    "!pip3 install inflection"
   ]
  },
  {
   "cell_type": "code",
   "execution_count": 2,
   "id": "05c94819-cca8-43b8-8199-66645d7a5c8e",
   "metadata": {},
   "outputs": [],
   "source": [
    "from rliable import library as rly\n",
    "from rliable import metrics\n",
    "from rliable import plot_utils"
   ]
  },
  {
   "cell_type": "code",
   "execution_count": 3,
   "id": "cb9f315b-cadc-4ef8-ab0d-be70cf6282b1",
   "metadata": {},
   "outputs": [],
   "source": [
    "import collections\n",
    "import numpy as np\n",
    "import matplotlib.patches as patches\n",
    "import sys\n",
    "import pickle\n",
    "import pandas as pd\n",
    "import copy\n",
    "import functools\n",
    "import json\n",
    "import os\n",
    "\n",
    "import itertools as it\n",
    "import random\n",
    "import inspect\n",
    "import scipy.stats\n",
    " \n",
    "import getpass\n",
    "import os.path as osp\n",
    " \n",
    "# See warnings only once\n",
    "import warnings\n",
    "warnings.filterwarnings('default')\n",
    " \n",
    "import inflection\n",
    "from functools import partial\n",
    "\n",
    "# The answer to life, universe and everything\n",
    "RAND_STATE = np.random.RandomState(42)\n",
    "\n",
    "import logging\n",
    "logger = logging.getLogger()\n",
    "logger.setLevel(logging.INFO)"
   ]
  },
  {
   "cell_type": "markdown",
   "id": "74ee5ce6-104e-4b44-9352-94fec62a1321",
   "metadata": {},
   "source": [
    "#### 1.2 Plotting Utilities"
   ]
  },
  {
   "cell_type": "code",
   "execution_count": 4,
   "id": "cf6a232e-2ad3-435d-944e-72b1c73c9cef",
   "metadata": {},
   "outputs": [],
   "source": [
    "#@title Plotting: Seaborn style and matplotlib params\n",
    "import matplotlib.pyplot as plt\n",
    "from matplotlib.ticker import PercentFormatter\n",
    "from matplotlib.ticker import MaxNLocator\n",
    "import matplotlib.patches as mpatches\n",
    "import seaborn as sns\n",
    "\n",
    "sns.set_style(\"white\")\n",
    "\n",
    "# Matplotlib params\n",
    "from matplotlib import rcParams\n",
    "from matplotlib import rc\n",
    "\n",
    "rcParams['legend.loc'] = 'best'\n",
    "rcParams['pdf.fonttype'] = 42\n",
    "rcParams['ps.fonttype'] = 42\n",
    "\n",
    "rc('text', usetex=False)"
   ]
  },
  {
   "cell_type": "code",
   "execution_count": 5,
   "id": "0526df85-f972-4709-9d2a-e48e3e892c28",
   "metadata": {},
   "outputs": [],
   "source": [
    "#@title Plotting Helpers\n",
    "\n",
    "def save_fig(fig, name):\n",
    "    file_name = '{}.pdf'.format(name)\n",
    "    fig.savefig(file_name, format='pdf', bbox_inches='tight')\n",
    "    return file_name\n",
    "\n",
    "def set_axes(ax, xlim, ylim, xlabel, ylabel):\n",
    "    ax.set_xlim(xlim)\n",
    "    ax.set_ylim(ylim)\n",
    "    ax.set_xlabel(xlabel, labelpad=14)\n",
    "    ax.set_ylabel(ylabel, labelpad=14)\n",
    "\n",
    "def set_ticks(ax, xticks, xticklabels, yticks, yticklabels):\n",
    "    ax.set_xticks(xticks)\n",
    "    ax.set_xticklabels(xticklabels)\n",
    "    ax.set_yticks(yticks)\n",
    "    ax.set_yticklabels(yticklabels)\n",
    "\n",
    "def decorate_axis(ax, wrect=10, hrect=10, labelsize='medium'):\n",
    "    # Hide the right and top spines\n",
    "    ax.spines['right'].set_visible(False)\n",
    "    ax.spines['top'].set_visible(False)\n",
    "    ax.spines['left'].set_linewidth(2)\n",
    "    ax.spines['bottom'].set_linewidth(2)\n",
    "    # Deal with ticks and the blank space at the origin\n",
    "    ax.tick_params(length=0.1, width=0.1, labelsize=labelsize)\n",
    "    # Pablos' comment\n",
    "    ax.spines['left'].set_position(('outward', hrect))\n",
    "    ax.spines['bottom'].set_position(('outward', wrect))"
   ]
  },
  {
   "cell_type": "markdown",
   "id": "b489fc84-8839-43d3-b555-eaa736fb349e",
   "metadata": {},
   "source": [
    "#### 1.3 Score Normalisation & Aggregation"
   ]
  },
  {
   "cell_type": "code",
   "execution_count": 6,
   "id": "1e5cf9c2-f234-4363-9af1-e48ae11d921c",
   "metadata": {},
   "outputs": [],
   "source": [
    "#@title Helpers for normalizing scores and plotting histogram plots.\n",
    "def pgs(f):\n",
    "    print(inspect.getsource(f))\n",
    "\n",
    "def score_normalization(res_dict, min_scores, max_scores):\n",
    "    games = res_dict.keys()\n",
    "    norm_scores = {}\n",
    "    for game, scores in res_dict.items():\n",
    "        norm_scores[game] = (scores - min_scores[game])/(max_scores[game] - min_scores[game])\n",
    "    return norm_scores\n",
    "\n",
    "def plot_score_hist(score_matrix, bins=20, figsize=(28, 14), \n",
    "                    fontsize='xx-large', N=6, extra_row=1,\n",
    "                    names=None):\n",
    "    num_tasks = score_matrix.shape[1]\n",
    "    if names is None:\n",
    "        names = ATARI_100K_GAMES\n",
    "    N1 = (num_tasks // N) + extra_row\n",
    "    fig, ax = plt.subplots(nrows=N1, ncols=N, figsize=figsize)\n",
    "    for i in range(N):\n",
    "        for j in range(N1):\n",
    "            idx = j * N + i\n",
    "            if idx < num_tasks:\n",
    "                ax[j, i].set_title(names[idx], fontsize=fontsize)\n",
    "                sns.histplot(score_matrix[:, idx], bins=bins, ax=ax[j,i], kde=True)\n",
    "            else:\n",
    "                ax[j, i].axis('off')\n",
    "            decorate_axis(ax[j, i], wrect=5, hrect=5, labelsize='xx-large')\n",
    "            ax[j, i].xaxis.set_major_locator(plt.MaxNLocator(4))\n",
    "            if idx % N == 0:\n",
    "                ax[j, i].set_ylabel('Count', size=fontsize)\n",
    "            else:\n",
    "                ax[j, i].yaxis.label.set_visible(False)\n",
    "            ax[j, i].grid(axis='y', alpha=0.1)\n",
    "    return fig\n",
    "\n",
    "StratifiedBootstrap = rly.StratifiedBootstrap\n",
    "\n",
    "IQM = lambda x: metrics.aggregate_iqm(x) # Interquartile Mean\n",
    "OG = lambda x: metrics.aggregate_optimality_gap(x, 1.0) # Optimality Gap\n",
    "MEAN = lambda x: metrics.aggregate_mean(x)\n",
    "MEDIAN = lambda x: metrics.aggregate_median(x)"
   ]
  },
  {
   "cell_type": "code",
   "execution_count": 7,
   "id": "324e3aec-1113-4da6-8a1e-d5bea08db331",
   "metadata": {},
   "outputs": [],
   "source": [
    "#@title Atari 100k -- List of 26 Games\n",
    "\n",
    "ATARI_100K_GAMES = [\n",
    "    'Alien', 'Amidar', 'Assault', 'Asterix', 'BankHeist', 'BattleZone',\n",
    "    'Boxing', 'Breakout', 'ChopperCommand', 'CrazyClimber', 'DemonAttack',\n",
    "    'Freeway', 'Frostbite', 'Gopher', 'Hero', 'Jamesbond', 'Kangaroo',\n",
    "    'Krull', 'KungFuMaster', 'MsPacman', 'Pong', 'PrivateEye', 'Qbert',\n",
    "    'RoadRunner', 'Seaquest', 'UpNDown'\n",
    "]\n",
    "\n",
    "RANDOM_SCORES = {\n",
    "    'Alien': 227.8,\n",
    "    'Amidar': 5.8,\n",
    "    'Assault': 222.4,\n",
    "    'Asterix': 210.0,\n",
    "    'BankHeist': 14.2,\n",
    "    'BattleZone': 2360.0,\n",
    "    'Boxing': 0.1,\n",
    "    'Breakout': 1.7,\n",
    "    'ChopperCommand': 811.0,\n",
    "    'CrazyClimber': 10780.5,\n",
    "    'DemonAttack': 152.1,\n",
    "    'Freeway': 0.0,\n",
    "    'Frostbite': 65.2,\n",
    "    'Gopher': 257.6,\n",
    "    'Hero': 1027.0,\n",
    "    'Jamesbond': 29.0,\n",
    "    'Kangaroo': 52.0,\n",
    "    'Krull': 1598.0,\n",
    "    'KungFuMaster': 258.5,\n",
    "    'MsPacman': 307.3,\n",
    "    'Pong': -20.7,\n",
    "    'PrivateEye': 24.9,\n",
    "    'Qbert': 163.9,\n",
    "    'RoadRunner': 11.5,\n",
    "    'Seaquest': 68.4,\n",
    "    'UpNDown': 533.4\n",
    "}\n",
    "\n",
    "HUMAN_SCORES = {\n",
    "    'Alien': 7127.7,\n",
    "    'Amidar': 1719.5,\n",
    "    'Assault': 742.0,\n",
    "    'Asterix': 8503.3,\n",
    "    'BankHeist': 753.1,\n",
    "    'BattleZone': 37187.5,\n",
    "    'Boxing': 12.1,\n",
    "    'Breakout': 30.5,\n",
    "    'ChopperCommand': 7387.8,\n",
    "    'CrazyClimber': 35829.4,\n",
    "    'DemonAttack': 1971.0,\n",
    "    'Freeway': 29.6,\n",
    "    'Frostbite': 4334.7,\n",
    "    'Gopher': 2412.5,\n",
    "    'Hero': 30826.4,\n",
    "    'Jamesbond': 302.8,\n",
    "    'Kangaroo': 3035.0,\n",
    "    'Krull': 2665.5,\n",
    "    'KungFuMaster': 22736.3,\n",
    "    'MsPacman': 6951.6,\n",
    "    'Pong': 14.6,\n",
    "    'PrivateEye': 69571.3,\n",
    "    'Qbert': 13455.0,\n",
    "    'RoadRunner': 7845.0,\n",
    "    'Seaquest': 42054.7,\n",
    "    'UpNDown': 11693.2\n",
    "}"
   ]
  },
  {
   "cell_type": "markdown",
   "id": "9c4649c8-e1a7-4579-b2bc-d995a19da569",
   "metadata": {},
   "source": [
    "#### 1.4 DataLoader (from wandb)"
   ]
  },
  {
   "cell_type": "code",
   "execution_count": 8,
   "id": "823a05bb-0d80-4fda-9b21-1cc6950eba3d",
   "metadata": {},
   "outputs": [],
   "source": [
    "import pandas as pd \n",
    "import wandb\n",
    "\n",
    "def collect_runs(project_name='draftrec/atari_finetune'):\n",
    "    api = wandb.Api()\n",
    "\n",
    "    # Project is specified by <entity/project-name>\n",
    "    runs = api.runs(project_name)\n",
    "    summary_list, group_list, config_list, id_list = [], [], [], []\n",
    "    for run in runs: \n",
    "        # .summary contains the output keys/values for metrics like accuracy.\n",
    "        #  We call ._json_dict to omit large files \n",
    "        \n",
    "        group_list.append(run.group)\n",
    "        summary_list.append(run.summary._json_dict)\n",
    "\n",
    "        # .config contains the hyperparameters.\n",
    "        #  We remove special values that start with _.\n",
    "        config_list.append(\n",
    "            {k: v for k,v in run.config.items()\n",
    "              if not k.startswith('_')})\n",
    "\n",
    "        # .name is the human-readable name of the run.\n",
    "        id_list.append(run.id)\n",
    "\n",
    "    runs_df = pd.DataFrame({\n",
    "        \"summary\": summary_list,\n",
    "        \"group\": group_list,\n",
    "        \"config\": config_list,\n",
    "        \"id\": id_list,\n",
    "        })\n",
    "    \n",
    "    return runs_df\n",
    "\n",
    "def filter_runs(runs_df, exp_name, group_name):\n",
    "    configs = runs_df['config']\n",
    "    indexs = []\n",
    "    for idx, config in enumerate(configs):\n",
    "        if len(config) == 0:\n",
    "            continue\n",
    "\n",
    "        run_exp_name = config['exp_name']\n",
    "        run_group_name = config['group_name']\n",
    "\n",
    "        # condition\n",
    "        if run_exp_name == exp_name and run_group_name == group_name:\n",
    "            if 'env' in config:\n",
    "                indexs.append(idx)\n",
    "                \n",
    "    data = runs_df.iloc[indexs]\n",
    "    \n",
    "    return data\n",
    "\n",
    "def get_scores(data, metric='eval_mean_traj_game_scores'):\n",
    "    scores = []\n",
    "    for idx in range(len(data)):\n",
    "        row = data.iloc[idx]\n",
    "        summary = row['summary']\n",
    "        config = row['config']\n",
    "\n",
    "        if 'env' not in config:\n",
    "            continue\n",
    "\n",
    "        game = config['env']['game']\n",
    "        try:\n",
    "            score = summary[metric]\n",
    "        except:\n",
    "            continue\n",
    "            \n",
    "        scores.append([0, game, score, 0])\n",
    "\n",
    "    return scores\n",
    "\n",
    "def snake_to_camel(name):\n",
    "    return ''.join(word.title() for word in name.split('_'))\n",
    "\n",
    "def convert_to_matrix(score_dict):\n",
    "    keys = sorted(list(score_dict.keys()))\n",
    "    return np.stack([score_dict[k] for k in keys], axis=1)\n",
    "  \n",
    "def generate_score_matrix(scores, camel=True, num_seeds=10):\n",
    "    _scores = {}\n",
    "    for game in ATARI_100K_GAMES:\n",
    "        _scores[game] = []\n",
    "\n",
    "    for score in scores:\n",
    "        if camel:\n",
    "            game = snake_to_camel(score[1])\n",
    "        else:\n",
    "            game = score[1]\n",
    "\n",
    "        if (game == 'Median') or (game == 'Mean'):\n",
    "            continue\n",
    "        _scores[game].append(score[2])\n",
    "\n",
    "    num_min_seed = 999\n",
    "    for game, score in _scores.items():\n",
    "        num_min_seed = min(num_min_seed, len(score))\n",
    "    \n",
    "    num_min_seed = min(num_min_seed, num_seeds)\n",
    "    for game, score in _scores.items():\n",
    "        _scores[game] = np.array(score[-num_min_seed:])\n",
    "\n",
    "    scores = score_normalization(_scores, RANDOM_SCORES, HUMAN_SCORES)\n",
    "    score_matrix = convert_to_matrix(scores)\n",
    "    median, mean = MEDIAN(score_matrix), MEAN(score_matrix)\n",
    "    print('{}: Median: {}, Mean: {}'.format(eval, median, mean))\n",
    "        \n",
    "    return scores, score_matrix"
   ]
  },
  {
   "cell_type": "markdown",
   "id": "af8cdc96-6b47-4cd9-a1ec-d45b3110b635",
   "metadata": {},
   "source": [
    "#### 1.5 Subsampler"
   ]
  },
  {
   "cell_type": "code",
   "execution_count": 9,
   "id": "59bf326e-18af-4918-9681-23d80742b3f3",
   "metadata": {},
   "outputs": [],
   "source": [
    "def subsample_scores(score_dict, n=5, replace=False):\n",
    "    subsampled_dict = {}\n",
    "    total_samples = len(score_dict[list(score_dict.keys())[0]])\n",
    "    for game, scores in score_dict.items():\n",
    "        indices = np.random.choice(range(total_samples), size=n, replace=replace)\n",
    "        subsampled_dict[game] = scores[indices]\n",
    "    return subsampled_dict\n",
    "\n",
    "def subsample_scores_mat(score_mat, num_samples=5, replace=False):\n",
    "    subsampled_dict = []\n",
    "    total_samples, num_games = score_mat.shape\n",
    "    subsampled_scores = np.empty((num_samples, num_games))\n",
    "    for i in range(num_games):\n",
    "        indices = np.random.choice(total_samples, size=num_samples, replace=replace)\n",
    "        subsampled_scores[:, i] = score_mat[indices, i]\n",
    "    return subsampled_scores\n",
    "\n",
    "def subsample_seeds(score_mat, num_samples=5, replace=False):\n",
    "    indices = np.random.choice(\n",
    "        score_mat.shape[0], size=num_samples, replace=replace)\n",
    "    return score_mat[indices]\n",
    "\n",
    "def batch_subsample_seeds(score_mat, num_samples=5, batch_size=100,\n",
    "                          replace=False):\n",
    "    indices = [\n",
    "        np.random.choice(score_mat.shape[0], size=num_samples, replace=replace)\n",
    "        for _ in range(batch_size)\n",
    "    ]\n",
    "    return (score_mat[idx] for idx in indices)\n",
    "\n",
    "def subsample_scores_mat_with_replacement(score_mat, num_samples=5):\n",
    "    subsampled_dict = []\n",
    "    total_samples, num_games = score_mat.shape\n",
    "    indices = np.random.choice(\n",
    "      total_samples, size=(num_samples, num_games), replace=True)\n",
    "    col_indices =  np.expand_dims(np.arange(num_games), axis=0)\n",
    "    col_indices = np.repeat(col_indices, num_samples, axis=0)\n",
    "    subsampled_scores = score_mat[indices, col_indices]\n",
    "    return subsampled_scores"
   ]
  },
  {
   "cell_type": "markdown",
   "id": "fcfcb554-a5b0-446b-a1a3-a439e4fae503",
   "metadata": {},
   "source": [
    "#### 1.6 Subsample Aggregator"
   ]
  },
  {
   "cell_type": "code",
   "execution_count": 10,
   "id": "915422f3-51e3-4290-b222-6863e5223d19",
   "metadata": {},
   "outputs": [],
   "source": [
    "#@title Aggregate computation helpers\n",
    "\n",
    "SIZES = [3, 5, 10, 25, 50, 100]\n",
    "\n",
    "def calc_aggregate_fn(score_data, num_samples=5, total_n=20000, \n",
    "                      aggregate_fn=MEDIAN, replace=False):\n",
    "    subsampled_scores = batch_subsample_seeds(\n",
    "      score_data, num_samples, batch_size=total_n, replace=replace)\n",
    "    aggregates = [aggregate_fn(scores) for scores in subsampled_scores]\n",
    "    return np.array(aggregates)\n",
    "\n",
    "def calculate_aggregate_varying_sizes(score_matrix, aggregate_fn, total_n=20000,\n",
    "                                      sizes=None, replace=False):\n",
    "    agg_dict = {}\n",
    "    if sizes is None:\n",
    "        sizes = SIZES\n",
    "    for size in sizes:\n",
    "        agg_dict[n] = calc_aggregate_fn(score_matrix, num_samples=size, aggregate_fn=aggregate_fn,\n",
    "                                    total_n=total_n, replace=replace)\n",
    "        print('Mean Aggregate: {}'.format(np.mean(agg_dict[n])))\n",
    "    return agg_dict\n",
    "\n",
    "def CI(bootstrap_dist, stat_val=None, alpha=0.05, is_pivotal=False):\n",
    "    \"\"\"\n",
    "    Get the bootstrap confidence interval for a given distribution.\n",
    "    Args:\n",
    "      bootstrap_distribution: numpy array of bootstrap results.\n",
    "      stat_val: The overall statistic that this method is attempting to\n",
    "        calculate error bars for. Default is None.\n",
    "      alpha: The alpha value for the confidence intervals.\n",
    "      is_pivotal: if true, use the pivotal (reverse percentile) method. \n",
    "        If false, use the percentile method.\n",
    "    Returns:\n",
    "      (low, high): The lower and upper limit for `alpha` x 100% CIs.\n",
    "      val: The median value of the bootstrap distribution if `stat_val` is None\n",
    "        else `stat_val`.\n",
    "    \"\"\"\n",
    "    # Adapted from https://pypi.org/project/bootstrapped\n",
    "    if is_pivotal:\n",
    "        assert stat_val is not None, 'Please pass the statistic for a pivotal'\n",
    "        'confidence interval' \n",
    "        low = 2 * stat_val - np.percentile(bootstrap_dist, 100 * (1 - alpha / 2.))\n",
    "        val = stat_val\n",
    "        high = 2 * stat_val - np.percentile(bootstrap_dist, 100 * (alpha / 2.))\n",
    "    else:\n",
    "        low = np.percentile(bootstrap_dist, 100 * (alpha / 2.))\n",
    "        val = np.percentile(bootstrap_dist, 50)\n",
    "        high = np.percentile(bootstrap_dist, 100 * (1 - alpha / 2.))\n",
    "    return (low, high), val"
   ]
  },
  {
   "cell_type": "markdown",
   "id": "640b8f3e-5c99-4442-878e-a443e1378b85",
   "metadata": {},
   "source": [
    "#### 1.7 Color Utilities"
   ]
  },
  {
   "cell_type": "code",
   "execution_count": 28,
   "id": "5b0ce5ee-6fe1-4de4-9625-7abe9de953ab",
   "metadata": {},
   "outputs": [
    {
     "data": {
      "text/html": [
       "<svg  width=\"550\" height=\"55\"><rect x=\"0\" y=\"0\" width=\"55\" height=\"55\" style=\"fill:#0173b2;stroke-width:2;stroke:rgb(255,255,255)\"/><rect x=\"55\" y=\"0\" width=\"55\" height=\"55\" style=\"fill:#de8f05;stroke-width:2;stroke:rgb(255,255,255)\"/><rect x=\"110\" y=\"0\" width=\"55\" height=\"55\" style=\"fill:#029e73;stroke-width:2;stroke:rgb(255,255,255)\"/><rect x=\"165\" y=\"0\" width=\"55\" height=\"55\" style=\"fill:#d55e00;stroke-width:2;stroke:rgb(255,255,255)\"/><rect x=\"220\" y=\"0\" width=\"55\" height=\"55\" style=\"fill:#cc78bc;stroke-width:2;stroke:rgb(255,255,255)\"/><rect x=\"275\" y=\"0\" width=\"55\" height=\"55\" style=\"fill:#ca9161;stroke-width:2;stroke:rgb(255,255,255)\"/><rect x=\"330\" y=\"0\" width=\"55\" height=\"55\" style=\"fill:#fbafe4;stroke-width:2;stroke:rgb(255,255,255)\"/><rect x=\"385\" y=\"0\" width=\"55\" height=\"55\" style=\"fill:#949494;stroke-width:2;stroke:rgb(255,255,255)\"/><rect x=\"440\" y=\"0\" width=\"55\" height=\"55\" style=\"fill:#ece133;stroke-width:2;stroke:rgb(255,255,255)\"/><rect x=\"495\" y=\"0\" width=\"55\" height=\"55\" style=\"fill:#56b4e9;stroke-width:2;stroke:rgb(255,255,255)\"/></svg>"
      ],
      "text/plain": [
       "[(0.00392156862745098, 0.45098039215686275, 0.6980392156862745),\n",
       " (0.8705882352941177, 0.5607843137254902, 0.0196078431372549),\n",
       " (0.00784313725490196, 0.6196078431372549, 0.45098039215686275),\n",
       " (0.8352941176470589, 0.3686274509803922, 0.0),\n",
       " (0.8, 0.47058823529411764, 0.7372549019607844),\n",
       " (0.792156862745098, 0.5686274509803921, 0.3803921568627451),\n",
       " (0.984313725490196, 0.6862745098039216, 0.8941176470588236),\n",
       " (0.5803921568627451, 0.5803921568627451, 0.5803921568627451),\n",
       " (0.9254901960784314, 0.8823529411764706, 0.2),\n",
       " (0.33725490196078434, 0.7058823529411765, 0.9137254901960784)]"
      ]
     },
     "execution_count": 28,
     "metadata": {},
     "output_type": "execute_result"
    }
   ],
   "source": [
    "#@title Atari_100k Color setup\n",
    "\n",
    "colors = sns.color_palette('colorblind')\n",
    "color_idxs = [0, 1, 2, 3, 4, 5, 6, 7, 8, 9]\n",
    "colors"
   ]
  },
  {
   "cell_type": "markdown",
   "id": "f4f5356a-a993-4094-b19f-fb9daeadae55",
   "metadata": {},
   "source": [
    "### 2. Get Scores"
   ]
  },
  {
   "cell_type": "markdown",
   "id": "af3b0bd0-2399-4ad1-827d-6403c9b4febe",
   "metadata": {},
   "source": [
    "#### finetune"
   ]
  },
  {
   "cell_type": "code",
   "execution_count": 22,
   "id": "d3e42722-5ccd-477c-8d90-9039dc28381d",
   "metadata": {},
   "outputs": [
    {
     "name": "stdout",
     "output_type": "stream",
     "text": [
      "<built-in function eval>: Median: 0.3931819793132963, Mean: 0.6910171338871198\n"
     ]
    }
   ],
   "source": [
    "project_name = 'draftrec/atari_finetune'\n",
    "group_name = 'baseline'\n",
    "metric = 'eval_mean_traj_game_scores'\n",
    "exp_names = {'no_pretrain_nature': 'drq_nature',\n",
    "             'curl_impala': 'curl',\n",
    "             'atc_impala': 'atc',\n",
    "             #'trajformer_vid_cont_reset_lr003_impala': 'clt_vid_cont',\n",
    "             'trajformer_vid_cons_impala': 'clt_vid_cons',\n",
    "             'bc_impala': 'bc', \n",
    "             #'trajformer_demon_cont': 'clt_demon_cont',\n",
    "             'trajformer_demon_cons': 'clt_demon_cons',\n",
    "             'bcq_impala': 'bcq', \n",
    "             'dt_impala': 'dt', \n",
    "             'trajformer_traj_cons_impala': 'clt_traj_cons'}\n",
    "camel=True\n",
    "\n",
    "# get scroes from SGI_Online directory\n",
    "def get_sgi_barlow_scores():\n",
    "    scores_data_dict = {}\n",
    "    project_name = 'draftrec/SGI_online'\n",
    "    metric = 'GameScoreAverage'\n",
    "    exp_names = {'M_CONV_BYOLGOALInvfinetune': 'sgi'}\n",
    "\n",
    "    runs_df = collect_runs(project_name)\n",
    "    for wdb_exp_name, vis_exp_name in exp_names.items():\n",
    "        data = runs_df[runs_df['group'] == wdb_exp_name]\n",
    "        scores = get_scores(data, metric='GameScoreAverage')\n",
    "        scores, score_matrix = generate_score_matrix(scores, camel=camel, num_seeds=10)\n",
    "\n",
    "        scores_data_dict[vis_exp_name] = score_matrix \n",
    "    \n",
    "    return scores_data_dict\n",
    "\n",
    "sgi_barlow_scores_data_dict = get_sgi_barlow_scores()"
   ]
  },
  {
   "cell_type": "code",
   "execution_count": 23,
   "id": "31982763-332f-417b-9d05-1ea41cc93753",
   "metadata": {},
   "outputs": [
    {
     "name": "stdout",
     "output_type": "stream",
     "text": [
      "<built-in function eval>: Median: 0.181321490509118, Mean: 0.4367885971014601\n",
      "<built-in function eval>: Median: 0.20793296535596056, Mean: 0.4264508469834076\n",
      "<built-in function eval>: Median: 0.37605767753673686, Mean: 0.6470193983661756\n",
      "<built-in function eval>: Median: 0.3896548726138279, Mean: 0.5709804581358261\n",
      "<built-in function eval>: Median: 0.34496105323820286, Mean: 0.705245374292695\n",
      "<built-in function eval>: Median: 0.40821814621687375, Mean: 0.6532315834555048\n",
      "<built-in function eval>: Median: 0.2573027156970418, Mean: 0.5247177277130599\n",
      "<built-in function eval>: Median: 0.27055760946241686, Mean: 0.46472664234997507\n",
      "<built-in function eval>: Median: 0.3083857526542986, Mean: 0.6409340431793571\n",
      "drq_nature 10\n",
      "curl 10\n",
      "atc 10\n",
      "clt_vid_cons 10\n",
      "bc 10\n",
      "clt_demon_cons 10\n",
      "bcq 7\n",
      "dt 6\n",
      "clt_traj_cons 7\n",
      "sgi 9\n"
     ]
    }
   ],
   "source": [
    "scores_data_dict = {}\n",
    "\n",
    "runs_df = collect_runs(project_name)\n",
    "for wdb_exp_name, vis_exp_name in exp_names.items():\n",
    "    data = filter_runs(runs_df, wdb_exp_name, group_name)\n",
    "    scores = get_scores(data, metric)\n",
    "    scores, score_matrix = generate_score_matrix(scores, camel=camel, num_seeds=10)\n",
    "   \n",
    "    scores_data_dict[vis_exp_name] = score_matrix \n",
    "\n",
    "atari_100k_score_dict = {key: val for key, val in scores_data_dict.items()}\n",
    "atari_100k_score_dict.update(sgi_barlow_scores_data_dict)\n",
    "\n",
    "for key, value in atari_100k_score_dict.items():\n",
    "    print(key, len(value))"
   ]
  },
  {
   "cell_type": "markdown",
   "id": "260dae0b-ff27-4386-ac7d-88525cab3dda",
   "metadata": {},
   "source": [
    "#### Zero-shot"
   ]
  },
  {
   "cell_type": "raw",
   "id": "adbc4b3b-8869-4979-9023-84b8652bc724",
   "metadata": {},
   "source": [
    "project_name = 'draftrec/atari_pretrain'\n",
    "group_name = 'baseline'\n",
    "metric = 'mean_traj_game_scores'\n",
    "exp_names = {'bc': 'bc',\n",
    "             'bcq_lr3e4': 'bcq_lr3e4',\n",
    "             'bcq': 'bcq_lr1e4'}\n",
    "camel=False"
   ]
  },
  {
   "cell_type": "raw",
   "id": "a710d3c9-84f0-4dbf-916a-9ab940042aff",
   "metadata": {},
   "source": [
    "scores_data_dict = {}\n",
    "\n",
    "runs_df = collect_runs(project_name)\n",
    "for wdb_exp_name, vis_exp_name in exp_names.items():\n",
    "    data = filter_runs(runs_df, wdb_exp_name, group_name)\n",
    "    scores = get_scores(data, metric)\n",
    "    scores, score_matrix = generate_score_matrix(scores, camel=camel, num_seeds=10)\n",
    "   \n",
    "    scores_data_dict[vis_exp_name] = score_matrix \n",
    "\n",
    "atari_100k_score_dict = {key: val for key, val in scores_data_dict.items()}"
   ]
  },
  {
   "cell_type": "markdown",
   "id": "54ca2f94-930d-4729-8c94-7a682c20b4a1",
   "metadata": {},
   "source": [
    "#### Aggregation"
   ]
  },
  {
   "cell_type": "code",
   "execution_count": 24,
   "id": "25e67d99-ee79-4d20-80af-2065033edf47",
   "metadata": {},
   "outputs": [
    {
     "name": "stderr",
     "output_type": "stream",
     "text": [
      "INFO:absl:Calculating estimates for drq_nature ...\n",
      "INFO:absl:Calculating estimates for curl ...\n",
      "INFO:absl:Calculating estimates for atc ...\n",
      "INFO:absl:Calculating estimates for clt_vid_cons ...\n",
      "INFO:absl:Calculating estimates for bc ...\n",
      "INFO:absl:Calculating estimates for clt_demon_cons ...\n",
      "INFO:absl:Calculating estimates for bcq ...\n",
      "INFO:absl:Calculating estimates for dt ...\n",
      "INFO:absl:Calculating estimates for clt_traj_cons ...\n",
      "INFO:absl:Calculating estimates for sgi ...\n"
     ]
    }
   ],
   "source": [
    "aggregate_func = lambda x: np.array([IQM(x), MEDIAN(x), MEAN(x), OG(x)])\n",
    "aggregate_scores, aggregate_interval_estimates = rly.get_interval_estimates(\n",
    "    atari_100k_score_dict, aggregate_func, reps=5000)"
   ]
  },
  {
   "cell_type": "code",
   "execution_count": 25,
   "id": "734d6776-9de2-4864-b609-06462eab3773",
   "metadata": {},
   "outputs": [
    {
     "data": {
      "text/plain": [
       "{'drq_nature': array([0.2146475 , 0.18132149, 0.4367886 , 0.66351444]),\n",
       " 'curl': array([0.2469207 , 0.20793297, 0.42645085, 0.65408168]),\n",
       " 'atc': array([0.3527416 , 0.37605768, 0.6470194 , 0.56960933]),\n",
       " 'clt_vid_cons': array([0.42040002, 0.38965487, 0.57098046, 0.53320243]),\n",
       " 'bc': array([0.41337021, 0.34496105, 0.70524537, 0.53582018]),\n",
       " 'clt_demon_cons': array([0.43587191, 0.40821815, 0.65323158, 0.52482833]),\n",
       " 'bcq': array([0.32549425, 0.25730272, 0.52471773, 0.58957319]),\n",
       " 'dt': array([0.29962038, 0.27055761, 0.46472664, 0.61764199]),\n",
       " 'clt_traj_cons': array([0.40378551, 0.30838575, 0.64093404, 0.54139702]),\n",
       " 'sgi': array([0.30401023, 0.39318198, 0.69101713, 0.59953751])}"
      ]
     },
     "execution_count": 25,
     "metadata": {},
     "output_type": "execute_result"
    }
   ],
   "source": [
    "np.set_printoptions(suppress=True)\n",
    "aggregate_scores"
   ]
  },
  {
   "cell_type": "markdown",
   "id": "540e1fab-69c0-4817-9f54-eb5f3db8ab98",
   "metadata": {},
   "source": [
    "### Integrate Results"
   ]
  },
  {
   "cell_type": "code",
   "execution_count": 29,
   "id": "a1e57f55-b694-4bfd-8b23-368f340c8f5e",
   "metadata": {},
   "outputs": [
    {
     "data": {
      "image/png": "[encoded data removed]",
      "text/plain": [
       "<Figure size 1360x333 with 4 Axes>"
      ]
     },
     "metadata": {},
     "output_type": "display_data"
    },
    {
     "name": "stderr",
     "output_type": "stream",
     "text": [
      "INFO:fontTools.subset:maxp pruned\n",
      "INFO:fontTools.subset:cmap pruned\n",
      "INFO:fontTools.subset:kern dropped\n",
      "INFO:fontTools.subset:post pruned\n",
      "INFO:fontTools.subset:FFTM dropped\n",
      "INFO:fontTools.subset:GPOS pruned\n",
      "INFO:fontTools.subset:GSUB pruned\n",
      "INFO:fontTools.subset:name pruned\n",
      "INFO:fontTools.subset:glyf pruned\n",
      "INFO:fontTools.subset:Added gid0 to subset\n",
      "INFO:fontTools.subset:Added first four glyphs to subset\n",
      "INFO:fontTools.subset:Closing glyph list over 'GSUB': 42 glyphs before\n",
      "INFO:fontTools.subset:Glyph names: ['.notdef', '.null', 'G', 'H', 'I', 'M', 'N', 'O', 'Q', 'S', 'a', 'b', 'c', 'd', 'e', 'eight', 'five', 'four', 'i', 'j', 'l', 'm', 'n', 'nonmarkingreturn', 'o', 'p', 'period', 'q', 'r', 's', 'seven', 'six', 'space', 't', 'three', 'two', 'u', 'underscore', 'v', 'y', 'z', 'zero']\n",
      "INFO:fontTools.subset:Glyph IDs:   [0, 1, 2, 3, 17, 19, 21, 22, 23, 24, 25, 26, 27, 42, 43, 44, 48, 49, 50, 52, 54, 66, 68, 69, 70, 71, 72, 76, 77, 79, 80, 81, 82, 83, 84, 85, 86, 87, 88, 89, 92, 93]\n",
      "INFO:fontTools.subset:Closed glyph list over 'GSUB': 42 glyphs after\n",
      "INFO:fontTools.subset:Glyph names: ['.notdef', '.null', 'G', 'H', 'I', 'M', 'N', 'O', 'Q', 'S', 'a', 'b', 'c', 'd', 'e', 'eight', 'five', 'four', 'i', 'j', 'l', 'm', 'n', 'nonmarkingreturn', 'o', 'p', 'period', 'q', 'r', 's', 'seven', 'six', 'space', 't', 'three', 'two', 'u', 'underscore', 'v', 'y', 'z', 'zero']\n",
      "INFO:fontTools.subset:Glyph IDs:   [0, 1, 2, 3, 17, 19, 21, 22, 23, 24, 25, 26, 27, 42, 43, 44, 48, 49, 50, 52, 54, 66, 68, 69, 70, 71, 72, 76, 77, 79, 80, 81, 82, 83, 84, 85, 86, 87, 88, 89, 92, 93]\n",
      "INFO:fontTools.subset:Closing glyph list over 'MATH': 42 glyphs before\n",
      "INFO:fontTools.subset:Glyph names: ['.notdef', '.null', 'G', 'H', 'I', 'M', 'N', 'O', 'Q', 'S', 'a', 'b', 'c', 'd', 'e', 'eight', 'five', 'four', 'i', 'j', 'l', 'm', 'n', 'nonmarkingreturn', 'o', 'p', 'period', 'q', 'r', 's', 'seven', 'six', 'space', 't', 'three', 'two', 'u', 'underscore', 'v', 'y', 'z', 'zero']\n",
      "INFO:fontTools.subset:Glyph IDs:   [0, 1, 2, 3, 17, 19, 21, 22, 23, 24, 25, 26, 27, 42, 43, 44, 48, 49, 50, 52, 54, 66, 68, 69, 70, 71, 72, 76, 77, 79, 80, 81, 82, 83, 84, 85, 86, 87, 88, 89, 92, 93]\n",
      "INFO:fontTools.subset:Closed glyph list over 'MATH': 42 glyphs after\n",
      "INFO:fontTools.subset:Glyph names: ['.notdef', '.null', 'G', 'H', 'I', 'M', 'N', 'O', 'Q', 'S', 'a', 'b', 'c', 'd', 'e', 'eight', 'five', 'four', 'i', 'j', 'l', 'm', 'n', 'nonmarkingreturn', 'o', 'p', 'period', 'q', 'r', 's', 'seven', 'six', 'space', 't', 'three', 'two', 'u', 'underscore', 'v', 'y', 'z', 'zero']\n",
      "INFO:fontTools.subset:Glyph IDs:   [0, 1, 2, 3, 17, 19, 21, 22, 23, 24, 25, 26, 27, 42, 43, 44, 48, 49, 50, 52, 54, 66, 68, 69, 70, 71, 72, 76, 77, 79, 80, 81, 82, 83, 84, 85, 86, 87, 88, 89, 92, 93]\n",
      "INFO:fontTools.subset:Closing glyph list over 'glyf': 42 glyphs before\n",
      "INFO:fontTools.subset:Glyph names: ['.notdef', '.null', 'G', 'H', 'I', 'M', 'N', 'O', 'Q', 'S', 'a', 'b', 'c', 'd', 'e', 'eight', 'five', 'four', 'i', 'j', 'l', 'm', 'n', 'nonmarkingreturn', 'o', 'p', 'period', 'q', 'r', 's', 'seven', 'six', 'space', 't', 'three', 'two', 'u', 'underscore', 'v', 'y', 'z', 'zero']\n",
      "INFO:fontTools.subset:Glyph IDs:   [0, 1, 2, 3, 17, 19, 21, 22, 23, 24, 25, 26, 27, 42, 43, 44, 48, 49, 50, 52, 54, 66, 68, 69, 70, 71, 72, 76, 77, 79, 80, 81, 82, 83, 84, 85, 86, 87, 88, 89, 92, 93]\n",
      "INFO:fontTools.subset:Closed glyph list over 'glyf': 42 glyphs after\n",
      "INFO:fontTools.subset:Glyph names: ['.notdef', '.null', 'G', 'H', 'I', 'M', 'N', 'O', 'Q', 'S', 'a', 'b', 'c', 'd', 'e', 'eight', 'five', 'four', 'i', 'j', 'l', 'm', 'n', 'nonmarkingreturn', 'o', 'p', 'period', 'q', 'r', 's', 'seven', 'six', 'space', 't', 'three', 'two', 'u', 'underscore', 'v', 'y', 'z', 'zero']\n",
      "INFO:fontTools.subset:Glyph IDs:   [0, 1, 2, 3, 17, 19, 21, 22, 23, 24, 25, 26, 27, 42, 43, 44, 48, 49, 50, 52, 54, 66, 68, 69, 70, 71, 72, 76, 77, 79, 80, 81, 82, 83, 84, 85, 86, 87, 88, 89, 92, 93]\n",
      "INFO:fontTools.subset:Retaining 42 glyphs\n",
      "INFO:fontTools.subset:head subsetting not needed\n",
      "INFO:fontTools.subset:hhea subsetting not needed\n",
      "INFO:fontTools.subset:maxp subsetting not needed\n",
      "INFO:fontTools.subset:OS/2 subsetting not needed\n",
      "INFO:fontTools.subset:hmtx subsetted\n",
      "INFO:fontTools.subset:cmap subsetted\n",
      "INFO:fontTools.subset:fpgm subsetting not needed\n",
      "INFO:fontTools.subset:prep subsetting not needed\n",
      "INFO:fontTools.subset:cvt  subsetting not needed\n",
      "INFO:fontTools.subset:loca subsetting not needed\n",
      "INFO:fontTools.subset:post subsetted\n",
      "INFO:fontTools.subset:gasp subsetting not needed\n",
      "INFO:fontTools.subset:GDEF subsetted\n",
      "INFO:fontTools.subset:GPOS subsetted\n",
      "INFO:fontTools.subset:GSUB subsetted\n",
      "INFO:fontTools.subset:MATH subsetted\n",
      "INFO:fontTools.subset:name subsetting not needed\n",
      "INFO:fontTools.subset:glyf subsetted\n",
      "INFO:fontTools.subset:head pruned\n",
      "INFO:fontTools.subset:OS/2 Unicode ranges pruned: [0]\n",
      "INFO:fontTools.subset:glyf pruned\n",
      "INFO:fontTools.subset:GDEF pruned\n",
      "INFO:fontTools.subset:GPOS pruned\n",
      "INFO:fontTools.subset:GSUB pruned\n"
     ]
    },
    {
     "data": {
      "text/plain": [
       "'atari_100k_aggregates.pdf'"
      ]
     },
     "execution_count": 29,
     "metadata": {},
     "output_type": "execute_result"
    }
   ],
   "source": [
    "algorithms = list(exp_names.values())\n",
    "ATARI_100K_COLOR_DICT = dict(zip(algorithms, [colors[idx] for idx in color_idxs]))\n",
    "\n",
    "fig, axes = plot_utils.plot_interval_estimates(\n",
    "    aggregate_scores, \n",
    "    aggregate_interval_estimates,\n",
    "    metric_names = ['IQM', 'Median', 'Mean', 'Optimality Gap'],\n",
    "    algorithms=algorithms,\n",
    "    colors=ATARI_100K_COLOR_DICT,\n",
    "    xlabel_y_coordinate=-0.3,\n",
    "    xlabel='Human Normalized Score')\n",
    "#fig.tight_layout()\n",
    "plt.show()\n",
    "save_fig(fig, 'atari_100k_aggregates')"
   ]
  },
  {
   "cell_type": "code",
   "execution_count": 27,
   "id": "68fa8de2-3b13-4336-9d11-049849bc35e3",
   "metadata": {},
   "outputs": [
    {
     "data": {
      "text/plain": [
       "[0, 1, 2, 3, 4, 5, 6, 7, 8, 9, 10, 11, 12]"
      ]
     },
     "execution_count": 27,
     "metadata": {},
     "output_type": "execute_result"
    }
   ],
   "source": [
    "color_idxs"
   ]
  },
  {
   "cell_type": "code",
   "execution_count": null,
   "id": "15849129-c002-43af-bf2a-1c35fa8d24f3",
   "metadata": {},
   "outputs": [],
   "source": []
  }
 ],
 "metadata": {
  "kernelspec": {
   "display_name": "Python 3 (ipykernel)",
   "language": "python",
   "name": "python3"
  },
  "language_info": {
   "codemirror_mode": {
    "name": "ipython",
    "version": 3
   },
   "file_extension": ".py",
   "mimetype": "text/x-python",
   "name": "python",
   "nbconvert_exporter": "python",
   "pygments_lexer": "ipython3",
   "version": "3.8.12"
  }
 },
 "nbformat": 4,
 "nbformat_minor": 5
}
