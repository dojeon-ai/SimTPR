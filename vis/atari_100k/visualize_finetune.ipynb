{
 "cells": [
  {
   "cell_type": "markdown",
   "id": "22ab515d-2004-42c0-8c43-9aac6591ccfd",
   "metadata": {},
   "source": [
    "### 1. Setup"
   ]
  },
  {
   "cell_type": "markdown",
   "id": "d742b5d5-c610-4e89-9e27-5ebc73f45ae8",
   "metadata": {},
   "source": [
    "#### 1.1 Import Packages"
   ]
  },
  {
   "cell_type": "code",
   "execution_count": 1,
   "id": "9279e869-bb2c-4c18-ac16-c40b4c465719",
   "metadata": {
    "tags": []
   },
   "outputs": [
    {
     "name": "stdout",
     "output_type": "stream",
     "text": [
      "Collecting git+https://github.com/google-research/rliable\n",
      "  Cloning https://github.com/google-research/rliable to /tmp/pip-req-build-oixye0o_\n",
      "  Running command git clone -q https://github.com/google-research/rliable /tmp/pip-req-build-oixye0o_\n",
      "  Resolved https://github.com/google-research/rliable to commit 7b996370f6ba6f49b1d82db1de9c1c5649c52a12\n",
      "Requirement already satisfied: arch==5.3.0 in /home/nas3_userK/hojoonlee/anaconda3/envs/atari/lib/python3.9/site-packages (from rliable==1.0.8) (5.3.0)\n",
      "Requirement already satisfied: scipy>=1.7.0 in /home/nas3_userK/hojoonlee/anaconda3/envs/atari/lib/python3.9/site-packages (from rliable==1.0.8) (1.8.0)\n",
      "Requirement already satisfied: absl-py>=0.9.0 in /home/nas3_userK/hojoonlee/anaconda3/envs/atari/lib/python3.9/site-packages (from rliable==1.0.8) (1.1.0)\n",
      "Requirement already satisfied: numpy>=1.16.4 in /home/nas3_userK/hojoonlee/anaconda3/envs/atari/lib/python3.9/site-packages (from rliable==1.0.8) (1.22.3)\n",
      "Requirement already satisfied: seaborn>=0.11.2 in /home/nas3_userK/hojoonlee/anaconda3/envs/atari/lib/python3.9/site-packages (from rliable==1.0.8) (0.11.2)\n",
      "Requirement already satisfied: property-cached>=1.6.4 in /home/nas3_userK/hojoonlee/anaconda3/envs/atari/lib/python3.9/site-packages (from arch==5.3.0->rliable==1.0.8) (1.6.4)\n",
      "Requirement already satisfied: pandas>=1.0 in /home/nas3_userK/hojoonlee/anaconda3/envs/atari/lib/python3.9/site-packages (from arch==5.3.0->rliable==1.0.8) (1.3.0)\n",
      "Requirement already satisfied: statsmodels>=0.11 in /home/nas3_userK/hojoonlee/anaconda3/envs/atari/lib/python3.9/site-packages (from arch==5.3.0->rliable==1.0.8) (0.13.2)\n",
      "Requirement already satisfied: python-dateutil>=2.7.3 in /home/nas3_userK/hojoonlee/anaconda3/envs/atari/lib/python3.9/site-packages (from pandas>=1.0->arch==5.3.0->rliable==1.0.8) (2.8.2)\n",
      "Requirement already satisfied: pytz>=2017.3 in /home/nas3_userK/hojoonlee/anaconda3/envs/atari/lib/python3.9/site-packages (from pandas>=1.0->arch==5.3.0->rliable==1.0.8) (2021.3)\n",
      "Requirement already satisfied: six>=1.5 in /home/nas3_userK/hojoonlee/anaconda3/envs/atari/lib/python3.9/site-packages (from python-dateutil>=2.7.3->pandas>=1.0->arch==5.3.0->rliable==1.0.8) (1.16.0)\n",
      "Requirement already satisfied: matplotlib>=2.2 in /home/nas3_userK/hojoonlee/anaconda3/envs/atari/lib/python3.9/site-packages (from seaborn>=0.11.2->rliable==1.0.8) (3.5.2)\n",
      "Requirement already satisfied: fonttools>=4.22.0 in /home/nas3_userK/hojoonlee/anaconda3/envs/atari/lib/python3.9/site-packages (from matplotlib>=2.2->seaborn>=0.11.2->rliable==1.0.8) (4.33.3)\n",
      "Requirement already satisfied: kiwisolver>=1.0.1 in /home/nas3_userK/hojoonlee/anaconda3/envs/atari/lib/python3.9/site-packages (from matplotlib>=2.2->seaborn>=0.11.2->rliable==1.0.8) (1.4.2)\n",
      "Requirement already satisfied: packaging>=20.0 in /home/nas3_userK/hojoonlee/anaconda3/envs/atari/lib/python3.9/site-packages (from matplotlib>=2.2->seaborn>=0.11.2->rliable==1.0.8) (21.3)\n",
      "Requirement already satisfied: cycler>=0.10 in /home/nas3_userK/hojoonlee/anaconda3/envs/atari/lib/python3.9/site-packages (from matplotlib>=2.2->seaborn>=0.11.2->rliable==1.0.8) (0.11.0)\n",
      "Requirement already satisfied: pillow>=6.2.0 in /home/nas3_userK/hojoonlee/anaconda3/envs/atari/lib/python3.9/site-packages (from matplotlib>=2.2->seaborn>=0.11.2->rliable==1.0.8) (9.1.0)\n",
      "Requirement already satisfied: pyparsing>=2.2.1 in /home/nas3_userK/hojoonlee/anaconda3/envs/atari/lib/python3.9/site-packages (from matplotlib>=2.2->seaborn>=0.11.2->rliable==1.0.8) (3.0.9)\n",
      "Requirement already satisfied: patsy>=0.5.2 in /home/nas3_userK/hojoonlee/anaconda3/envs/atari/lib/python3.9/site-packages (from statsmodels>=0.11->arch==5.3.0->rliable==1.0.8) (0.5.2)\n",
      "Collecting inflection\n",
      "  Downloading inflection-0.5.1-py2.py3-none-any.whl (9.5 kB)\n",
      "Installing collected packages: inflection\n",
      "Successfully installed inflection-0.5.1\n"
     ]
    }
   ],
   "source": [
    "!pip3 install git+https://github.com/google-research/rliable\n",
    "!pip3 install inflection"
   ]
  },
  {
   "cell_type": "code",
   "execution_count": 2,
   "id": "05c94819-cca8-43b8-8199-66645d7a5c8e",
   "metadata": {},
   "outputs": [],
   "source": [
    "from rliable import library as rly\n",
    "from rliable import metrics\n",
    "from rliable import plot_utils"
   ]
  },
  {
   "cell_type": "code",
   "execution_count": 3,
   "id": "cb9f315b-cadc-4ef8-ab0d-be70cf6282b1",
   "metadata": {},
   "outputs": [],
   "source": [
    "import collections\n",
    "import numpy as np\n",
    "import matplotlib.patches as patches\n",
    "import sys\n",
    "import pickle\n",
    "import pandas as pd\n",
    "import copy\n",
    "import functools\n",
    "import json\n",
    "import os\n",
    "\n",
    "import itertools as it\n",
    "import random\n",
    "import inspect\n",
    "import scipy.stats\n",
    " \n",
    "import getpass\n",
    "import os.path as osp\n",
    " \n",
    "# See warnings only once\n",
    "import warnings\n",
    "warnings.filterwarnings('default')\n",
    " \n",
    "import inflection\n",
    "from functools import partial\n",
    "\n",
    "# The answer to life, universe and everything\n",
    "RAND_STATE = np.random.RandomState(42)\n",
    "\n",
    "import logging\n",
    "logger = logging.getLogger()\n",
    "logger.setLevel(logging.INFO)"
   ]
  },
  {
   "cell_type": "markdown",
   "id": "74ee5ce6-104e-4b44-9352-94fec62a1321",
   "metadata": {},
   "source": [
    "#### 1.2 Plotting Utilities"
   ]
  },
  {
   "cell_type": "code",
   "execution_count": 4,
   "id": "cf6a232e-2ad3-435d-944e-72b1c73c9cef",
   "metadata": {},
   "outputs": [],
   "source": [
    "#@title Plotting: Seaborn style and matplotlib params\n",
    "import matplotlib.pyplot as plt\n",
    "from matplotlib.ticker import PercentFormatter\n",
    "from matplotlib.ticker import MaxNLocator\n",
    "import matplotlib.patches as mpatches\n",
    "import seaborn as sns\n",
    "\n",
    "sns.set_style(\"white\")\n",
    "\n",
    "# Matplotlib params\n",
    "from matplotlib import rcParams\n",
    "from matplotlib import rc\n",
    "\n",
    "rcParams['legend.loc'] = 'best'\n",
    "rcParams['pdf.fonttype'] = 42\n",
    "rcParams['ps.fonttype'] = 42\n",
    "\n",
    "rc('text', usetex=False)"
   ]
  },
  {
   "cell_type": "code",
   "execution_count": 5,
   "id": "0526df85-f972-4709-9d2a-e48e3e892c28",
   "metadata": {},
   "outputs": [],
   "source": [
    "#@title Plotting Helpers\n",
    "\n",
    "def save_fig(fig, name):\n",
    "    file_name = '{}.pdf'.format(name)\n",
    "    fig.savefig(file_name, format='pdf', bbox_inches='tight')\n",
    "    return file_name\n",
    "\n",
    "def set_axes(ax, xlim, ylim, xlabel, ylabel):\n",
    "    ax.set_xlim(xlim)\n",
    "    ax.set_ylim(ylim)\n",
    "    ax.set_xlabel(xlabel, labelpad=14)\n",
    "    ax.set_ylabel(ylabel, labelpad=14)\n",
    "\n",
    "def set_ticks(ax, xticks, xticklabels, yticks, yticklabels):\n",
    "    ax.set_xticks(xticks)\n",
    "    ax.set_xticklabels(xticklabels)\n",
    "    ax.set_yticks(yticks)\n",
    "    ax.set_yticklabels(yticklabels)\n",
    "\n",
    "def decorate_axis(ax, wrect=10, hrect=10, labelsize='medium'):\n",
    "    # Hide the right and top spines\n",
    "    ax.spines['right'].set_visible(False)\n",
    "    ax.spines['top'].set_visible(False)\n",
    "    ax.spines['left'].set_linewidth(2)\n",
    "    ax.spines['bottom'].set_linewidth(2)\n",
    "    # Deal with ticks and the blank space at the origin\n",
    "    ax.tick_params(length=0.1, width=0.1, labelsize=labelsize)\n",
    "    # Pablos' comment\n",
    "    ax.spines['left'].set_position(('outward', hrect))\n",
    "    ax.spines['bottom'].set_position(('outward', wrect))"
   ]
  },
  {
   "cell_type": "markdown",
   "id": "b489fc84-8839-43d3-b555-eaa736fb349e",
   "metadata": {},
   "source": [
    "#### 1.3 Score Normalisation & Aggregation"
   ]
  },
  {
   "cell_type": "code",
   "execution_count": 6,
   "id": "1e5cf9c2-f234-4363-9af1-e48ae11d921c",
   "metadata": {},
   "outputs": [],
   "source": [
    "#@title Helpers for normalizing scores and plotting histogram plots.\n",
    "def pgs(f):\n",
    "    print(inspect.getsource(f))\n",
    "\n",
    "def score_normalization(res_dict, min_scores, max_scores):\n",
    "    games = res_dict.keys()\n",
    "    norm_scores = {}\n",
    "    for game, scores in res_dict.items():\n",
    "        norm_scores[game] = (scores - min_scores[game])/(max_scores[game] - min_scores[game])\n",
    "    return norm_scores\n",
    "\n",
    "def plot_score_hist(score_matrix, bins=20, figsize=(28, 14), \n",
    "                    fontsize='xx-large', N=6, extra_row=1,\n",
    "                    names=None):\n",
    "    num_tasks = score_matrix.shape[1]\n",
    "    if names is None:\n",
    "        names = ATARI_100K_GAMES\n",
    "    N1 = (num_tasks // N) + extra_row\n",
    "    fig, ax = plt.subplots(nrows=N1, ncols=N, figsize=figsize)\n",
    "    for i in range(N):\n",
    "        for j in range(N1):\n",
    "            idx = j * N + i\n",
    "            if idx < num_tasks:\n",
    "                ax[j, i].set_title(names[idx], fontsize=fontsize)\n",
    "                sns.histplot(score_matrix[:, idx], bins=bins, ax=ax[j,i], kde=True)\n",
    "            else:\n",
    "                ax[j, i].axis('off')\n",
    "            decorate_axis(ax[j, i], wrect=5, hrect=5, labelsize='xx-large')\n",
    "            ax[j, i].xaxis.set_major_locator(plt.MaxNLocator(4))\n",
    "            if idx % N == 0:\n",
    "                ax[j, i].set_ylabel('Count', size=fontsize)\n",
    "            else:\n",
    "                ax[j, i].yaxis.label.set_visible(False)\n",
    "            ax[j, i].grid(axis='y', alpha=0.1)\n",
    "    return fig\n",
    "\n",
    "StratifiedBootstrap = rly.StratifiedBootstrap\n",
    "\n",
    "IQM = lambda x: metrics.aggregate_iqm(x) # Interquartile Mean\n",
    "OG = lambda x: metrics.aggregate_optimality_gap(x, 1.0) # Optimality Gap\n",
    "MEAN = lambda x: metrics.aggregate_mean(x)\n",
    "MEDIAN = lambda x: metrics.aggregate_median(x)"
   ]
  },
  {
   "cell_type": "code",
   "execution_count": 7,
   "id": "324e3aec-1113-4da6-8a1e-d5bea08db331",
   "metadata": {},
   "outputs": [],
   "source": [
    "#@title Atari 100k -- List of 26 Games\n",
    "\n",
    "ATARI_100K_GAMES = [\n",
    "    'Alien', 'Amidar', 'Assault', 'Asterix', 'BankHeist', 'BattleZone',\n",
    "    'Boxing', 'Breakout', 'ChopperCommand', 'CrazyClimber', 'DemonAttack',\n",
    "    'Freeway', 'Frostbite', 'Gopher', 'Hero', 'Jamesbond', 'Kangaroo',\n",
    "    'Krull', 'KungFuMaster', 'MsPacman', 'Pong', 'PrivateEye', 'Qbert',\n",
    "    'RoadRunner', 'Seaquest', 'UpNDown'\n",
    "]\n",
    "\n",
    "RANDOM_SCORES = {\n",
    "    'Alien': 227.8,\n",
    "    'Amidar': 5.8,\n",
    "    'Assault': 222.4,\n",
    "    'Asterix': 210.0,\n",
    "    'BankHeist': 14.2,\n",
    "    'BattleZone': 2360.0,\n",
    "    'Boxing': 0.1,\n",
    "    'Breakout': 1.7,\n",
    "    'ChopperCommand': 811.0,\n",
    "    'CrazyClimber': 10780.5,\n",
    "    'DemonAttack': 152.1,\n",
    "    'Freeway': 0.0,\n",
    "    'Frostbite': 65.2,\n",
    "    'Gopher': 257.6,\n",
    "    'Hero': 1027.0,\n",
    "    'Jamesbond': 29.0,\n",
    "    'Kangaroo': 52.0,\n",
    "    'Krull': 1598.0,\n",
    "    'KungFuMaster': 258.5,\n",
    "    'MsPacman': 307.3,\n",
    "    'Pong': -20.7,\n",
    "    'PrivateEye': 24.9,\n",
    "    'Qbert': 163.9,\n",
    "    'RoadRunner': 11.5,\n",
    "    'Seaquest': 68.4,\n",
    "    'UpNDown': 533.4\n",
    "}\n",
    "\n",
    "HUMAN_SCORES = {\n",
    "    'Alien': 7127.7,\n",
    "    'Amidar': 1719.5,\n",
    "    'Assault': 742.0,\n",
    "    'Asterix': 8503.3,\n",
    "    'BankHeist': 753.1,\n",
    "    'BattleZone': 37187.5,\n",
    "    'Boxing': 12.1,\n",
    "    'Breakout': 30.5,\n",
    "    'ChopperCommand': 7387.8,\n",
    "    'CrazyClimber': 35829.4,\n",
    "    'DemonAttack': 1971.0,\n",
    "    'Freeway': 29.6,\n",
    "    'Frostbite': 4334.7,\n",
    "    'Gopher': 2412.5,\n",
    "    'Hero': 30826.4,\n",
    "    'Jamesbond': 302.8,\n",
    "    'Kangaroo': 3035.0,\n",
    "    'Krull': 2665.5,\n",
    "    'KungFuMaster': 22736.3,\n",
    "    'MsPacman': 6951.6,\n",
    "    'Pong': 14.6,\n",
    "    'PrivateEye': 69571.3,\n",
    "    'Qbert': 13455.0,\n",
    "    'RoadRunner': 7845.0,\n",
    "    'Seaquest': 42054.7,\n",
    "    'UpNDown': 11693.2\n",
    "}"
   ]
  },
  {
   "cell_type": "markdown",
   "id": "9c4649c8-e1a7-4579-b2bc-d995a19da569",
   "metadata": {},
   "source": [
    "#### 1.4 DataLoader (from wandb)"
   ]
  },
  {
   "cell_type": "code",
   "execution_count": 8,
   "id": "823a05bb-0d80-4fda-9b21-1cc6950eba3d",
   "metadata": {},
   "outputs": [],
   "source": [
    "import pandas as pd \n",
    "import wandb\n",
    "\n",
    "def collect_runs(project_name='draftrec/atari_finetune'):\n",
    "    api = wandb.Api()\n",
    "\n",
    "    # Project is specified by <entity/project-name>\n",
    "    runs = api.runs(project_name)\n",
    "    summary_list, group_list, config_list, id_list = [], [], [], []\n",
    "    for run in runs: \n",
    "        # .summary contains the output keys/values for metrics like accuracy.\n",
    "        #  We call ._json_dict to omit large files \n",
    "        \n",
    "        group_list.append(run.group)\n",
    "        summary_list.append(run.summary._json_dict)\n",
    "\n",
    "        # .config contains the hyperparameters.\n",
    "        #  We remove special values that start with _.\n",
    "        config_list.append(\n",
    "            {k: v for k,v in run.config.items()\n",
    "              if not k.startswith('_')})\n",
    "\n",
    "        # .name is the human-readable name of the run.\n",
    "        id_list.append(run.id)\n",
    "\n",
    "    runs_df = pd.DataFrame({\n",
    "        \"summary\": summary_list,\n",
    "        \"group\": group_list,\n",
    "        \"config\": config_list,\n",
    "        \"id\": id_list,\n",
    "        })\n",
    "    \n",
    "    return runs_df\n",
    "\n",
    "def filter_runs(runs_df, exp_name, group_name):\n",
    "    configs = runs_df['config']\n",
    "    indexs = []\n",
    "    for idx, config in enumerate(configs):\n",
    "        if len(config) == 0:\n",
    "            continue\n",
    "\n",
    "        run_exp_name = config['exp_name']\n",
    "        run_group_name = config['group_name']\n",
    "\n",
    "        # condition\n",
    "        if run_exp_name == exp_name and run_group_name == group_name:\n",
    "            if 'env' in config:\n",
    "                indexs.append(idx)\n",
    "                \n",
    "    data = runs_df.iloc[indexs]\n",
    "    \n",
    "    return data\n",
    "\n",
    "def get_scores(data, metric='eval_mean_traj_game_scores'):\n",
    "    scores = []\n",
    "    for idx in range(len(data)):\n",
    "        row = data.iloc[idx]\n",
    "        summary = row['summary']\n",
    "        config = row['config']\n",
    "\n",
    "        if 'env' not in config:\n",
    "            continue\n",
    "\n",
    "        game = config['env']['game']\n",
    "        try:\n",
    "            score = summary[metric]\n",
    "        except:\n",
    "            continue\n",
    "            \n",
    "        scores.append([0, game, score, 0])\n",
    "\n",
    "    return scores\n",
    "\n",
    "def snake_to_camel(name):\n",
    "    return ''.join(word.title() for word in name.split('_'))\n",
    "\n",
    "def convert_to_matrix(score_dict):\n",
    "    keys = sorted(list(score_dict.keys()))\n",
    "    return np.stack([score_dict[k] for k in keys], axis=1)\n",
    "  \n",
    "def generate_score_matrix(scores, camel=True, num_seeds=10):\n",
    "    _scores = {}\n",
    "    for game in ATARI_100K_GAMES:\n",
    "        _scores[game] = []\n",
    "\n",
    "    for score in scores:\n",
    "        if camel:\n",
    "            game = snake_to_camel(score[1])\n",
    "        else:\n",
    "            game = score[1]\n",
    "\n",
    "        if (game == 'Median') or (game == 'Mean'):\n",
    "            continue\n",
    "        _scores[game].append(score[2])\n",
    "\n",
    "    num_min_seed = 999\n",
    "    for game, score in _scores.items():\n",
    "        num_min_seed = min(num_min_seed, len(score))\n",
    "    \n",
    "    num_min_seed = min(num_min_seed, num_seeds)\n",
    "    for game, score in _scores.items():\n",
    "        _scores[game] = np.array(score[-num_min_seed:])\n",
    "\n",
    "    scores = score_normalization(_scores, RANDOM_SCORES, HUMAN_SCORES)\n",
    "    score_matrix = convert_to_matrix(scores)\n",
    "    median, mean = MEDIAN(score_matrix), MEAN(score_matrix)\n",
    "    print('{}: Median: {}, Mean: {}'.format(eval, median, mean))\n",
    "        \n",
    "    return scores, score_matrix"
   ]
  },
  {
   "cell_type": "markdown",
   "id": "af8cdc96-6b47-4cd9-a1ec-d45b3110b635",
   "metadata": {},
   "source": [
    "#### 1.5 Subsampler"
   ]
  },
  {
   "cell_type": "code",
   "execution_count": 9,
   "id": "59bf326e-18af-4918-9681-23d80742b3f3",
   "metadata": {},
   "outputs": [],
   "source": [
    "def subsample_scores(score_dict, n=5, replace=False):\n",
    "    subsampled_dict = {}\n",
    "    total_samples = len(score_dict[list(score_dict.keys())[0]])\n",
    "    for game, scores in score_dict.items():\n",
    "        indices = np.random.choice(range(total_samples), size=n, replace=replace)\n",
    "        subsampled_dict[game] = scores[indices]\n",
    "    return subsampled_dict\n",
    "\n",
    "def subsample_scores_mat(score_mat, num_samples=5, replace=False):\n",
    "    subsampled_dict = []\n",
    "    total_samples, num_games = score_mat.shape\n",
    "    subsampled_scores = np.empty((num_samples, num_games))\n",
    "    for i in range(num_games):\n",
    "        indices = np.random.choice(total_samples, size=num_samples, replace=replace)\n",
    "        subsampled_scores[:, i] = score_mat[indices, i]\n",
    "    return subsampled_scores\n",
    "\n",
    "def subsample_seeds(score_mat, num_samples=5, replace=False):\n",
    "    indices = np.random.choice(\n",
    "        score_mat.shape[0], size=num_samples, replace=replace)\n",
    "    return score_mat[indices]\n",
    "\n",
    "def batch_subsample_seeds(score_mat, num_samples=5, batch_size=100,\n",
    "                          replace=False):\n",
    "    indices = [\n",
    "        np.random.choice(score_mat.shape[0], size=num_samples, replace=replace)\n",
    "        for _ in range(batch_size)\n",
    "    ]\n",
    "    return (score_mat[idx] for idx in indices)\n",
    "\n",
    "def subsample_scores_mat_with_replacement(score_mat, num_samples=5):\n",
    "    subsampled_dict = []\n",
    "    total_samples, num_games = score_mat.shape\n",
    "    indices = np.random.choice(\n",
    "      total_samples, size=(num_samples, num_games), replace=True)\n",
    "    col_indices =  np.expand_dims(np.arange(num_games), axis=0)\n",
    "    col_indices = np.repeat(col_indices, num_samples, axis=0)\n",
    "    subsampled_scores = score_mat[indices, col_indices]\n",
    "    return subsampled_scores"
   ]
  },
  {
   "cell_type": "markdown",
   "id": "fcfcb554-a5b0-446b-a1a3-a439e4fae503",
   "metadata": {},
   "source": [
    "#### 1.6 Subsample Aggregator"
   ]
  },
  {
   "cell_type": "code",
   "execution_count": 10,
   "id": "915422f3-51e3-4290-b222-6863e5223d19",
   "metadata": {},
   "outputs": [],
   "source": [
    "#@title Aggregate computation helpers\n",
    "\n",
    "SIZES = [3, 5, 10, 25, 50, 100]\n",
    "\n",
    "def calc_aggregate_fn(score_data, num_samples=5, total_n=20000, \n",
    "                      aggregate_fn=MEDIAN, replace=False):\n",
    "    subsampled_scores = batch_subsample_seeds(\n",
    "      score_data, num_samples, batch_size=total_n, replace=replace)\n",
    "    aggregates = [aggregate_fn(scores) for scores in subsampled_scores]\n",
    "    return np.array(aggregates)\n",
    "\n",
    "def calculate_aggregate_varying_sizes(score_matrix, aggregate_fn, total_n=20000,\n",
    "                                      sizes=None, replace=False):\n",
    "    agg_dict = {}\n",
    "    if sizes is None:\n",
    "        sizes = SIZES\n",
    "    for size in sizes:\n",
    "        agg_dict[n] = calc_aggregate_fn(score_matrix, num_samples=size, aggregate_fn=aggregate_fn,\n",
    "                                    total_n=total_n, replace=replace)\n",
    "        print('Mean Aggregate: {}'.format(np.mean(agg_dict[n])))\n",
    "    return agg_dict\n",
    "\n",
    "def CI(bootstrap_dist, stat_val=None, alpha=0.05, is_pivotal=False):\n",
    "    \"\"\"\n",
    "    Get the bootstrap confidence interval for a given distribution.\n",
    "    Args:\n",
    "      bootstrap_distribution: numpy array of bootstrap results.\n",
    "      stat_val: The overall statistic that this method is attempting to\n",
    "        calculate error bars for. Default is None.\n",
    "      alpha: The alpha value for the confidence intervals.\n",
    "      is_pivotal: if true, use the pivotal (reverse percentile) method. \n",
    "        If false, use the percentile method.\n",
    "    Returns:\n",
    "      (low, high): The lower and upper limit for `alpha` x 100% CIs.\n",
    "      val: The median value of the bootstrap distribution if `stat_val` is None\n",
    "        else `stat_val`.\n",
    "    \"\"\"\n",
    "    # Adapted from https://pypi.org/project/bootstrapped\n",
    "    if is_pivotal:\n",
    "        assert stat_val is not None, 'Please pass the statistic for a pivotal'\n",
    "        'confidence interval' \n",
    "        low = 2 * stat_val - np.percentile(bootstrap_dist, 100 * (1 - alpha / 2.))\n",
    "        val = stat_val\n",
    "        high = 2 * stat_val - np.percentile(bootstrap_dist, 100 * (alpha / 2.))\n",
    "    else:\n",
    "        low = np.percentile(bootstrap_dist, 100 * (alpha / 2.))\n",
    "        val = np.percentile(bootstrap_dist, 50)\n",
    "        high = np.percentile(bootstrap_dist, 100 * (1 - alpha / 2.))\n",
    "    return (low, high), val"
   ]
  },
  {
   "cell_type": "markdown",
   "id": "640b8f3e-5c99-4442-878e-a443e1378b85",
   "metadata": {},
   "source": [
    "#### 1.7 Color Utilities"
   ]
  },
  {
   "cell_type": "code",
   "execution_count": 11,
   "id": "5b0ce5ee-6fe1-4de4-9625-7abe9de953ab",
   "metadata": {},
   "outputs": [
    {
     "data": {
      "text/html": [
       "<svg  width=\"1320\" height=\"55\"><rect x=\"0\" y=\"0\" width=\"55\" height=\"55\" style=\"fill:#b41947;stroke-width:2;stroke:rgb(255,255,255)\"/><rect x=\"55\" y=\"0\" width=\"55\" height=\"55\" style=\"fill:#c9314c;stroke-width:2;stroke:rgb(255,255,255)\"/><rect x=\"110\" y=\"0\" width=\"55\" height=\"55\" style=\"fill:#da464d;stroke-width:2;stroke:rgb(255,255,255)\"/><rect x=\"165\" y=\"0\" width=\"55\" height=\"55\" style=\"fill:#e75948;stroke-width:2;stroke:rgb(255,255,255)\"/><rect x=\"220\" y=\"0\" width=\"55\" height=\"55\" style=\"fill:#f46d43;stroke-width:2;stroke:rgb(255,255,255)\"/><rect x=\"275\" y=\"0\" width=\"55\" height=\"55\" style=\"fill:#f8864f;stroke-width:2;stroke:rgb(255,255,255)\"/><rect x=\"330\" y=\"0\" width=\"55\" height=\"55\" style=\"fill:#fba05b;stroke-width:2;stroke:rgb(255,255,255)\"/><rect x=\"385\" y=\"0\" width=\"55\" height=\"55\" style=\"fill:#fdb768;stroke-width:2;stroke:rgb(255,255,255)\"/><rect x=\"440\" y=\"0\" width=\"55\" height=\"55\" style=\"fill:#fecc7b;stroke-width:2;stroke:rgb(255,255,255)\"/><rect x=\"495\" y=\"0\" width=\"55\" height=\"55\" style=\"fill:#fee08b;stroke-width:2;stroke:rgb(255,255,255)\"/><rect x=\"550\" y=\"0\" width=\"55\" height=\"55\" style=\"fill:#feec9f;stroke-width:2;stroke:rgb(255,255,255)\"/><rect x=\"605\" y=\"0\" width=\"55\" height=\"55\" style=\"fill:#fff8b4;stroke-width:2;stroke:rgb(255,255,255)\"/><rect x=\"660\" y=\"0\" width=\"55\" height=\"55\" style=\"fill:#fafdb7;stroke-width:2;stroke:rgb(255,255,255)\"/><rect x=\"715\" y=\"0\" width=\"55\" height=\"55\" style=\"fill:#f0f9a7;stroke-width:2;stroke:rgb(255,255,255)\"/><rect x=\"770\" y=\"0\" width=\"55\" height=\"55\" style=\"fill:#e6f598;stroke-width:2;stroke:rgb(255,255,255)\"/><rect x=\"825\" y=\"0\" width=\"55\" height=\"55\" style=\"fill:#cfec9d;stroke-width:2;stroke:rgb(255,255,255)\"/><rect x=\"880\" y=\"0\" width=\"55\" height=\"55\" style=\"fill:#b5e1a2;stroke-width:2;stroke:rgb(255,255,255)\"/><rect x=\"935\" y=\"0\" width=\"55\" height=\"55\" style=\"fill:#9cd7a4;stroke-width:2;stroke:rgb(255,255,255)\"/><rect x=\"990\" y=\"0\" width=\"55\" height=\"55\" style=\"fill:#81cda5;stroke-width:2;stroke:rgb(255,255,255)\"/><rect x=\"1045\" y=\"0\" width=\"55\" height=\"55\" style=\"fill:#66c2a5;stroke-width:2;stroke:rgb(255,255,255)\"/><rect x=\"1100\" y=\"0\" width=\"55\" height=\"55\" style=\"fill:#50a9af;stroke-width:2;stroke:rgb(255,255,255)\"/><rect x=\"1155\" y=\"0\" width=\"55\" height=\"55\" style=\"fill:#3b92b9;stroke-width:2;stroke:rgb(255,255,255)\"/><rect x=\"1210\" y=\"0\" width=\"55\" height=\"55\" style=\"fill:#3b7cb7;stroke-width:2;stroke:rgb(255,255,255)\"/><rect x=\"1265\" y=\"0\" width=\"55\" height=\"55\" style=\"fill:#4d65ad;stroke-width:2;stroke:rgb(255,255,255)\"/></svg>"
      ],
      "text/plain": [
       "[(0.7041906958861976, 0.09773164167627835, 0.27881584006151483),\n",
       " (0.7887735486351404, 0.19154171472510573, 0.29880815071126493),\n",
       " (0.8567474048442907, 0.2756632064590542, 0.30149942329873125),\n",
       " (0.9044213763936948, 0.34794309880815066, 0.28304498269896194),\n",
       " (0.9568627450980393, 0.42745098039215684, 0.2627450980392157),\n",
       " (0.9707035755478662, 0.5274125336409072, 0.3088811995386389),\n",
       " (0.9845444059976932, 0.6273740868896577, 0.3550173010380622),\n",
       " (0.9928489042675894, 0.716955017301038, 0.40945790080738165),\n",
       " (0.9945405613225683, 0.8015378700499807, 0.48050749711649354),\n",
       " (0.996078431372549, 0.8784313725490196, 0.5450980392156862),\n",
       " (0.9976163014225298, 0.9261053440984237, 0.6250672818146866),\n",
       " (0.9991541714725106, 0.9737793156478277, 0.7050365244136869),\n",
       " (0.9788542868127643, 0.9915417147251058, 0.7160322952710496),\n",
       " (0.940407535563245, 0.976163014225298, 0.6560553633217994),\n",
       " (0.9019607843137256, 0.9607843137254902, 0.5960784313725491),\n",
       " (0.8112264513648599, 0.9238754325259517, 0.6145328719723183),\n",
       " (0.7114186851211075, 0.8832756632064592, 0.6348327566320646),\n",
       " (0.6122260668973474, 0.8438292964244523, 0.6439830834294502),\n",
       " (0.5061130334486736, 0.8023068050749712, 0.6455209534794311),\n",
       " (0.4, 0.7607843137254902, 0.6470588235294118),\n",
       " (0.31203383314109956, 0.6626682045367166, 0.6876585928489043),\n",
       " (0.23206459054209921, 0.5734717416378317, 0.7245674740484429),\n",
       " (0.2332948865820838, 0.485121107266436, 0.7183391003460208),\n",
       " (0.300961168781238, 0.3974625144175317, 0.6768166089965397)]"
      ]
     },
     "execution_count": 11,
     "metadata": {},
     "output_type": "execute_result"
    }
   ],
   "source": [
    "#@title Atari_100k Color setup\n",
    "\n",
    "num_colors = 24\n",
    "colors = sns.color_palette('Spectral', num_colors) #sns.color_palette('colorblind')\n",
    "color_idxs = np.arange(num_colors)\n",
    "colors"
   ]
  },
  {
   "cell_type": "markdown",
   "id": "f4f5356a-a993-4094-b19f-fb9daeadae55",
   "metadata": {},
   "source": [
    "### 2. Get Scores"
   ]
  },
  {
   "cell_type": "markdown",
   "id": "af3b0bd0-2399-4ad1-827d-6403c9b4febe",
   "metadata": {},
   "source": [
    "#### finetune"
   ]
  },
  {
   "cell_type": "code",
   "execution_count": 12,
   "id": "d222a629-edf3-4e2b-aaff-5558c6d79015",
   "metadata": {},
   "outputs": [],
   "source": [
    "def get_scores_data_dict(project_name, metric, exp_names, group_name=None):\n",
    "    runs_df = collect_runs(project_name)\n",
    "    \n",
    "    scores_data_dict = {}\n",
    "    for wdb_exp_name, vis_exp_name in exp_names.items():\n",
    "        if group_name is not None:\n",
    "            data = filter_runs(runs_df, wdb_exp_name, group_name)\n",
    "        else:\n",
    "            data = runs_df[runs_df['group'] == wdb_exp_name]\n",
    "        scores = get_scores(data, metric=metric)\n",
    "        \n",
    "        ########################################################\n",
    "        # nproj_npred falls into collapse in freeway and gopher\n",
    "        if wdb_exp_name == 'gpt_video_cons_nproj_npred_impala':\n",
    "            scores.append([0, 'freeway', 0, 0])\n",
    "            scores.append([0, 'freeway', 0, 0])\n",
    "            scores.append([0, 'freeway', 0, 0])\n",
    "            scores.append([0, 'gopher', 257.6, 0])\n",
    "            scores.append([0, 'gopher', 257.6, 0])\n",
    "            scores.append([0, 'gopher', 257.6, 0])\n",
    "            scores.append([0, 'up_n_down', 533.4, 0])\n",
    "            scores.append([0, 'up_n_down', 533.4, 0])\n",
    "            scores.append([0, 'up_n_down', 533.4, 0])\n",
    "        if wdb_exp_name == 'gpt_video_cons_impala':\n",
    "            scores.append([0, 'freeway', 0, 0])\n",
    "            scores.append([0, 'freeway', 0, 0])\n",
    "            scores.append([0, 'freeway', 0, 0])\n",
    "        if wdb_exp_name == 'gpt_video_cons_npred':\n",
    "            scores.append([0, 'freeway', 0, 0])\n",
    "            scores.append([0, 'freeway', 0, 0])\n",
    "            scores.append([0, 'freeway', 0, 0])\n",
    "        \n",
    "        scores, score_matrix = generate_score_matrix(scores, camel=True, num_seeds=10)\n",
    "\n",
    "        scores_data_dict[vis_exp_name] = score_matrix \n",
    "    \n",
    "    return scores_data_dict"
   ]
  },
  {
   "cell_type": "code",
   "execution_count": 13,
   "id": "fb6ad4d5-a1f9-4fc1-baa4-679742b1d39e",
   "metadata": {
    "tags": []
   },
   "outputs": [
    {
     "name": "stdout",
     "output_type": "stream",
     "text": [
      "<built-in function eval>: Median: 0.181321490509118, Mean: 0.4367885971014601\n",
      "<built-in function eval>: Median: 0.15655961085423536, Mean: 0.3079887344740223\n",
      "<built-in function eval>: Median: 0.24908602038125754, Mean: 0.44844808615463594\n",
      "<built-in function eval>: Median: 0.20793296535596056, Mean: 0.42645084698340774\n",
      "<built-in function eval>: Median: 0.37605767753673686, Mean: 0.6470193983661756\n",
      "<built-in function eval>: Median: 0.34496105323820286, Mean: 0.705245374292695\n",
      "<built-in function eval>: Median: 0.11196643855013272, Mean: 0.26530943461723083\n",
      "<built-in function eval>: Median: 0.5148717799389082, Mean: 0.7569808848827044\n",
      "<built-in function eval>: Median: 0.46598731013425954, Mean: 0.7143065718146517\n"
     ]
    }
   ],
   "source": [
    "project_name = 'draftrec/atari_finetune'\n",
    "group_name = 'baseline'\n",
    "metric = 'eval_mean_traj_game_scores'\n",
    "b_exp_names = {'no_pretrain_nature': 'drq-S',\n",
    "               'drq_impala': 'drq-M',\n",
    "               'barlow_impala': 'barlow',\n",
    "               'curl_impala': 'curl',\n",
    "               'atc_impala': 'atc',\n",
    "               'bc_impala': 'bc',\n",
    "               'mlr_impala': 'mlr',\n",
    "               'gpt_demon_act1': 'gpt_demon_act1',\n",
    "               'gpt_demon_act01': 'gpt_demon_act01'}\n",
    "\n",
    "baseline_scores = get_scores_data_dict(project_name, metric, b_exp_names, group_name)"
   ]
  },
  {
   "cell_type": "code",
   "execution_count": 14,
   "id": "ddf55f78-2f0d-46e5-82e9-672bab025c95",
   "metadata": {},
   "outputs": [
    {
     "name": "stdout",
     "output_type": "stream",
     "text": [
      "<built-in function eval>: Median: 0.42422732085187415, Mean: 0.6974275032696666\n",
      "<built-in function eval>: Median: 0.21386996657416246, Mean: 1.1120079756468018\n"
     ]
    }
   ],
   "source": [
    "project_name = 'draftrec/SGI_online'\n",
    "metric = 'GameScoreAverage'\n",
    "s_exp_names = {'M_CONV_BYOLGOALInvfinetune': 'sgi',\n",
    "               'M_GRU_BarlowRandomInv_proj_512finetune_repeat_action_0': 'lightweight'}\n",
    "\n",
    "sgi_scores = get_scores_data_dict(project_name, metric, s_exp_names)"
   ]
  },
  {
   "cell_type": "code",
   "execution_count": 15,
   "id": "cb51a46f-7946-4213-8014-948b98b46319",
   "metadata": {},
   "outputs": [
    {
     "name": "stdout",
     "output_type": "stream",
     "text": [
      "<built-in function eval>: Median: 0.2503671760454868, Mean: 0.6658772590129953\n",
      "<built-in function eval>: Median: 0.43423584675053295, Mean: 0.7727133998623349\n"
     ]
    }
   ],
   "source": [
    "project_name = 'draftrec/atari_finetune'\n",
    "group_name = 'emp_study'\n",
    "metric = 'eval_mean_traj_game_scores'\n",
    "e_exp_names = {#'gpt_video_cons_impala': 'gpt_reg0',\n",
    "               #'gpt_video_cons_npred': 'gpt_reg0_npred',\n",
    "               #'gpt_video_cons_nproj_npred_impala': 'gpt_reg0_nproj_npred',\n",
    "               #'gpt_video_cons_nproj_impala': 'gpt_reg0_nproj',\n",
    "               'gpt_video_cons_reg01_nproj': 'gpt_reg01_nproj',\n",
    "               'gpt_video_cons_reg001_nproj': 'gpt_reg001_nproj'}\n",
    "               #'gpt_video_cons_reg0001_impala': 'gpt_reg0001_nproj'}\n",
    "\n",
    "emp_scores = get_scores_data_dict(project_name, metric, e_exp_names, group_name)"
   ]
  },
  {
   "cell_type": "code",
   "execution_count": 16,
   "id": "48bb8661-a7b3-469b-8eed-bf3855f8074e",
   "metadata": {},
   "outputs": [
    {
     "name": "stdout",
     "output_type": "stream",
     "text": [
      "<built-in function eval>: Median: 0.19672137536349246, Mean: 0.5881155236061782\n",
      "<built-in function eval>: Median: 0.26851701222378965, Mean: 0.754047663190782\n",
      "<built-in function eval>: Median: 0.06388631299520285, Mean: 0.46006247628024993\n",
      "<built-in function eval>: Median: 0.45853188086296737, Mean: 0.6629206211754641\n"
     ]
    }
   ],
   "source": [
    "project_name = 'draftrec/atari_finetune'\n",
    "group_name = 'abl_study'\n",
    "metric = 'eval_mean_traj_game_scores'\n",
    "a_exp_names = {'bert_mask03_nproj_impala': 'bert_mask03',\n",
    "               'bert_mask05_nproj_impala': 'bert_mask05',\n",
    "               'gpt_noaug_nproj_impala': 'gpt_noaug',\n",
    "               #'gpt_cont_video_nproj_impala': 'gpt_vid_cont',\n",
    "               'gpt_cont_demon_nproj_impala': 'gpt_demon_cont'}\n",
    "\n",
    "abl_scores = get_scores_data_dict(project_name, metric, a_exp_names, group_name)"
   ]
  },
  {
   "cell_type": "code",
   "execution_count": 17,
   "id": "af67da0d-4d47-45af-bb86-627cc236fd2a",
   "metadata": {},
   "outputs": [
    {
     "name": "stdout",
     "output_type": "stream",
     "text": [
      "<built-in function eval>: Median: 0.4796305265452294, Mean: 0.9746435490412597\n",
      "<built-in function eval>: Median: 0.45385713828115715, Mean: 1.1496444006632631\n",
      "<built-in function eval>: Median: 0.4692419725589484, Mean: 1.2904895465431079\n"
     ]
    }
   ],
   "source": [
    "project_name = 'draftrec/atari_finetune'\n",
    "group_name = 'ft_study'\n",
    "metric = 'eval_mean_traj_game_scores'\n",
    "f_exp_names = {'gpt_video_reset_tbb-eval_lr3e5_reset20000': 'gpt_video_ft_tbbeval',\n",
    "               'gpt_video_reset_tbb-train_lr3e5_reset20000': 'gpt_video_ft_tbbtrain',\n",
    "               'gpt_video_reset_tbb-train_bn001_lr3e5_reset20000': 'gpt_video_ft_tbbtrain_bn001'}\n",
    "\n",
    "ft_scores = get_scores_data_dict(project_name, metric, f_exp_names, group_name)"
   ]
  },
  {
   "cell_type": "code",
   "execution_count": 18,
   "id": "93265e5f-7240-42bb-9c20-79aa188ef14d",
   "metadata": {},
   "outputs": [
    {
     "name": "stdout",
     "output_type": "stream",
     "text": [
      "drq-S 10\n",
      "drq-M 10\n",
      "barlow 10\n",
      "curl 10\n",
      "atc 10\n",
      "bc 10\n",
      "mlr 3\n",
      "gpt_demon_act1 10\n",
      "gpt_demon_act01 10\n",
      "sgi 9\n",
      "lightweight 9\n",
      "gpt_reg01_nproj 3\n",
      "gpt_reg001_nproj 10\n",
      "bert_mask03 3\n",
      "bert_mask05 3\n",
      "gpt_noaug 3\n",
      "gpt_demon_cont 3\n",
      "gpt_video_ft_tbbeval 3\n",
      "gpt_video_ft_tbbtrain 1\n",
      "gpt_video_ft_tbbtrain_bn001 2\n"
     ]
    }
   ],
   "source": [
    "atari_100k_score_dict = {}\n",
    "atari_100k_score_dict.update(baseline_scores)\n",
    "atari_100k_score_dict.update(sgi_scores)\n",
    "atari_100k_score_dict.update(emp_scores)\n",
    "atari_100k_score_dict.update(abl_scores)\n",
    "atari_100k_score_dict.update(ft_scores)\n",
    "\n",
    "atari_exp_names = {}\n",
    "atari_exp_names.update(b_exp_names)\n",
    "atari_exp_names.update(s_exp_names)\n",
    "atari_exp_names.update(e_exp_names)\n",
    "atari_exp_names.update(a_exp_names)\n",
    "atari_exp_names.update(f_exp_names)\n",
    "\n",
    "for key, value in atari_100k_score_dict.items():\n",
    "    print(key, len(value))"
   ]
  },
  {
   "cell_type": "code",
   "execution_count": 54,
   "id": "a9df28de-403d-4a4e-b2b8-f91469d30b2d",
   "metadata": {},
   "outputs": [
    {
     "data": {
      "text/plain": [
       "array([0.11139292, 0.14567373, 0.21951784, 0.22924497, 0.31243464,\n",
       "       0.31526811, 0.41176183, 0.42909822, 0.51331445, 0.70336384,\n",
       "       0.84265177, 1.04594592, 1.07636478, 1.09203798])"
      ]
     },
     "execution_count": 54,
     "metadata": {},
     "output_type": "execute_result"
    }
   ],
   "source": [
    "np.sort(ft_scores['gpt_video_ft_tbbeval'])[0][6:20]"
   ]
  },
  {
   "cell_type": "code",
   "execution_count": 47,
   "id": "78ffccd0-8dd2-434b-a0af-7fa39b177639",
   "metadata": {},
   "outputs": [
    {
     "data": {
      "text/plain": [
       "array([ 0,  5,  9, 10, 11, 13, 14, 15, 16, 18, 19, 20, 22, 25])"
      ]
     },
     "execution_count": 47,
     "metadata": {},
     "output_type": "execute_result"
    }
   ],
   "source": [
    "np.sort(np.argsort(ft_scores['gpt_video_ft_tbbeval'])[0][6:20])"
   ]
  },
  {
   "cell_type": "code",
   "execution_count": null,
   "id": "8f6116e6-83ae-4e28-aeba-dc7a211bfd30",
   "metadata": {},
   "outputs": [],
   "source": []
  },
  {
   "cell_type": "code",
   "execution_count": null,
   "id": "e5d911b2-28fd-41d5-8ecf-59289a187a7a",
   "metadata": {},
   "outputs": [],
   "source": [
    "0 alien\n",
    "5 battle_zone\n",
    "9 crazy_climber\n",
    "10 demon_attack\n",
    "11 freeway\n",
    "13 gopher\n",
    "14 hero\n",
    "15 jamesbond\n",
    "16 kangaroo\n",
    "18 kungfumaster\n",
    "19 ms_pacman\n",
    "20 pong\n",
    "22 qbert\n",
    "25 upndown"
   ]
  },
  {
   "cell_type": "code",
   "execution_count": null,
   "id": "891b4173-f626-4f8e-82a9-5260d3d498c5",
   "metadata": {},
   "outputs": [],
   "source": [
    "4 bank_heist\n",
    "5 battle_zone\n",
    "9 crazy_climber\n",
    "11 freeway\n",
    "12 frostbite\n",
    "13 gopher\n",
    "14 hero\n",
    "15 jamesbond\n",
    "16 kangaroo\n",
    "18 kungfumaster\n",
    "19 ms_pacman\n",
    "20 pong\n",
    "22 qbert\n",
    "23 road_runner"
   ]
  },
  {
   "cell_type": "code",
   "execution_count": null,
   "id": "820a74db-d5a5-4322-9bb2-497b6086dde4",
   "metadata": {},
   "outputs": [],
   "source": []
  },
  {
   "cell_type": "markdown",
   "id": "260dae0b-ff27-4386-ac7d-88525cab3dda",
   "metadata": {},
   "source": [
    "#### Zero-shot"
   ]
  },
  {
   "cell_type": "code",
   "execution_count": null,
   "id": "35a09d8e-b9e4-492b-86ba-b660dd6af2c3",
   "metadata": {},
   "outputs": [],
   "source": [
    "project_name = 'draftrec/atari_pretrain'\n",
    "group_name = 'baseline'\n",
    "metric = 'mean_traj_game_scores'\n",
    "exp_names = {'bc': 'bc',\n",
    "             'bcq_lr3e4': 'bcq_lr3e4',\n",
    "             'bcq': 'bcq_lr1e4',\n",
    "             'dt_rtg1': 'dt_rtg1',\n",
    "             'dt_rtg_5': 'dt_rtg5'}\n",
    "camel=False"
   ]
  },
  {
   "cell_type": "code",
   "execution_count": null,
   "id": "16bcd293-2772-4c66-aab9-1415623838cd",
   "metadata": {},
   "outputs": [],
   "source": [
    "scores_data_dict = {}\n",
    "\n",
    "#runs_df = collect_runs(project_name)\n",
    "for wdb_exp_name, vis_exp_name in exp_names.items():\n",
    "    data = filter_runs(runs_df, wdb_exp_name, group_name)\n",
    "    scores = get_scores(data, metric)\n",
    "    scores, score_matrix = generate_score_matrix(scores, camel=camel, num_seeds=10)\n",
    "   \n",
    "    scores_data_dict[vis_exp_name] = score_matrix \n",
    "\n",
    "atari_100k_score_dict = {key: val for key, val in scores_data_dict.items()}"
   ]
  },
  {
   "cell_type": "code",
   "execution_count": null,
   "id": "106392f4-3dd1-418b-b33c-9ce31f0840b1",
   "metadata": {},
   "outputs": [],
   "source": []
  },
  {
   "cell_type": "code",
   "execution_count": null,
   "id": "37bfa2bf-a241-4ab1-ae58-a2c107b729c3",
   "metadata": {},
   "outputs": [],
   "source": []
  },
  {
   "cell_type": "markdown",
   "id": "54ca2f94-930d-4729-8c94-7a682c20b4a1",
   "metadata": {},
   "source": [
    "#### Aggregation"
   ]
  },
  {
   "cell_type": "code",
   "execution_count": 19,
   "id": "25e67d99-ee79-4d20-80af-2065033edf47",
   "metadata": {},
   "outputs": [
    {
     "name": "stderr",
     "output_type": "stream",
     "text": [
      "INFO:absl:Calculating estimates for drq-S ...\n",
      "INFO:absl:Calculating estimates for drq-M ...\n",
      "INFO:absl:Calculating estimates for barlow ...\n",
      "INFO:absl:Calculating estimates for curl ...\n",
      "INFO:absl:Calculating estimates for atc ...\n",
      "INFO:absl:Calculating estimates for bc ...\n",
      "INFO:absl:Calculating estimates for mlr ...\n",
      "INFO:absl:Calculating estimates for gpt_demon_act1 ...\n",
      "INFO:absl:Calculating estimates for gpt_demon_act01 ...\n",
      "INFO:absl:Calculating estimates for sgi ...\n",
      "INFO:absl:Calculating estimates for lightweight ...\n",
      "INFO:absl:Calculating estimates for gpt_reg01_nproj ...\n",
      "INFO:absl:Calculating estimates for gpt_reg001_nproj ...\n",
      "INFO:absl:Calculating estimates for bert_mask03 ...\n",
      "INFO:absl:Calculating estimates for bert_mask05 ...\n",
      "INFO:absl:Calculating estimates for gpt_noaug ...\n",
      "INFO:absl:Calculating estimates for gpt_demon_cont ...\n",
      "INFO:absl:Calculating estimates for gpt_video_ft_tbbeval ...\n",
      "INFO:absl:Calculating estimates for gpt_video_ft_tbbtrain ...\n",
      "INFO:absl:Calculating estimates for gpt_video_ft_tbbtrain_bn001 ...\n"
     ]
    }
   ],
   "source": [
    "aggregate_func = lambda x: np.array([IQM(x), MEDIAN(x), MEAN(x), OG(x)])\n",
    "aggregate_scores, aggregate_interval_estimates = rly.get_interval_estimates(\n",
    "    atari_100k_score_dict, aggregate_func, reps=10000)"
   ]
  },
  {
   "cell_type": "code",
   "execution_count": 20,
   "id": "734d6776-9de2-4864-b609-06462eab3773",
   "metadata": {},
   "outputs": [
    {
     "data": {
      "text/plain": [
       "{'drq-S': array([0.2146475 , 0.18132149, 0.4367886 , 0.66351444]),\n",
       " 'drq-M': array([0.16127049, 0.15655961, 0.30798873, 0.7237773 ]),\n",
       " 'barlow': array([0.22418343, 0.24908602, 0.44844809, 0.66176672]),\n",
       " 'curl': array([0.2469207 , 0.20793297, 0.42645085, 0.65408168]),\n",
       " 'atc': array([0.3527416 , 0.37605768, 0.6470194 , 0.56960933]),\n",
       " 'bc': array([0.41337021, 0.34496105, 0.70524537, 0.53582018]),\n",
       " 'mlr': array([0.11828353, 0.11196644, 0.26530943, 0.79913661]),\n",
       " 'gpt_demon_act1': array([0.50047382, 0.51487178, 0.75698088, 0.49317952]),\n",
       " 'gpt_demon_act01': array([0.49593953, 0.46598731, 0.71430657, 0.49528314]),\n",
       " 'sgi': array([0.31543234, 0.42422732, 0.6974275 , 0.59312714]),\n",
       " 'lightweight': array([0.36291844, 0.21386997, 1.11200798, 0.57789768]),\n",
       " 'gpt_reg01_nproj': array([0.34126741, 0.25036718, 0.66587726, 0.57852633]),\n",
       " 'gpt_reg001_nproj': array([0.45135522, 0.43423585, 0.7727134 , 0.52225743]),\n",
       " 'bert_mask03': array([0.26982488, 0.19672138, 0.58811552, 0.6317551 ]),\n",
       " 'bert_mask05': array([0.38488719, 0.26851701, 0.75404766, 0.55290185]),\n",
       " 'gpt_noaug': array([0.11464493, 0.06388631, 0.46006248, 0.72875157]),\n",
       " 'gpt_demon_cont': array([0.4409513 , 0.45853188, 0.66292062, 0.52401292]),\n",
       " 'gpt_video_ft_tbbeval': array([0.55757457, 0.47963053, 0.97464355, 0.47672192]),\n",
       " 'gpt_video_ft_tbbtrain': array([0.51487805, 0.45385714, 1.1496444 , 0.48341964]),\n",
       " 'gpt_video_ft_tbbtrain_bn001': array([0.6398783 , 0.46924197, 1.29048955, 0.46872749])}"
      ]
     },
     "execution_count": 20,
     "metadata": {},
     "output_type": "execute_result"
    }
   ],
   "source": [
    "np.set_printoptions(suppress=True)\n",
    "aggregate_scores"
   ]
  },
  {
   "cell_type": "code",
   "execution_count": 21,
   "id": "5bb242cd-5e8c-48df-9258-8b2606df7007",
   "metadata": {},
   "outputs": [
    {
     "data": {
      "text/plain": [
       "{'drq-S': array([[0.18906094, 0.15864413, 0.40164511, 0.64240535],\n",
       "        [0.24225524, 0.25194806, 0.47319786, 0.68466893]]),\n",
       " 'drq-M': array([[0.14907512, 0.12866044, 0.28499144, 0.70948478],\n",
       "        [0.17457975, 0.18517583, 0.33217694, 0.73868627]]),\n",
       " 'barlow': array([[0.20255759, 0.20450564, 0.4105844 , 0.64382231],\n",
       "        [0.24652504, 0.28858649, 0.48731431, 0.68032861]]),\n",
       " 'curl': array([[0.22227829, 0.18469781, 0.39928802, 0.63575146],\n",
       "        [0.27294151, 0.26455765, 0.45340093, 0.6729947 ]]),\n",
       " 'atc': array([[0.32421907, 0.26390471, 0.58376759, 0.55295565],\n",
       "        [0.38447397, 0.40832338, 0.71571391, 0.58594919]]),\n",
       " 'bc': array([[0.37704057, 0.28959166, 0.66063933, 0.51715616],\n",
       "        [0.44994478, 0.40152558, 0.75017867, 0.55469761]]),\n",
       " 'mlr': array([[0.10463757, 0.080681  , 0.24994944, 0.7849266 ],\n",
       "        [0.13326595, 0.12762667, 0.28059994, 0.81333691]]),\n",
       " 'gpt_demon_act1': array([[0.46483452, 0.3835347 , 0.71512001, 0.47613592],\n",
       "        [0.53670507, 0.57428526, 0.80050725, 0.5108073 ]]),\n",
       " 'gpt_demon_act01': array([[0.46547402, 0.31762578, 0.67032137, 0.48118538],\n",
       "        [0.52815294, 0.56785189, 0.76618481, 0.50948029]]),\n",
       " 'sgi': array([[0.2679166 , 0.27851119, 0.62637761, 0.5644797 ],\n",
       "        [0.36959678, 0.49222715, 0.7739341 , 0.62174681]]),\n",
       " 'lightweight': array([[0.32490474, 0.1333016 , 0.99657938, 0.55927673],\n",
       "        [0.40446119, 0.31995442, 1.22976004, 0.5952107 ]]),\n",
       " 'gpt_reg01_nproj': array([[0.30203858, 0.19962763, 0.56339052, 0.55720245],\n",
       "        [0.38006674, 0.31015295, 0.79180109, 0.60173908]]),\n",
       " 'gpt_reg001_nproj': array([[0.40977408, 0.31702187, 0.70850345, 0.50252559],\n",
       "        [0.49507157, 0.50732656, 0.83667904, 0.54181262]]),\n",
       " 'bert_mask03': array([[0.23136637, 0.15683483, 0.512219  , 0.60816173],\n",
       "        [0.30859426, 0.28268998, 0.68547897, 0.65590473]]),\n",
       " 'bert_mask05': array([[0.3577115 , 0.25344306, 0.63562179, 0.54031554],\n",
       "        [0.41115707, 0.30524312, 0.87228505, 0.56634327]]),\n",
       " 'gpt_noaug': array([[0.08841907, 0.05112546, 0.39496726, 0.70346172],\n",
       "        [0.15324376, 0.09232873, 0.52588331, 0.75290916]]),\n",
       " 'gpt_demon_cont': array([[0.37313574, 0.34072099, 0.61254045, 0.49022489],\n",
       "        [0.50700806, 0.48809149, 0.71337188, 0.55952913]]),\n",
       " 'gpt_video_ft_tbbeval': array([[0.49013176, 0.33778285, 0.87124955, 0.45155724],\n",
       "        [0.63588721, 0.5669075 , 1.09464205, 0.50094285]]),\n",
       " 'gpt_video_ft_tbbtrain': array([[0.51487805, 0.45385714, 1.1496444 , 0.48341964],\n",
       "        [0.51487805, 0.45385714, 1.1496444 , 0.48341964]]),\n",
       " 'gpt_video_ft_tbbtrain_bn001': array([[0.58609073, 0.41231136, 1.00833828, 0.45535867],\n",
       "        [0.70301769, 0.50935383, 1.57335596, 0.48189641]])}"
      ]
     },
     "execution_count": 21,
     "metadata": {},
     "output_type": "execute_result"
    }
   ],
   "source": [
    "aggregate_interval_estimates"
   ]
  },
  {
   "cell_type": "markdown",
   "id": "540e1fab-69c0-4817-9f54-eb5f3db8ab98",
   "metadata": {},
   "source": [
    "### Integrate Results"
   ]
  },
  {
   "cell_type": "code",
   "execution_count": 22,
   "id": "a1e57f55-b694-4bfd-8b23-368f340c8f5e",
   "metadata": {
    "scrolled": false
   },
   "outputs": [
    {
     "data": {
      "image/png": "[encoded data removed]",
      "text/plain": [
       "<Figure size 979.2x532.8 with 4 Axes>"
      ]
     },
     "metadata": {
      "needs_background": "light"
     },
     "output_type": "display_data"
    },
    {
     "name": "stderr",
     "output_type": "stream",
     "text": [
      "INFO:fontTools.subset:maxp pruned\n",
      "INFO:fontTools.subset:cmap pruned\n",
      "INFO:fontTools.subset:kern dropped\n",
      "INFO:fontTools.subset:post pruned\n",
      "INFO:fontTools.subset:FFTM dropped\n",
      "INFO:fontTools.subset:GPOS pruned\n",
      "INFO:fontTools.subset:GSUB pruned\n",
      "INFO:fontTools.subset:name pruned\n",
      "INFO:fontTools.subset:glyf pruned\n",
      "INFO:fontTools.subset:Added gid0 to subset\n",
      "INFO:fontTools.subset:Added first four glyphs to subset\n",
      "INFO:fontTools.subset:Closing glyph list over 'GSUB': 49 glyphs before\n",
      "INFO:fontTools.subset:Glyph names: ['.notdef', '.null', 'G', 'H', 'I', 'M', 'N', 'O', 'Q', 'S', 'a', 'b', 'c', 'd', 'e', 'eight', 'f', 'five', 'four', 'g', 'h', 'hyphen', 'i', 'j', 'k', 'l', 'm', 'n', 'nonmarkingreturn', 'o', 'one', 'p', 'period', 'q', 'r', 's', 'seven', 'six', 'space', 't', 'three', 'two', 'u', 'underscore', 'v', 'w', 'y', 'z', 'zero']\n",
      "INFO:fontTools.subset:Glyph IDs:   [0, 1, 2, 3, 16, 17, 19, 20, 21, 22, 23, 24, 25, 26, 27, 42, 43, 44, 48, 49, 50, 52, 54, 66, 68, 69, 70, 71, 72, 73, 74, 75, 76, 77, 78, 79, 80, 81, 82, 83, 84, 85, 86, 87, 88, 89, 90, 92, 93]\n",
      "INFO:fontTools.subset:Closed glyph list over 'GSUB': 54 glyphs after\n",
      "INFO:fontTools.subset:Glyph names: ['.notdef', '.null', 'G', 'H', 'I', 'M', 'N', 'O', 'Q', 'S', 'a', 'b', 'c', 'd', 'e', 'eight', 'f', 'fi', 'five', 'fl', 'four', 'g', 'h', 'hyphen', 'i', 'j', 'k', 'l', 'm', 'n', 'nonmarkingreturn', 'o', 'one', 'p', 'period', 'q', 'r', 's', 'seven', 'six', 'space', 't', 'three', 'two', 'u', 'underscore', 'uniFB00', 'uniFB03', 'uniFB04', 'v', 'w', 'y', 'z', 'zero']\n",
      "INFO:fontTools.subset:Glyph IDs:   [0, 1, 2, 3, 16, 17, 19, 20, 21, 22, 23, 24, 25, 26, 27, 42, 43, 44, 48, 49, 50, 52, 54, 66, 68, 69, 70, 71, 72, 73, 74, 75, 76, 77, 78, 79, 80, 81, 82, 83, 84, 85, 86, 87, 88, 89, 90, 92, 93, 5038, 5039, 5040, 5041, 5042]\n",
      "INFO:fontTools.subset:Closing glyph list over 'MATH': 54 glyphs before\n",
      "INFO:fontTools.subset:Glyph names: ['.notdef', '.null', 'G', 'H', 'I', 'M', 'N', 'O', 'Q', 'S', 'a', 'b', 'c', 'd', 'e', 'eight', 'f', 'fi', 'five', 'fl', 'four', 'g', 'h', 'hyphen', 'i', 'j', 'k', 'l', 'm', 'n', 'nonmarkingreturn', 'o', 'one', 'p', 'period', 'q', 'r', 's', 'seven', 'six', 'space', 't', 'three', 'two', 'u', 'underscore', 'uniFB00', 'uniFB03', 'uniFB04', 'v', 'w', 'y', 'z', 'zero']\n",
      "INFO:fontTools.subset:Glyph IDs:   [0, 1, 2, 3, 16, 17, 19, 20, 21, 22, 23, 24, 25, 26, 27, 42, 43, 44, 48, 49, 50, 52, 54, 66, 68, 69, 70, 71, 72, 73, 74, 75, 76, 77, 78, 79, 80, 81, 82, 83, 84, 85, 86, 87, 88, 89, 90, 92, 93, 5038, 5039, 5040, 5041, 5042]\n",
      "INFO:fontTools.subset:Closed glyph list over 'MATH': 54 glyphs after\n",
      "INFO:fontTools.subset:Glyph names: ['.notdef', '.null', 'G', 'H', 'I', 'M', 'N', 'O', 'Q', 'S', 'a', 'b', 'c', 'd', 'e', 'eight', 'f', 'fi', 'five', 'fl', 'four', 'g', 'h', 'hyphen', 'i', 'j', 'k', 'l', 'm', 'n', 'nonmarkingreturn', 'o', 'one', 'p', 'period', 'q', 'r', 's', 'seven', 'six', 'space', 't', 'three', 'two', 'u', 'underscore', 'uniFB00', 'uniFB03', 'uniFB04', 'v', 'w', 'y', 'z', 'zero']\n",
      "INFO:fontTools.subset:Glyph IDs:   [0, 1, 2, 3, 16, 17, 19, 20, 21, 22, 23, 24, 25, 26, 27, 42, 43, 44, 48, 49, 50, 52, 54, 66, 68, 69, 70, 71, 72, 73, 74, 75, 76, 77, 78, 79, 80, 81, 82, 83, 84, 85, 86, 87, 88, 89, 90, 92, 93, 5038, 5039, 5040, 5041, 5042]\n",
      "INFO:fontTools.subset:Closing glyph list over 'glyf': 54 glyphs before\n",
      "INFO:fontTools.subset:Glyph names: ['.notdef', '.null', 'G', 'H', 'I', 'M', 'N', 'O', 'Q', 'S', 'a', 'b', 'c', 'd', 'e', 'eight', 'f', 'fi', 'five', 'fl', 'four', 'g', 'h', 'hyphen', 'i', 'j', 'k', 'l', 'm', 'n', 'nonmarkingreturn', 'o', 'one', 'p', 'period', 'q', 'r', 's', 'seven', 'six', 'space', 't', 'three', 'two', 'u', 'underscore', 'uniFB00', 'uniFB03', 'uniFB04', 'v', 'w', 'y', 'z', 'zero']\n",
      "INFO:fontTools.subset:Glyph IDs:   [0, 1, 2, 3, 16, 17, 19, 20, 21, 22, 23, 24, 25, 26, 27, 42, 43, 44, 48, 49, 50, 52, 54, 66, 68, 69, 70, 71, 72, 73, 74, 75, 76, 77, 78, 79, 80, 81, 82, 83, 84, 85, 86, 87, 88, 89, 90, 92, 93, 5038, 5039, 5040, 5041, 5042]\n",
      "INFO:fontTools.subset:Closed glyph list over 'glyf': 54 glyphs after\n",
      "INFO:fontTools.subset:Glyph names: ['.notdef', '.null', 'G', 'H', 'I', 'M', 'N', 'O', 'Q', 'S', 'a', 'b', 'c', 'd', 'e', 'eight', 'f', 'fi', 'five', 'fl', 'four', 'g', 'h', 'hyphen', 'i', 'j', 'k', 'l', 'm', 'n', 'nonmarkingreturn', 'o', 'one', 'p', 'period', 'q', 'r', 's', 'seven', 'six', 'space', 't', 'three', 'two', 'u', 'underscore', 'uniFB00', 'uniFB03', 'uniFB04', 'v', 'w', 'y', 'z', 'zero']\n",
      "INFO:fontTools.subset:Glyph IDs:   [0, 1, 2, 3, 16, 17, 19, 20, 21, 22, 23, 24, 25, 26, 27, 42, 43, 44, 48, 49, 50, 52, 54, 66, 68, 69, 70, 71, 72, 73, 74, 75, 76, 77, 78, 79, 80, 81, 82, 83, 84, 85, 86, 87, 88, 89, 90, 92, 93, 5038, 5039, 5040, 5041, 5042]\n",
      "INFO:fontTools.subset:Retaining 54 glyphs\n",
      "INFO:fontTools.subset:head subsetting not needed\n",
      "INFO:fontTools.subset:hhea subsetting not needed\n",
      "INFO:fontTools.subset:maxp subsetting not needed\n",
      "INFO:fontTools.subset:OS/2 subsetting not needed\n",
      "INFO:fontTools.subset:hmtx subsetted\n",
      "INFO:fontTools.subset:cmap subsetted\n",
      "INFO:fontTools.subset:fpgm subsetting not needed\n",
      "INFO:fontTools.subset:prep subsetting not needed\n",
      "INFO:fontTools.subset:cvt  subsetting not needed\n",
      "INFO:fontTools.subset:loca subsetting not needed\n",
      "INFO:fontTools.subset:post subsetted\n",
      "INFO:fontTools.subset:gasp subsetting not needed\n",
      "INFO:fontTools.subset:GDEF subsetted\n",
      "INFO:fontTools.subset:GPOS subsetted\n",
      "INFO:fontTools.subset:GSUB subsetted\n",
      "INFO:fontTools.subset:MATH subsetted\n",
      "INFO:fontTools.subset:name subsetting not needed\n",
      "INFO:fontTools.subset:glyf subsetted\n",
      "INFO:fontTools.subset:head pruned\n",
      "INFO:fontTools.subset:OS/2 Unicode ranges pruned: [0]\n",
      "INFO:fontTools.subset:glyf pruned\n",
      "INFO:fontTools.subset:GDEF pruned\n",
      "INFO:fontTools.subset:GPOS pruned\n",
      "INFO:fontTools.subset:GSUB pruned\n"
     ]
    },
    {
     "data": {
      "text/plain": [
       "'atari_100k_aggregates.pdf'"
      ]
     },
     "execution_count": 22,
     "metadata": {},
     "output_type": "execute_result"
    }
   ],
   "source": [
    "algorithms = list(atari_exp_names.values())\n",
    "ATARI_100K_COLOR_DICT = dict(zip(algorithms, [colors[idx] for idx in color_idxs]))\n",
    "\n",
    "fig, axes = plot_utils.plot_interval_estimates(\n",
    "    aggregate_scores, \n",
    "    aggregate_interval_estimates,\n",
    "    metric_names = ['IQM', 'Median', 'Mean', 'Optimality Gap'],\n",
    "    algorithms=algorithms,\n",
    "    colors=ATARI_100K_COLOR_DICT,\n",
    "    xlabel_y_coordinate=-0.3,\n",
    "    xlabel='Human Normalized Score')\n",
    "#fig.tight_layout()\n",
    "plt.show()\n",
    "save_fig(fig, 'atari_100k_aggregates')"
   ]
  },
  {
   "cell_type": "code",
   "execution_count": null,
   "id": "15849129-c002-43af-bf2a-1c35fa8d24f3",
   "metadata": {},
   "outputs": [],
   "source": []
  }
 ],
 "metadata": {
  "kernelspec": {
   "display_name": "Python 3 (ipykernel)",
   "language": "python",
   "name": "python3"
  },
  "language_info": {
   "codemirror_mode": {
    "name": "ipython",
    "version": 3
   },
   "file_extension": ".py",
   "mimetype": "text/x-python",
   "name": "python",
   "nbconvert_exporter": "python",
   "pygments_lexer": "ipython3",
   "version": "3.9.12"
  }
 },
 "nbformat": 4,
 "nbformat_minor": 5
}
