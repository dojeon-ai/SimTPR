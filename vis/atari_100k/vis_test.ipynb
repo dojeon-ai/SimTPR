{
 "cells": [
  {
   "cell_type": "code",
   "execution_count": 2,
   "id": "bc9bea37-b88b-42fb-a6c8-39bfbe418ed4",
   "metadata": {},
   "outputs": [],
   "source": [
    "import pandas as pd \n",
    "import numpy as np\n",
    "import matplotlib.pyplot as plt\n",
    "import matplotlib\n",
    "import seaborn as sns\n",
    "from collections import defaultdict"
   ]
  },
  {
   "cell_type": "code",
   "execution_count": 3,
   "id": "17f96c3a-9504-4bd2-9c22-e2af077edac7",
   "metadata": {},
   "outputs": [
    {
     "data": {
      "text/html": [
       "<svg  width=\"440\" height=\"55\"><rect x=\"0\" y=\"0\" width=\"55\" height=\"55\" style=\"fill:#a1c9f4;stroke-width:2;stroke:rgb(255,255,255)\"/><rect x=\"55\" y=\"0\" width=\"55\" height=\"55\" style=\"fill:#ffb482;stroke-width:2;stroke:rgb(255,255,255)\"/><rect x=\"110\" y=\"0\" width=\"55\" height=\"55\" style=\"fill:#8de5a1;stroke-width:2;stroke:rgb(255,255,255)\"/><rect x=\"165\" y=\"0\" width=\"55\" height=\"55\" style=\"fill:#ff9f9b;stroke-width:2;stroke:rgb(255,255,255)\"/><rect x=\"220\" y=\"0\" width=\"55\" height=\"55\" style=\"fill:#d0bbff;stroke-width:2;stroke:rgb(255,255,255)\"/><rect x=\"275\" y=\"0\" width=\"55\" height=\"55\" style=\"fill:#debb9b;stroke-width:2;stroke:rgb(255,255,255)\"/><rect x=\"330\" y=\"0\" width=\"55\" height=\"55\" style=\"fill:#fab0e4;stroke-width:2;stroke:rgb(255,255,255)\"/><rect x=\"385\" y=\"0\" width=\"55\" height=\"55\" style=\"fill:#cfcfcf;stroke-width:2;stroke:rgb(255,255,255)\"/></svg>"
      ],
      "text/plain": [
       "[(0.6313725490196078, 0.788235294117647, 0.9568627450980393),\n",
       " (1.0, 0.7058823529411765, 0.5098039215686274),\n",
       " (0.5529411764705883, 0.8980392156862745, 0.6313725490196078),\n",
       " (1.0, 0.6235294117647059, 0.6078431372549019),\n",
       " (0.8156862745098039, 0.7333333333333333, 1.0),\n",
       " (0.8705882352941177, 0.7333333333333333, 0.6078431372549019),\n",
       " (0.9803921568627451, 0.6901960784313725, 0.8941176470588236),\n",
       " (0.8117647058823529, 0.8117647058823529, 0.8117647058823529)]"
      ]
     },
     "execution_count": 3,
     "metadata": {},
     "output_type": "execute_result"
    }
   ],
   "source": [
    "palette = sns.color_palette(\"pastel\", 8)\n",
    "palette"
   ]
  },
  {
   "cell_type": "code",
   "execution_count": 4,
   "id": "1f4522cd-8934-48bf-93db-a8b17e3a0246",
   "metadata": {},
   "outputs": [],
   "source": [
    "palette = palette[0:1] + palette[1:2] + palette[7:8]\n",
    "sns.set_palette(palette)"
   ]
  },
  {
   "cell_type": "code",
   "execution_count": 16,
   "id": "3778f044-4456-486a-99c6-7667822ff139",
   "metadata": {},
   "outputs": [],
   "source": [
    "vid_df = pd.DataFrame()\n",
    "vid_df['Method'] = ['pretrain-ft-reset-L', 'pretrain-frz-L', 'pretrain-frz-S', 'pretrain-ft-L', 'pretrain-ft-S', 'scratch-L', 'scratch-S']\n",
    "vid_df['Human-Normalized IQM'] = [0.602, 0.405, 0.321, 0.343, 0.356, 0.198, 0.240]"
   ]
  },
  {
   "cell_type": "code",
   "execution_count": 17,
   "id": "26b2fb82-c138-472b-8177-c5c33d307a47",
   "metadata": {},
   "outputs": [
    {
     "data": {
      "image/png": "[encoded data removed]",
      "text/plain": [
       "<Figure size 720x288 with 2 Axes>"
      ]
     },
     "metadata": {
      "needs_background": "light"
     },
     "output_type": "display_data"
    }
   ],
   "source": [
    "fig, axes = plt.subplots(2,1,figsize=(10,4))\n",
    "fig.tight_layout()\n",
    "\n",
    "ax = axes[0]\n",
    "sns.barplot(data=vid_df, ax=ax, x=\"Method\", y=\"Human-Normalized IQM\")\n",
    "ax.set_ylim(0, 0.7)\n",
    "ax.bar_label(ax.containers[0], fmt='%.3f')\n",
    "ax.spines[['right', 'top']].set_visible(False)\n",
    "#ax.set_xlabel('(a) Prertained from Video')\n",
    "\n",
    "#patches = [matplotlib.patches.Patch(color=sns.color_palette()[i], label=l) for i,l in enumerate(labels)]\n",
    "#fig.legend(handles=patches, loc=\"upper center\", ncol=3, borderaxespad=0.0) \n",
    "\n",
    "plt.subplots_adjust(wspace=0.25)\n",
    "plt.savefig('summary.png', bbox_inches='tight',dpi=300)"
   ]
  },
  {
   "cell_type": "code",
   "execution_count": 114,
   "id": "32fc062f-bb38-411b-ab87-b8273c6d2073",
   "metadata": {},
   "outputs": [
    {
     "data": {
      "text/plain": [
       "\u001b[0;31mSignature:\u001b[0m\n",
       "\u001b[0max\u001b[0m\u001b[0;34m.\u001b[0m\u001b[0mbar_label\u001b[0m\u001b[0;34m(\u001b[0m\u001b[0;34m\u001b[0m\n",
       "\u001b[0;34m\u001b[0m    \u001b[0mcontainer\u001b[0m\u001b[0;34m,\u001b[0m\u001b[0;34m\u001b[0m\n",
       "\u001b[0;34m\u001b[0m    \u001b[0mlabels\u001b[0m\u001b[0;34m=\u001b[0m\u001b[0;32mNone\u001b[0m\u001b[0;34m,\u001b[0m\u001b[0;34m\u001b[0m\n",
       "\u001b[0;34m\u001b[0m    \u001b[0;34m*\u001b[0m\u001b[0;34m,\u001b[0m\u001b[0;34m\u001b[0m\n",
       "\u001b[0;34m\u001b[0m    \u001b[0mfmt\u001b[0m\u001b[0;34m=\u001b[0m\u001b[0;34m'%g'\u001b[0m\u001b[0;34m,\u001b[0m\u001b[0;34m\u001b[0m\n",
       "\u001b[0;34m\u001b[0m    \u001b[0mlabel_type\u001b[0m\u001b[0;34m=\u001b[0m\u001b[0;34m'edge'\u001b[0m\u001b[0;34m,\u001b[0m\u001b[0;34m\u001b[0m\n",
       "\u001b[0;34m\u001b[0m    \u001b[0mpadding\u001b[0m\u001b[0;34m=\u001b[0m\u001b[0;36m0\u001b[0m\u001b[0;34m,\u001b[0m\u001b[0;34m\u001b[0m\n",
       "\u001b[0;34m\u001b[0m    \u001b[0;34m**\u001b[0m\u001b[0mkwargs\u001b[0m\u001b[0;34m,\u001b[0m\u001b[0;34m\u001b[0m\n",
       "\u001b[0;34m\u001b[0m\u001b[0;34m)\u001b[0m\u001b[0;34m\u001b[0m\u001b[0;34m\u001b[0m\u001b[0m\n",
       "\u001b[0;31mDocstring:\u001b[0m\n",
       "Label a bar plot.\n",
       "\n",
       "Adds labels to bars in the given `.BarContainer`.\n",
       "You may need to adjust the axis limits to fit the labels.\n",
       "\n",
       "Parameters\n",
       "----------\n",
       "container : `.BarContainer`\n",
       "    Container with all the bars and optionally errorbars, likely\n",
       "    returned from `.bar` or `.barh`.\n",
       "\n",
       "labels : array-like, optional\n",
       "    A list of label texts, that should be displayed. If not given, the\n",
       "    label texts will be the data values formatted with *fmt*.\n",
       "\n",
       "fmt : str, default: '%g'\n",
       "    A format string for the label.\n",
       "\n",
       "label_type : {'edge', 'center'}, default: 'edge'\n",
       "    The label type. Possible values:\n",
       "\n",
       "    - 'edge': label placed at the end-point of the bar segment, and the\n",
       "      value displayed will be the position of that end-point.\n",
       "    - 'center': label placed in the center of the bar segment, and the\n",
       "      value displayed will be the length of that segment.\n",
       "      (useful for stacked bars, i.e.,\n",
       "      :doc:`/gallery/lines_bars_and_markers/bar_label_demo`)\n",
       "\n",
       "padding : float, default: 0\n",
       "    Distance of label from the end of the bar, in points.\n",
       "\n",
       "**kwargs\n",
       "    Any remaining keyword arguments are passed through to\n",
       "    `.Axes.annotate`.\n",
       "\n",
       "Returns\n",
       "-------\n",
       "list of `.Text`\n",
       "    A list of `.Text` instances for the labels.\n",
       "\u001b[0;31mFile:\u001b[0m      /home/nas3_userK/hojoonlee/anaconda3/envs/atari/lib/python3.9/site-packages/matplotlib/axes/_axes.py\n",
       "\u001b[0;31mType:\u001b[0m      method\n"
      ]
     },
     "metadata": {},
     "output_type": "display_data"
    }
   ],
   "source": [
    "ax.bar_label?"
   ]
  },
  {
   "cell_type": "code",
   "execution_count": null,
   "id": "9b005271-bdaa-4b9d-af79-2ed2931499d7",
   "metadata": {},
   "outputs": [],
   "source": []
  }
 ],
 "metadata": {
  "kernelspec": {
   "display_name": "Python 3 (ipykernel)",
   "language": "python",
   "name": "python3"
  },
  "language_info": {
   "codemirror_mode": {
    "name": "ipython",
    "version": 3
   },
   "file_extension": ".py",
   "mimetype": "text/x-python",
   "name": "python",
   "nbconvert_exporter": "python",
   "pygments_lexer": "ipython3",
   "version": "3.9.12"
  }
 },
 "nbformat": 4,
 "nbformat_minor": 5
}
