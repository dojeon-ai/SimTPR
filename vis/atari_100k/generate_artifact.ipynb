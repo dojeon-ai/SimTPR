{
 "cells": [
  {
   "cell_type": "markdown",
   "id": "eb04bdff-90a8-4ec1-a223-7ec7478b6b7b",
   "metadata": {},
   "source": [
    "### Get results from Wandb"
   ]
  },
  {
   "cell_type": "code",
   "execution_count": 1,
   "id": "e5db1e9d-e012-4e52-a1c8-f7a72ee78bd0",
   "metadata": {},
   "outputs": [],
   "source": [
    "import pandas as pd \n",
    "import wandb\n",
    "api = wandb.Api()\n",
    "\n",
    "# Project is specified by <entity/project-name>\n",
    "runs = api.runs(\"draftrec/atari_pretrain\")\n",
    "\n",
    "summary_list, config_list, id_list = [], [], []\n",
    "for run in runs: \n",
    "    # .summary contains the output keys/values for metrics like accuracy.\n",
    "    #  We call ._json_dict to omit large files \n",
    "    summary_list.append(run.summary._json_dict)\n",
    "\n",
    "    # .config contains the hyperparameters.\n",
    "    #  We remove special values that start with _.\n",
    "    config_list.append(\n",
    "        {k: v for k,v in run.config.items()\n",
    "          if not k.startswith('_')})\n",
    "\n",
    "    # .name is the human-readable name of the run.\n",
    "    id_list.append(run.id)\n",
    "\n",
    "runs_df = pd.DataFrame({\n",
    "    \"summary\": summary_list,\n",
    "    \"config\": config_list,\n",
    "    \"id\": id_list,\n",
    "    })\n",
    "\n",
    "runs_df.to_csv(\"project.csv\")"
   ]
  },
  {
   "cell_type": "markdown",
   "id": "907d278c-215d-4ceb-9d39-6d8a0aec52e6",
   "metadata": {},
   "source": [
    "### Read runs"
   ]
  },
  {
   "cell_type": "code",
   "execution_count": 2,
   "id": "cf369766-e8c6-4ef5-ba10-bab9e5f9d7ba",
   "metadata": {},
   "outputs": [
    {
     "data": {
      "text/html": [
       "<div>\n",
       "<style scoped>\n",
       "    .dataframe tbody tr th:only-of-type {\n",
       "        vertical-align: middle;\n",
       "    }\n",
       "\n",
       "    .dataframe tbody tr th {\n",
       "        vertical-align: top;\n",
       "    }\n",
       "\n",
       "    .dataframe thead th {\n",
       "        text-align: right;\n",
       "    }\n",
       "</style>\n",
       "<table border=\"1\" class=\"dataframe\">\n",
       "  <thead>\n",
       "    <tr style=\"text-align: right;\">\n",
       "      <th></th>\n",
       "      <th>summary</th>\n",
       "      <th>config</th>\n",
       "      <th>id</th>\n",
       "    </tr>\n",
       "  </thead>\n",
       "  <tbody>\n",
       "    <tr>\n",
       "      <th>0</th>\n",
       "      <td>{'_wandb': {'runtime': 261}}</td>\n",
       "      <td>{}</td>\n",
       "      <td>2r66xrkx</td>\n",
       "    </tr>\n",
       "    <tr>\n",
       "      <th>1</th>\n",
       "      <td>{'_wandb': {'runtime': 6}}</td>\n",
       "      <td>{}</td>\n",
       "      <td>168znuio</td>\n",
       "    </tr>\n",
       "    <tr>\n",
       "      <th>2</th>\n",
       "      <td>{}</td>\n",
       "      <td>{}</td>\n",
       "      <td>3laam0jm</td>\n",
       "    </tr>\n",
       "    <tr>\n",
       "      <th>3</th>\n",
       "      <td>{}</td>\n",
       "      <td>{}</td>\n",
       "      <td>2xxbk2rt</td>\n",
       "    </tr>\n",
       "    <tr>\n",
       "      <th>4</th>\n",
       "      <td>{'_wandb': {'runtime': 1}}</td>\n",
       "      <td>{'exp_name': 'gpt_video_cons_reg', 'overrides'...</td>\n",
       "      <td>1sejcyvj</td>\n",
       "    </tr>\n",
       "    <tr>\n",
       "      <th>...</th>\n",
       "      <td>...</td>\n",
       "      <td>...</td>\n",
       "      <td>...</td>\n",
       "    </tr>\n",
       "    <tr>\n",
       "      <th>1509</th>\n",
       "      <td>{'pos_neg_diff': 0.87976934150327, 'positive_s...</td>\n",
       "      <td>{'env': {'game': 'pong', 'type': 'atari', 'hor...</td>\n",
       "      <td>5zlpym7v</td>\n",
       "    </tr>\n",
       "    <tr>\n",
       "      <th>1510</th>\n",
       "      <td>{'positive_sim': 0.998840137720108, 'loss': -0...</td>\n",
       "      <td>{'env': {'game': 'pong', 'type': 'atari', 'hor...</td>\n",
       "      <td>3oh4f4sw</td>\n",
       "    </tr>\n",
       "    <tr>\n",
       "      <th>1511</th>\n",
       "      <td>{'_wandb': {'runtime': 18405}, '_runtime': 183...</td>\n",
       "      <td>{'env': {'game': 'pong', 'type': 'atari', 'hor...</td>\n",
       "      <td>385p3sw7</td>\n",
       "    </tr>\n",
       "    <tr>\n",
       "      <th>1512</th>\n",
       "      <td>{'_step': 117001, '_wandb': {'runtime': 17734}...</td>\n",
       "      <td>{'env': {'game': 'pong', 'type': 'atari', 'hor...</td>\n",
       "      <td>njf5gwab</td>\n",
       "    </tr>\n",
       "    <tr>\n",
       "      <th>1513</th>\n",
       "      <td>{'pos_neg_diff': 0.5731061475723982, 'positive...</td>\n",
       "      <td>{'env': {'game': 'pong', 'type': 'atari', 'hor...</td>\n",
       "      <td>nqsb1fxl</td>\n",
       "    </tr>\n",
       "  </tbody>\n",
       "</table>\n",
       "<p>1514 rows × 3 columns</p>\n",
       "</div>"
      ],
      "text/plain": [
       "                                                summary  \\\n",
       "0                          {'_wandb': {'runtime': 261}}   \n",
       "1                            {'_wandb': {'runtime': 6}}   \n",
       "2                                                    {}   \n",
       "3                                                    {}   \n",
       "4                            {'_wandb': {'runtime': 1}}   \n",
       "...                                                 ...   \n",
       "1509  {'pos_neg_diff': 0.87976934150327, 'positive_s...   \n",
       "1510  {'positive_sim': 0.998840137720108, 'loss': -0...   \n",
       "1511  {'_wandb': {'runtime': 18405}, '_runtime': 183...   \n",
       "1512  {'_step': 117001, '_wandb': {'runtime': 17734}...   \n",
       "1513  {'pos_neg_diff': 0.5731061475723982, 'positive...   \n",
       "\n",
       "                                                 config        id  \n",
       "0                                                    {}  2r66xrkx  \n",
       "1                                                    {}  168znuio  \n",
       "2                                                    {}  3laam0jm  \n",
       "3                                                    {}  2xxbk2rt  \n",
       "4     {'exp_name': 'gpt_video_cons_reg', 'overrides'...  1sejcyvj  \n",
       "...                                                 ...       ...  \n",
       "1509  {'env': {'game': 'pong', 'type': 'atari', 'hor...  5zlpym7v  \n",
       "1510  {'env': {'game': 'pong', 'type': 'atari', 'hor...  3oh4f4sw  \n",
       "1511  {'env': {'game': 'pong', 'type': 'atari', 'hor...  385p3sw7  \n",
       "1512  {'env': {'game': 'pong', 'type': 'atari', 'hor...  njf5gwab  \n",
       "1513  {'env': {'game': 'pong', 'type': 'atari', 'hor...  nqsb1fxl  \n",
       "\n",
       "[1514 rows x 3 columns]"
      ]
     },
     "execution_count": 2,
     "metadata": {},
     "output_type": "execute_result"
    }
   ],
   "source": [
    "data_ = pd.read_csv('project.csv', index_col=0)\n",
    "data_"
   ]
  },
  {
   "cell_type": "markdown",
   "id": "3f6cc325-4f8a-4544-a8a1-264d2d367afc",
   "metadata": {},
   "source": [
    "### Filter based on conditions"
   ]
  },
  {
   "cell_type": "code",
   "execution_count": 3,
   "id": "59294ba8-5497-4814-a36a-0c133b78071d",
   "metadata": {},
   "outputs": [],
   "source": [
    "group_name = 'baseline'\n",
    "exp_name = 'gpt_video_cons_reg'\n",
    "model_path = '0/10/model.pth'"
   ]
  },
  {
   "cell_type": "code",
   "execution_count": 4,
   "id": "5652ff34-3538-4b17-8908-56560c5f0179",
   "metadata": {},
   "outputs": [],
   "source": [
    "configs = data_['config']\n",
    "indexs = []\n",
    "for idx, config in enumerate(configs):\n",
    "    cfg = eval(config)\n",
    "    if len(cfg) == 0:\n",
    "        continue\n",
    "        \n",
    "    run_exp_name = cfg['exp_name']\n",
    "    run_group_name = cfg['group_name']\n",
    "\n",
    "    # condition\n",
    "    if run_exp_name == exp_name and run_group_name == group_name:\n",
    "        if 'env' in cfg:\n",
    "            indexs.append(idx)"
   ]
  },
  {
   "cell_type": "code",
   "execution_count": 5,
   "id": "cf36ab43-3f95-497e-b976-3a7fdcc4a94d",
   "metadata": {},
   "outputs": [
    {
     "name": "stdout",
     "output_type": "stream",
     "text": [
      "26\n"
     ]
    },
    {
     "name": "stderr",
     "output_type": "stream",
     "text": [
      "/tmp/ipykernel_142072/3806693401.py:5: SettingWithCopyWarning: \n",
      "A value is trying to be set on a copy of a slice from a DataFrame.\n",
      "Try using .loc[row_indexer,col_indexer] = value instead\n",
      "\n",
      "See the caveats in the documentation: https://pandas.pydata.org/pandas-docs/stable/user_guide/indexing.html#returning-a-view-versus-a-copy\n",
      "  data['env'] = envs\n"
     ]
    },
    {
     "data": {
      "text/html": [
       "<div>\n",
       "<style scoped>\n",
       "    .dataframe tbody tr th:only-of-type {\n",
       "        vertical-align: middle;\n",
       "    }\n",
       "\n",
       "    .dataframe tbody tr th {\n",
       "        vertical-align: top;\n",
       "    }\n",
       "\n",
       "    .dataframe thead th {\n",
       "        text-align: right;\n",
       "    }\n",
       "</style>\n",
       "<table border=\"1\" class=\"dataframe\">\n",
       "  <thead>\n",
       "    <tr style=\"text-align: right;\">\n",
       "      <th></th>\n",
       "      <th>summary</th>\n",
       "      <th>config</th>\n",
       "      <th>id</th>\n",
       "      <th>env</th>\n",
       "    </tr>\n",
       "  </thead>\n",
       "  <tbody>\n",
       "    <tr>\n",
       "      <th>116</th>\n",
       "      <td>{'pos_neg_diff': 0.4865609109401703, 'reward_r...</td>\n",
       "      <td>{'env': {'game': 'PrivateEye', 'seed': 42, 'ty...</td>\n",
       "      <td>22h0p5n2</td>\n",
       "      <td>PrivateEye</td>\n",
       "    </tr>\n",
       "    <tr>\n",
       "      <th>117</th>\n",
       "      <td>{'_wandb': {'runtime': 169671}, '_runtime': 16...</td>\n",
       "      <td>{'env': {'game': 'Qbert', 'seed': 42, 'type': ...</td>\n",
       "      <td>2g14o9bn</td>\n",
       "      <td>Qbert</td>\n",
       "    </tr>\n",
       "    <tr>\n",
       "      <th>118</th>\n",
       "      <td>{'_runtime': 168503, 'rank_eps1': 511, 'max_gr...</td>\n",
       "      <td>{'env': {'game': 'KungFuMaster', 'seed': 42, '...</td>\n",
       "      <td>2n5s4p1a</td>\n",
       "      <td>KungFuMaster</td>\n",
       "    </tr>\n",
       "    <tr>\n",
       "      <th>119</th>\n",
       "      <td>{'neg_sim': 0.5361865162849426, 'reg_loss': 2....</td>\n",
       "      <td>{'env': {'game': 'Kangaroo', 'seed': 42, 'type...</td>\n",
       "      <td>2pf1jz0s</td>\n",
       "      <td>Kangaroo</td>\n",
       "    </tr>\n",
       "    <tr>\n",
       "      <th>120</th>\n",
       "      <td>{'act_acc': 0.059685616215422656, '_timestamp'...</td>\n",
       "      <td>{'env': {'game': 'Krull', 'seed': 42, 'type': ...</td>\n",
       "      <td>2rkly9cp</td>\n",
       "      <td>Krull</td>\n",
       "    </tr>\n",
       "    <tr>\n",
       "      <th>121</th>\n",
       "      <td>{'rank_eps1': 494, 'rank_eps01': 512, 'rank_ep...</td>\n",
       "      <td>{'env': {'game': 'MsPacman', 'seed': 42, 'type...</td>\n",
       "      <td>1ngd6rri</td>\n",
       "      <td>MsPacman</td>\n",
       "    </tr>\n",
       "    <tr>\n",
       "      <th>122</th>\n",
       "      <td>{'loss': 0.12374835543816672, '_runtime': 1656...</td>\n",
       "      <td>{'env': {'game': 'Pong', 'seed': 42, 'type': '...</td>\n",
       "      <td>35xml4ko</td>\n",
       "      <td>Pong</td>\n",
       "    </tr>\n",
       "    <tr>\n",
       "      <th>123</th>\n",
       "      <td>{'act_acc': 0.027741896223601552, 'act_loss': ...</td>\n",
       "      <td>{'env': {'game': 'RoadRunner', 'seed': 42, 'ty...</td>\n",
       "      <td>o05bspxw</td>\n",
       "      <td>RoadRunner</td>\n",
       "    </tr>\n",
       "    <tr>\n",
       "      <th>248</th>\n",
       "      <td>{'loss': 0.03718355287154184, '_step': 937480,...</td>\n",
       "      <td>{'env': {'game': 'Frostbite', 'seed': 42, 'typ...</td>\n",
       "      <td>enaak6qz</td>\n",
       "      <td>Frostbite</td>\n",
       "    </tr>\n",
       "    <tr>\n",
       "      <th>249</th>\n",
       "      <td>{'reward_ratio': 0.010350517525876294, '_wandb...</td>\n",
       "      <td>{'env': {'game': 'Jamesbond', 'seed': 42, 'typ...</td>\n",
       "      <td>1a13oqxs</td>\n",
       "      <td>Jamesbond</td>\n",
       "    </tr>\n",
       "    <tr>\n",
       "      <th>250</th>\n",
       "      <td>{'reward_ratio': 0.01615080754037702, 'epoch':...</td>\n",
       "      <td>{'env': {'game': 'Freeway', 'seed': 42, 'type'...</td>\n",
       "      <td>22o38zo3</td>\n",
       "      <td>Freeway</td>\n",
       "    </tr>\n",
       "    <tr>\n",
       "      <th>251</th>\n",
       "      <td>{'act_f1': 0.32880309313105005, 'neg_sim': 0.2...</td>\n",
       "      <td>{'env': {'game': 'Gopher', 'seed': 42, 'type':...</td>\n",
       "      <td>2u9q47bo</td>\n",
       "      <td>Gopher</td>\n",
       "    </tr>\n",
       "    <tr>\n",
       "      <th>252</th>\n",
       "      <td>{'_step': 937480, 'rank_eps001': 512, 'reward_...</td>\n",
       "      <td>{'env': {'game': 'ChopperCommand', 'seed': 42,...</td>\n",
       "      <td>30zwscqw</td>\n",
       "      <td>ChopperCommand</td>\n",
       "    </tr>\n",
       "    <tr>\n",
       "      <th>253</th>\n",
       "      <td>{'epoch': 40, 'act_loss': 0, 'reg_loss': 2.775...</td>\n",
       "      <td>{'env': {'game': 'DemonAttack', 'seed': 42, 't...</td>\n",
       "      <td>3kemil59</td>\n",
       "      <td>DemonAttack</td>\n",
       "    </tr>\n",
       "    <tr>\n",
       "      <th>254</th>\n",
       "      <td>{'reg_loss': 3.2226717367550526, '_timestamp':...</td>\n",
       "      <td>{'env': {'game': 'CrazyClimber', 'seed': 42, '...</td>\n",
       "      <td>eztm8uxo</td>\n",
       "      <td>CrazyClimber</td>\n",
       "    </tr>\n",
       "    <tr>\n",
       "      <th>255</th>\n",
       "      <td>{'neg_sim': 0.6172952651977539, '_timestamp': ...</td>\n",
       "      <td>{'env': {'game': 'Hero', 'seed': 42, 'type': '...</td>\n",
       "      <td>2s85gj42</td>\n",
       "      <td>Hero</td>\n",
       "    </tr>\n",
       "    <tr>\n",
       "      <th>352</th>\n",
       "      <td>{'rank_eps1': 508, 'mean_grad_norm': 0.0114343...</td>\n",
       "      <td>{'env': {'game': 'UpNDown', 'seed': 42, 'type'...</td>\n",
       "      <td>3g4odmpc</td>\n",
       "      <td>UpNDown</td>\n",
       "    </tr>\n",
       "    <tr>\n",
       "      <th>353</th>\n",
       "      <td>{'neg_sim': 0.2973402142524719, 'act_loss': 0,...</td>\n",
       "      <td>{'env': {'game': 'Seaquest', 'seed': 42, 'type...</td>\n",
       "      <td>m2hlxny7</td>\n",
       "      <td>Seaquest</td>\n",
       "    </tr>\n",
       "    <tr>\n",
       "      <th>354</th>\n",
       "      <td>{'reg_loss': 2.4753470007711265, 'reward_f1': ...</td>\n",
       "      <td>{'env': {'game': 'BankHeist', 'seed': 42, 'typ...</td>\n",
       "      <td>134iip6d</td>\n",
       "      <td>BankHeist</td>\n",
       "    </tr>\n",
       "    <tr>\n",
       "      <th>355</th>\n",
       "      <td>{'pos_sim': 0.9729620814323424, 'rank_eps1': 4...</td>\n",
       "      <td>{'env': {'game': 'Assault', 'seed': 42, 'type'...</td>\n",
       "      <td>33zs3c6s</td>\n",
       "      <td>Assault</td>\n",
       "    </tr>\n",
       "    <tr>\n",
       "      <th>356</th>\n",
       "      <td>{'_timestamp': 1670948596, 'rank_eps01': 509, ...</td>\n",
       "      <td>{'env': {'game': 'Boxing', 'seed': 42, 'type':...</td>\n",
       "      <td>3bsvfpvu</td>\n",
       "      <td>Boxing</td>\n",
       "    </tr>\n",
       "    <tr>\n",
       "      <th>357</th>\n",
       "      <td>{'reg_loss': 2.640368521337967, '_timestamp': ...</td>\n",
       "      <td>{'env': {'game': 'Alien', 'seed': 42, 'type': ...</td>\n",
       "      <td>3jls2xx6</td>\n",
       "      <td>Alien</td>\n",
       "    </tr>\n",
       "    <tr>\n",
       "      <th>358</th>\n",
       "      <td>{'max_grad_norm': 0.02565167589591415, 'mean_g...</td>\n",
       "      <td>{'env': {'game': 'Amidar', 'seed': 42, 'type':...</td>\n",
       "      <td>srtltnlq</td>\n",
       "      <td>Amidar</td>\n",
       "    </tr>\n",
       "    <tr>\n",
       "      <th>359</th>\n",
       "      <td>{'loss': 0.0922946379304181, '_step': 937480, ...</td>\n",
       "      <td>{'env': {'game': 'Breakout', 'seed': 42, 'type...</td>\n",
       "      <td>2dqyehv1</td>\n",
       "      <td>Breakout</td>\n",
       "    </tr>\n",
       "    <tr>\n",
       "      <th>360</th>\n",
       "      <td>{'epoch': 40, 'pos_neg_diff': 0.54150557518005...</td>\n",
       "      <td>{'env': {'game': 'Asterix', 'seed': 42, 'type'...</td>\n",
       "      <td>331j6wki</td>\n",
       "      <td>Asterix</td>\n",
       "    </tr>\n",
       "    <tr>\n",
       "      <th>361</th>\n",
       "      <td>{'epoch': 40, 'rank_eps1': 507, '_timestamp': ...</td>\n",
       "      <td>{'env': {'game': 'BattleZone', 'seed': 42, 'ty...</td>\n",
       "      <td>6z9xqgxh</td>\n",
       "      <td>BattleZone</td>\n",
       "    </tr>\n",
       "  </tbody>\n",
       "</table>\n",
       "</div>"
      ],
      "text/plain": [
       "                                               summary  \\\n",
       "116  {'pos_neg_diff': 0.4865609109401703, 'reward_r...   \n",
       "117  {'_wandb': {'runtime': 169671}, '_runtime': 16...   \n",
       "118  {'_runtime': 168503, 'rank_eps1': 511, 'max_gr...   \n",
       "119  {'neg_sim': 0.5361865162849426, 'reg_loss': 2....   \n",
       "120  {'act_acc': 0.059685616215422656, '_timestamp'...   \n",
       "121  {'rank_eps1': 494, 'rank_eps01': 512, 'rank_ep...   \n",
       "122  {'loss': 0.12374835543816672, '_runtime': 1656...   \n",
       "123  {'act_acc': 0.027741896223601552, 'act_loss': ...   \n",
       "248  {'loss': 0.03718355287154184, '_step': 937480,...   \n",
       "249  {'reward_ratio': 0.010350517525876294, '_wandb...   \n",
       "250  {'reward_ratio': 0.01615080754037702, 'epoch':...   \n",
       "251  {'act_f1': 0.32880309313105005, 'neg_sim': 0.2...   \n",
       "252  {'_step': 937480, 'rank_eps001': 512, 'reward_...   \n",
       "253  {'epoch': 40, 'act_loss': 0, 'reg_loss': 2.775...   \n",
       "254  {'reg_loss': 3.2226717367550526, '_timestamp':...   \n",
       "255  {'neg_sim': 0.6172952651977539, '_timestamp': ...   \n",
       "352  {'rank_eps1': 508, 'mean_grad_norm': 0.0114343...   \n",
       "353  {'neg_sim': 0.2973402142524719, 'act_loss': 0,...   \n",
       "354  {'reg_loss': 2.4753470007711265, 'reward_f1': ...   \n",
       "355  {'pos_sim': 0.9729620814323424, 'rank_eps1': 4...   \n",
       "356  {'_timestamp': 1670948596, 'rank_eps01': 509, ...   \n",
       "357  {'reg_loss': 2.640368521337967, '_timestamp': ...   \n",
       "358  {'max_grad_norm': 0.02565167589591415, 'mean_g...   \n",
       "359  {'loss': 0.0922946379304181, '_step': 937480, ...   \n",
       "360  {'epoch': 40, 'pos_neg_diff': 0.54150557518005...   \n",
       "361  {'epoch': 40, 'rank_eps1': 507, '_timestamp': ...   \n",
       "\n",
       "                                                config        id  \\\n",
       "116  {'env': {'game': 'PrivateEye', 'seed': 42, 'ty...  22h0p5n2   \n",
       "117  {'env': {'game': 'Qbert', 'seed': 42, 'type': ...  2g14o9bn   \n",
       "118  {'env': {'game': 'KungFuMaster', 'seed': 42, '...  2n5s4p1a   \n",
       "119  {'env': {'game': 'Kangaroo', 'seed': 42, 'type...  2pf1jz0s   \n",
       "120  {'env': {'game': 'Krull', 'seed': 42, 'type': ...  2rkly9cp   \n",
       "121  {'env': {'game': 'MsPacman', 'seed': 42, 'type...  1ngd6rri   \n",
       "122  {'env': {'game': 'Pong', 'seed': 42, 'type': '...  35xml4ko   \n",
       "123  {'env': {'game': 'RoadRunner', 'seed': 42, 'ty...  o05bspxw   \n",
       "248  {'env': {'game': 'Frostbite', 'seed': 42, 'typ...  enaak6qz   \n",
       "249  {'env': {'game': 'Jamesbond', 'seed': 42, 'typ...  1a13oqxs   \n",
       "250  {'env': {'game': 'Freeway', 'seed': 42, 'type'...  22o38zo3   \n",
       "251  {'env': {'game': 'Gopher', 'seed': 42, 'type':...  2u9q47bo   \n",
       "252  {'env': {'game': 'ChopperCommand', 'seed': 42,...  30zwscqw   \n",
       "253  {'env': {'game': 'DemonAttack', 'seed': 42, 't...  3kemil59   \n",
       "254  {'env': {'game': 'CrazyClimber', 'seed': 42, '...  eztm8uxo   \n",
       "255  {'env': {'game': 'Hero', 'seed': 42, 'type': '...  2s85gj42   \n",
       "352  {'env': {'game': 'UpNDown', 'seed': 42, 'type'...  3g4odmpc   \n",
       "353  {'env': {'game': 'Seaquest', 'seed': 42, 'type...  m2hlxny7   \n",
       "354  {'env': {'game': 'BankHeist', 'seed': 42, 'typ...  134iip6d   \n",
       "355  {'env': {'game': 'Assault', 'seed': 42, 'type'...  33zs3c6s   \n",
       "356  {'env': {'game': 'Boxing', 'seed': 42, 'type':...  3bsvfpvu   \n",
       "357  {'env': {'game': 'Alien', 'seed': 42, 'type': ...  3jls2xx6   \n",
       "358  {'env': {'game': 'Amidar', 'seed': 42, 'type':...  srtltnlq   \n",
       "359  {'env': {'game': 'Breakout', 'seed': 42, 'type...  2dqyehv1   \n",
       "360  {'env': {'game': 'Asterix', 'seed': 42, 'type'...  331j6wki   \n",
       "361  {'env': {'game': 'BattleZone', 'seed': 42, 'ty...  6z9xqgxh   \n",
       "\n",
       "                env  \n",
       "116      PrivateEye  \n",
       "117           Qbert  \n",
       "118    KungFuMaster  \n",
       "119        Kangaroo  \n",
       "120           Krull  \n",
       "121        MsPacman  \n",
       "122            Pong  \n",
       "123      RoadRunner  \n",
       "248       Frostbite  \n",
       "249       Jamesbond  \n",
       "250         Freeway  \n",
       "251          Gopher  \n",
       "252  ChopperCommand  \n",
       "253     DemonAttack  \n",
       "254    CrazyClimber  \n",
       "255            Hero  \n",
       "352         UpNDown  \n",
       "353        Seaquest  \n",
       "354       BankHeist  \n",
       "355         Assault  \n",
       "356          Boxing  \n",
       "357           Alien  \n",
       "358          Amidar  \n",
       "359        Breakout  \n",
       "360         Asterix  \n",
       "361      BattleZone  "
      ]
     },
     "execution_count": 5,
     "metadata": {},
     "output_type": "execute_result"
    }
   ],
   "source": [
    "data = data_.iloc[indexs]\n",
    "envs = []\n",
    "for config in data['config']:\n",
    "    envs.append(eval(config)['env']['game'])\n",
    "data['env'] = envs\n",
    "print(len(data))\n",
    "data"
   ]
  },
  {
   "cell_type": "markdown",
   "id": "6502d51d-ea6d-49ce-b28e-ecb418c72172",
   "metadata": {},
   "source": [
    "### 1. Restore Saved Models"
   ]
  },
  {
   "cell_type": "code",
   "execution_count": 8,
   "id": "7a542abe-1776-418d-a89e-76c76410a076",
   "metadata": {},
   "outputs": [
    {
     "name": "stdout",
     "output_type": "stream",
     "text": [
      "PrivateEye 22h0p5n2\n"
     ]
    },
    {
     "name": "stderr",
     "output_type": "stream",
     "text": [
      "\u001b[34m\u001b[1mwandb\u001b[0m: \u001b[33mWARNING\u001b[0m A graphql request initiated by the public wandb API timed out (timeout=9 sec). Create a new API with an integer timeout larger than 9, e.g., `api = wandb.Api(timeout=19)` to increase the graphql timeout.\n"
     ]
    },
    {
     "name": "stdout",
     "output_type": "stream",
     "text": [
      "Qbert 2g14o9bn\n",
      "KungFuMaster 2n5s4p1a\n",
      "Kangaroo 2pf1jz0s\n",
      "Krull 2rkly9cp\n",
      "MsPacman 1ngd6rri\n",
      "Pong 35xml4ko\n",
      "RoadRunner o05bspxw\n",
      "Frostbite enaak6qz\n"
     ]
    },
    {
     "name": "stderr",
     "output_type": "stream",
     "text": [
      "\u001b[34m\u001b[1mwandb\u001b[0m: \u001b[33mWARNING\u001b[0m A graphql request initiated by the public wandb API timed out (timeout=9 sec). Create a new API with an integer timeout larger than 9, e.g., `api = wandb.Api(timeout=19)` to increase the graphql timeout.\n"
     ]
    },
    {
     "name": "stdout",
     "output_type": "stream",
     "text": [
      "Jamesbond 1a13oqxs\n",
      "Freeway 22o38zo3\n",
      "Gopher 2u9q47bo\n",
      "ChopperCommand 30zwscqw\n",
      "DemonAttack 3kemil59\n",
      "CrazyClimber eztm8uxo\n",
      "Hero 2s85gj42\n",
      "UpNDown 3g4odmpc\n",
      "Seaquest m2hlxny7\n",
      "BankHeist 134iip6d\n",
      "Assault 33zs3c6s\n",
      "Boxing 3bsvfpvu\n",
      "Alien 3jls2xx6\n",
      "Amidar srtltnlq\n",
      "Breakout 2dqyehv1\n",
      "Asterix 331j6wki\n",
      "BattleZone 6z9xqgxh\n"
     ]
    }
   ],
   "source": [
    "import pathlib\n",
    "base_path = str(pathlib.Path().resolve())\n",
    "\n",
    "#artifact_dict = {}\n",
    "model_path = '0/40/model.pth'\n",
    "for run_id, env in zip(data['id'], data['env']):\n",
    "    print(env, run_id)\n",
    "    try:\n",
    "        name = env + '/' + model_path \n",
    "        path = base_path + '/' + name\n",
    "        wandb.restore(name, run_path=\"draftrec/atari_pretrain/\" + run_id)\n",
    "        artifact_dict[path] = name \n",
    "    except:\n",
    "        continue"
   ]
  },
  {
   "cell_type": "markdown",
   "id": "73679067-d9e7-49e4-9502-3f58133c5a4f",
   "metadata": {},
   "source": [
    "### Save to artifact"
   ]
  },
  {
   "cell_type": "code",
   "execution_count": 10,
   "id": "46d23273-07c1-40f7-a110-dc6fcc25c694",
   "metadata": {},
   "outputs": [
    {
     "name": "stderr",
     "output_type": "stream",
     "text": [
      "\u001b[34m\u001b[1mwandb\u001b[0m: Currently logged in as: \u001b[33mjoonleesky\u001b[0m (\u001b[33mdraftrec\u001b[0m). Use \u001b[1m`wandb login --relogin`\u001b[0m to force relogin\n",
      "/opt/conda/lib/python3.8/site-packages/IPython/html.py:12: ShimWarning: The `IPython.html` package has been deprecated since IPython 4.0. You should import from `notebook` instead. `IPython.html.widgets` has moved to `ipywidgets`.\n",
      "  warn(\"The `IPython.html` package has been deprecated since IPython 4.0. \"\n"
     ]
    },
    {
     "data": {
      "text/html": [
       "wandb version 0.13.7 is available!  To upgrade, please run:\n",
       " $ pip install wandb --upgrade"
      ],
      "text/plain": [
       "<IPython.core.display.HTML object>"
      ]
     },
     "metadata": {},
     "output_type": "display_data"
    },
    {
     "data": {
      "text/html": [
       "Tracking run with wandb version 0.12.21"
      ],
      "text/plain": [
       "<IPython.core.display.HTML object>"
      ]
     },
     "metadata": {},
     "output_type": "display_data"
    },
    {
     "data": {
      "text/html": [
       "Run data is saved locally in <code>/data/private/video_rl/vis/atari_100k/wandb/run-20221218_005832-3a49uqm7</code>"
      ],
      "text/plain": [
       "<IPython.core.display.HTML object>"
      ]
     },
     "metadata": {},
     "output_type": "display_data"
    },
    {
     "data": {
      "text/html": [
       "Syncing run <strong><a href=\"https://wandb.ai/draftrec/atari_pretrain/runs/3a49uqm7\" target=\"_blank\">sage-surf-6533</a></strong> to <a href=\"https://wandb.ai/draftrec/atari_pretrain\" target=\"_blank\">Weights & Biases</a> (<a href=\"https://wandb.me/run\" target=\"_blank\">docs</a>)<br/>"
      ],
      "text/plain": [
       "<IPython.core.display.HTML object>"
      ]
     },
     "metadata": {},
     "output_type": "display_data"
    },
    {
     "data": {
      "text/plain": [
       "<wandb.sdk.wandb_artifacts.Artifact at 0x7f1a30845be0>"
      ]
     },
     "execution_count": 10,
     "metadata": {},
     "output_type": "execute_result"
    }
   ],
   "source": [
    "wandb.init(project='atari_pretrain',\n",
    "           entity='draftrec',\n",
    "           group=exp_name,\n",
    "           settings=wandb.Settings(start_method=\"thread\"))  \n",
    "artifact = wandb.Artifact(name=exp_name, type='model')\n",
    "\n",
    "# save models\n",
    "for path, name in artifact_dict.items():\n",
    "    artifact.add_file(path, name=name)\n",
    "\n",
    "wandb.run.finish_artifact(artifact)"
   ]
  },
  {
   "cell_type": "markdown",
   "id": "80148878-83a7-41e5-8eac-e315eee0b832",
   "metadata": {},
   "source": [
    "### Remove artifact"
   ]
  },
  {
   "cell_type": "code",
   "execution_count": 11,
   "id": "acba7b84-f841-4ef8-9772-0013dd40ca93",
   "metadata": {},
   "outputs": [],
   "source": [
    "import shutil\n",
    "for env in data['env']:\n",
    "    shutil.rmtree('./'+env, ignore_errors=True)"
   ]
  },
  {
   "cell_type": "markdown",
   "id": "2bc563cd-bad2-4867-87ac-3f4c39052daa",
   "metadata": {},
   "source": [
    "### 2. Generate json file"
   ]
  },
  {
   "cell_type": "code",
   "execution_count": null,
   "id": "5836bf82-98b7-4def-b8fc-e547c10effbe",
   "metadata": {},
   "outputs": [],
   "source": [
    "def get_results_dict(data):\n",
    "    results = []\n",
    "    for idx in range(len(data)):\n",
    "        row = data.iloc[idx]\n",
    "        summary = eval(row['summary'])\n",
    "        config = eval(row['config'])\n",
    "\n",
    "        if 'env' not in config:\n",
    "            continue\n",
    "\n",
    "        game = config['env']['game']\n",
    "        try:\n",
    "            import pdb\n",
    "            pdb.set_trace()\n",
    "            score = summary['eval_mean_traj_game_scores']\n",
    "        except:\n",
    "            continue\n",
    "        results.append([0, game, score, 0])\n",
    "\n",
    "    return results\n",
    "    \n",
    "results = get_results_dict(data)"
   ]
  },
  {
   "cell_type": "code",
   "execution_count": null,
   "id": "c5ff39de-78f8-4e4e-9769-c359838740ba",
   "metadata": {},
   "outputs": [],
   "source": [
    "data"
   ]
  },
  {
   "cell_type": "code",
   "execution_count": 18,
   "id": "c91a3ce2-a057-4a9a-b48e-e328c48bc577",
   "metadata": {},
   "outputs": [],
   "source": [
    "import json\n",
    "\n",
    "def generate_json_file(file_name, results):\n",
    "    data = {}\n",
    "    data['data'] = results\n",
    "    path = file_name + '.json'\n",
    "    with open(path, 'w') as json_file:\n",
    "        json.dump(data, json_file)"
   ]
  },
  {
   "cell_type": "code",
   "execution_count": 19,
   "id": "b9a638e9-1ab8-4d09-8bfe-58c1626136ca",
   "metadata": {},
   "outputs": [],
   "source": [
    "generate_json_file('byol_impala', results)"
   ]
  }
 ],
 "metadata": {
  "kernelspec": {
   "display_name": "Python 3 (ipykernel)",
   "language": "python",
   "name": "python3"
  },
  "language_info": {
   "codemirror_mode": {
    "name": "ipython",
    "version": 3
   },
   "file_extension": ".py",
   "mimetype": "text/x-python",
   "name": "python",
   "nbconvert_exporter": "python",
   "pygments_lexer": "ipython3",
   "version": "3.8.12"
  }
 },
 "nbformat": 4,
 "nbformat_minor": 5
}
