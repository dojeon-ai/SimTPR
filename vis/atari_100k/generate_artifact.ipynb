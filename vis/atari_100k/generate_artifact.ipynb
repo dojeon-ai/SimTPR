{
 "cells": [
  {
   "cell_type": "markdown",
   "id": "eb04bdff-90a8-4ec1-a223-7ec7478b6b7b",
   "metadata": {},
   "source": [
    "### Get results from Wandb"
   ]
  },
  {
   "cell_type": "code",
   "execution_count": 1,
   "id": "e5db1e9d-e012-4e52-a1c8-f7a72ee78bd0",
   "metadata": {},
   "outputs": [],
   "source": [
    "import pandas as pd \n",
    "import wandb\n",
    "api = wandb.Api()\n",
    "\n",
    "# Project is specified by <entity/project-name>\n",
    "runs = api.runs(\"draftrec/atari_pretrain\")\n",
    "\n",
    "summary_list, config_list, id_list = [], [], []\n",
    "for run in runs: \n",
    "    # .summary contains the output keys/values for metrics like accuracy.\n",
    "    #  We call ._json_dict to omit large files \n",
    "    summary_list.append(run.summary._json_dict)\n",
    "\n",
    "    # .config contains the hyperparameters.\n",
    "    #  We remove special values that start with _.\n",
    "    config_list.append(\n",
    "        {k: v for k,v in run.config.items()\n",
    "          if not k.startswith('_')})\n",
    "\n",
    "    # .name is the human-readable name of the run.\n",
    "    id_list.append(run.id)\n",
    "\n",
    "runs_df = pd.DataFrame({\n",
    "    \"summary\": summary_list,\n",
    "    \"config\": config_list,\n",
    "    \"id\": id_list,\n",
    "    })\n",
    "\n",
    "runs_df.to_csv(\"project.csv\")"
   ]
  },
  {
   "cell_type": "markdown",
   "id": "907d278c-215d-4ceb-9d39-6d8a0aec52e6",
   "metadata": {},
   "source": [
    "### Read runs"
   ]
  },
  {
   "cell_type": "code",
   "execution_count": 2,
   "id": "cf369766-e8c6-4ef5-ba10-bab9e5f9d7ba",
   "metadata": {},
   "outputs": [
    {
     "data": {
      "text/html": [
       "<div>\n",
       "<style scoped>\n",
       "    .dataframe tbody tr th:only-of-type {\n",
       "        vertical-align: middle;\n",
       "    }\n",
       "\n",
       "    .dataframe tbody tr th {\n",
       "        vertical-align: top;\n",
       "    }\n",
       "\n",
       "    .dataframe thead th {\n",
       "        text-align: right;\n",
       "    }\n",
       "</style>\n",
       "<table border=\"1\" class=\"dataframe\">\n",
       "  <thead>\n",
       "    <tr style=\"text-align: right;\">\n",
       "      <th></th>\n",
       "      <th>summary</th>\n",
       "      <th>config</th>\n",
       "      <th>id</th>\n",
       "    </tr>\n",
       "  </thead>\n",
       "  <tbody>\n",
       "    <tr>\n",
       "      <th>0</th>\n",
       "      <td>{}</td>\n",
       "      <td>{'env': {'game': 'Alien', 'seed': 42, 'type': ...</td>\n",
       "      <td>1be4resa</td>\n",
       "    </tr>\n",
       "    <tr>\n",
       "      <th>1</th>\n",
       "      <td>{'act_acc': 0.6967789174318314, 'pos_sim': 0.9...</td>\n",
       "      <td>{'env': {'game': 'Hero', 'type': 'atari', 'fra...</td>\n",
       "      <td>257y3lo3</td>\n",
       "    </tr>\n",
       "    <tr>\n",
       "      <th>2</th>\n",
       "      <td>{'act_f1': 0.13310726840077225, 'idm_acc': 0.0...</td>\n",
       "      <td>{'env': {'game': 'Frostbite', 'type': 'atari',...</td>\n",
       "      <td>1r3e6wtl</td>\n",
       "    </tr>\n",
       "    <tr>\n",
       "      <th>3</th>\n",
       "      <td>{'_runtime': 8572, 'idm_loss': 2.8987455635070...</td>\n",
       "      <td>{'env': {'game': 'Jamesbond', 'type': 'atari',...</td>\n",
       "      <td>2mpxvuub</td>\n",
       "    </tr>\n",
       "    <tr>\n",
       "      <th>4</th>\n",
       "      <td>{'reward_ratio': 0.0887544377218861, 'loss': 1...</td>\n",
       "      <td>{'env': {'game': 'Gopher', 'type': 'atari', 'f...</td>\n",
       "      <td>3ruf7rzq</td>\n",
       "    </tr>\n",
       "    <tr>\n",
       "      <th>...</th>\n",
       "      <td>...</td>\n",
       "      <td>...</td>\n",
       "      <td>...</td>\n",
       "    </tr>\n",
       "    <tr>\n",
       "      <th>1434</th>\n",
       "      <td>{'pos_neg_diff': 0.87976934150327, 'positive_s...</td>\n",
       "      <td>{'env': {'game': 'pong', 'type': 'atari', 'hor...</td>\n",
       "      <td>5zlpym7v</td>\n",
       "    </tr>\n",
       "    <tr>\n",
       "      <th>1435</th>\n",
       "      <td>{'loss': -0.9878902941942216, '_step': 117001,...</td>\n",
       "      <td>{'env': {'game': 'pong', 'type': 'atari', 'hor...</td>\n",
       "      <td>3oh4f4sw</td>\n",
       "    </tr>\n",
       "    <tr>\n",
       "      <th>1436</th>\n",
       "      <td>{'_wandb': {'runtime': 18405}, '_runtime': 183...</td>\n",
       "      <td>{'env': {'game': 'pong', 'type': 'atari', 'hor...</td>\n",
       "      <td>385p3sw7</td>\n",
       "    </tr>\n",
       "    <tr>\n",
       "      <th>1437</th>\n",
       "      <td>{'_wandb': {'runtime': 17734}, '_runtime': 177...</td>\n",
       "      <td>{'env': {'game': 'pong', 'type': 'atari', 'hor...</td>\n",
       "      <td>njf5gwab</td>\n",
       "    </tr>\n",
       "    <tr>\n",
       "      <th>1438</th>\n",
       "      <td>{'_step': 117001, '_wandb': {'runtime': 16033}...</td>\n",
       "      <td>{'env': {'game': 'pong', 'type': 'atari', 'hor...</td>\n",
       "      <td>nqsb1fxl</td>\n",
       "    </tr>\n",
       "  </tbody>\n",
       "</table>\n",
       "<p>1439 rows × 3 columns</p>\n",
       "</div>"
      ],
      "text/plain": [
       "                                                summary  \\\n",
       "0                                                    {}   \n",
       "1     {'act_acc': 0.6967789174318314, 'pos_sim': 0.9...   \n",
       "2     {'act_f1': 0.13310726840077225, 'idm_acc': 0.0...   \n",
       "3     {'_runtime': 8572, 'idm_loss': 2.8987455635070...   \n",
       "4     {'reward_ratio': 0.0887544377218861, 'loss': 1...   \n",
       "...                                                 ...   \n",
       "1434  {'pos_neg_diff': 0.87976934150327, 'positive_s...   \n",
       "1435  {'loss': -0.9878902941942216, '_step': 117001,...   \n",
       "1436  {'_wandb': {'runtime': 18405}, '_runtime': 183...   \n",
       "1437  {'_wandb': {'runtime': 17734}, '_runtime': 177...   \n",
       "1438  {'_step': 117001, '_wandb': {'runtime': 16033}...   \n",
       "\n",
       "                                                 config        id  \n",
       "0     {'env': {'game': 'Alien', 'seed': 42, 'type': ...  1be4resa  \n",
       "1     {'env': {'game': 'Hero', 'type': 'atari', 'fra...  257y3lo3  \n",
       "2     {'env': {'game': 'Frostbite', 'type': 'atari',...  1r3e6wtl  \n",
       "3     {'env': {'game': 'Jamesbond', 'type': 'atari',...  2mpxvuub  \n",
       "4     {'env': {'game': 'Gopher', 'type': 'atari', 'f...  3ruf7rzq  \n",
       "...                                                 ...       ...  \n",
       "1434  {'env': {'game': 'pong', 'type': 'atari', 'hor...  5zlpym7v  \n",
       "1435  {'env': {'game': 'pong', 'type': 'atari', 'hor...  3oh4f4sw  \n",
       "1436  {'env': {'game': 'pong', 'type': 'atari', 'hor...  385p3sw7  \n",
       "1437  {'env': {'game': 'pong', 'type': 'atari', 'hor...  njf5gwab  \n",
       "1438  {'env': {'game': 'pong', 'type': 'atari', 'hor...  nqsb1fxl  \n",
       "\n",
       "[1439 rows x 3 columns]"
      ]
     },
     "execution_count": 2,
     "metadata": {},
     "output_type": "execute_result"
    }
   ],
   "source": [
    "data_ = pd.read_csv('project.csv', index_col=0)\n",
    "data_"
   ]
  },
  {
   "cell_type": "markdown",
   "id": "3f6cc325-4f8a-4544-a8a1-264d2d367afc",
   "metadata": {},
   "source": [
    "### Filter based on conditions"
   ]
  },
  {
   "cell_type": "code",
   "execution_count": 3,
   "id": "59294ba8-5497-4814-a36a-0c133b78071d",
   "metadata": {},
   "outputs": [],
   "source": [
    "group_name = 'baseline'\n",
    "exp_name = 'clt_traj_cons_no_proj'\n",
    "model_path = '0/10/model.pth'"
   ]
  },
  {
   "cell_type": "code",
   "execution_count": 4,
   "id": "5652ff34-3538-4b17-8908-56560c5f0179",
   "metadata": {},
   "outputs": [],
   "source": [
    "configs = data_['config']\n",
    "indexs = []\n",
    "for idx, config in enumerate(configs):\n",
    "    cfg = eval(config)\n",
    "    if len(cfg) == 0:\n",
    "        continue\n",
    "        \n",
    "    run_exp_name = cfg['exp_name']\n",
    "    run_group_name = cfg['group_name']\n",
    "\n",
    "    # condition\n",
    "    if run_exp_name == exp_name and run_group_name == group_name:\n",
    "        if 'env' in cfg:\n",
    "            indexs.append(idx)"
   ]
  },
  {
   "cell_type": "code",
   "execution_count": 5,
   "id": "cf36ab43-3f95-497e-b976-3a7fdcc4a94d",
   "metadata": {},
   "outputs": [
    {
     "name": "stdout",
     "output_type": "stream",
     "text": [
      "16\n"
     ]
    },
    {
     "name": "stderr",
     "output_type": "stream",
     "text": [
      "/tmp/ipykernel_59/3806693401.py:5: SettingWithCopyWarning: \n",
      "A value is trying to be set on a copy of a slice from a DataFrame.\n",
      "Try using .loc[row_indexer,col_indexer] = value instead\n",
      "\n",
      "See the caveats in the documentation: https://pandas.pydata.org/pandas-docs/stable/user_guide/indexing.html#returning-a-view-versus-a-copy\n",
      "  data['env'] = envs\n"
     ]
    },
    {
     "data": {
      "text/html": [
       "<div>\n",
       "<style scoped>\n",
       "    .dataframe tbody tr th:only-of-type {\n",
       "        vertical-align: middle;\n",
       "    }\n",
       "\n",
       "    .dataframe tbody tr th {\n",
       "        vertical-align: top;\n",
       "    }\n",
       "\n",
       "    .dataframe thead th {\n",
       "        text-align: right;\n",
       "    }\n",
       "</style>\n",
       "<table border=\"1\" class=\"dataframe\">\n",
       "  <thead>\n",
       "    <tr style=\"text-align: right;\">\n",
       "      <th></th>\n",
       "      <th>summary</th>\n",
       "      <th>config</th>\n",
       "      <th>id</th>\n",
       "      <th>env</th>\n",
       "    </tr>\n",
       "  </thead>\n",
       "  <tbody>\n",
       "    <tr>\n",
       "      <th>1</th>\n",
       "      <td>{'act_acc': 0.6967789174318314, 'pos_sim': 0.9...</td>\n",
       "      <td>{'env': {'game': 'Hero', 'type': 'atari', 'fra...</td>\n",
       "      <td>257y3lo3</td>\n",
       "      <td>Hero</td>\n",
       "    </tr>\n",
       "    <tr>\n",
       "      <th>2</th>\n",
       "      <td>{'act_f1': 0.13310726840077225, 'idm_acc': 0.0...</td>\n",
       "      <td>{'env': {'game': 'Frostbite', 'type': 'atari',...</td>\n",
       "      <td>1r3e6wtl</td>\n",
       "      <td>Frostbite</td>\n",
       "    </tr>\n",
       "    <tr>\n",
       "      <th>3</th>\n",
       "      <td>{'_runtime': 8572, 'idm_loss': 2.8987455635070...</td>\n",
       "      <td>{'env': {'game': 'Jamesbond', 'type': 'atari',...</td>\n",
       "      <td>2mpxvuub</td>\n",
       "      <td>Jamesbond</td>\n",
       "    </tr>\n",
       "    <tr>\n",
       "      <th>4</th>\n",
       "      <td>{'reward_ratio': 0.0887544377218861, 'loss': 1...</td>\n",
       "      <td>{'env': {'game': 'Gopher', 'type': 'atari', 'f...</td>\n",
       "      <td>3ruf7rzq</td>\n",
       "      <td>Gopher</td>\n",
       "    </tr>\n",
       "    <tr>\n",
       "      <th>34</th>\n",
       "      <td>{'reward_ratio': 0.14690734536726838, '_step':...</td>\n",
       "      <td>{'env': {'game': 'CrazyClimber', 'type': 'atar...</td>\n",
       "      <td>1u4pahbk</td>\n",
       "      <td>CrazyClimber</td>\n",
       "    </tr>\n",
       "    <tr>\n",
       "      <th>35</th>\n",
       "      <td>{'max_grad_norm': 0.7762465246001556, 'mean_gr...</td>\n",
       "      <td>{'env': {'game': 'DemonAttack', 'type': 'atari...</td>\n",
       "      <td>2vwko6xd</td>\n",
       "      <td>DemonAttack</td>\n",
       "    </tr>\n",
       "    <tr>\n",
       "      <th>36</th>\n",
       "      <td>{'act_acc': 0.917808324017822, 'min_grad_norm'...</td>\n",
       "      <td>{'env': {'game': 'Freeway', 'type': 'atari', '...</td>\n",
       "      <td>35asodp6</td>\n",
       "      <td>Freeway</td>\n",
       "    </tr>\n",
       "    <tr>\n",
       "      <th>37</th>\n",
       "      <td>{'neg_sim': 0.0944095887344704, 'idm_loss': 2....</td>\n",
       "      <td>{'env': {'game': 'ChopperCommand', 'type': 'at...</td>\n",
       "      <td>3qidgt2o</td>\n",
       "      <td>ChopperCommand</td>\n",
       "    </tr>\n",
       "    <tr>\n",
       "      <th>124</th>\n",
       "      <td>{'pos_sim': 0.9302198111526364, 'idm_loss': 2....</td>\n",
       "      <td>{'env': {'game': 'BankHeist', 'type': 'atari',...</td>\n",
       "      <td>4ce1zzkt</td>\n",
       "      <td>BankHeist</td>\n",
       "    </tr>\n",
       "    <tr>\n",
       "      <th>125</th>\n",
       "      <td>{'act_acc': 0.8515198537650793, 'pos_neg_diff'...</td>\n",
       "      <td>{'env': {'game': 'BattleZone', 'type': 'atari'...</td>\n",
       "      <td>d5wswm3e</td>\n",
       "      <td>BattleZone</td>\n",
       "    </tr>\n",
       "    <tr>\n",
       "      <th>126</th>\n",
       "      <td>{'act_f1': 0.46579197640153225, 'idm_acc': 0.2...</td>\n",
       "      <td>{'env': {'game': 'Breakout', 'type': 'atari', ...</td>\n",
       "      <td>1u4k07ji</td>\n",
       "      <td>Breakout</td>\n",
       "    </tr>\n",
       "    <tr>\n",
       "      <th>127</th>\n",
       "      <td>{'max_grad_norm': 0.8281413991922931, 'min_gra...</td>\n",
       "      <td>{'env': {'game': 'Boxing', 'type': 'atari', 'f...</td>\n",
       "      <td>21jij50n</td>\n",
       "      <td>Boxing</td>\n",
       "    </tr>\n",
       "    <tr>\n",
       "      <th>138</th>\n",
       "      <td>{'epoch': 10, 'best_metric_val': 0.36780150194...</td>\n",
       "      <td>{'env': {'game': 'Assault', 'type': 'atari', '...</td>\n",
       "      <td>3kd5eec3</td>\n",
       "      <td>Assault</td>\n",
       "    </tr>\n",
       "    <tr>\n",
       "      <th>139</th>\n",
       "      <td>{'idm_loss': 2.93418534532149, 'obs_loss': 0.2...</td>\n",
       "      <td>{'env': {'game': 'Alien', 'type': 'atari', 'fr...</td>\n",
       "      <td>3vuyzhop</td>\n",
       "      <td>Alien</td>\n",
       "    </tr>\n",
       "    <tr>\n",
       "      <th>140</th>\n",
       "      <td>{'min_grad_norm': 0, 'best_metric_val': 0.2765...</td>\n",
       "      <td>{'env': {'game': 'Amidar', 'type': 'atari', 'f...</td>\n",
       "      <td>3m74ckao</td>\n",
       "      <td>Amidar</td>\n",
       "    </tr>\n",
       "    <tr>\n",
       "      <th>141</th>\n",
       "      <td>{'rtg_loss': 0.0021383885955463255, 'loss': 0....</td>\n",
       "      <td>{'env': {'game': 'Asterix', 'type': 'atari', '...</td>\n",
       "      <td>eh4n7c9b</td>\n",
       "      <td>Asterix</td>\n",
       "    </tr>\n",
       "  </tbody>\n",
       "</table>\n",
       "</div>"
      ],
      "text/plain": [
       "                                               summary  \\\n",
       "1    {'act_acc': 0.6967789174318314, 'pos_sim': 0.9...   \n",
       "2    {'act_f1': 0.13310726840077225, 'idm_acc': 0.0...   \n",
       "3    {'_runtime': 8572, 'idm_loss': 2.8987455635070...   \n",
       "4    {'reward_ratio': 0.0887544377218861, 'loss': 1...   \n",
       "34   {'reward_ratio': 0.14690734536726838, '_step':...   \n",
       "35   {'max_grad_norm': 0.7762465246001556, 'mean_gr...   \n",
       "36   {'act_acc': 0.917808324017822, 'min_grad_norm'...   \n",
       "37   {'neg_sim': 0.0944095887344704, 'idm_loss': 2....   \n",
       "124  {'pos_sim': 0.9302198111526364, 'idm_loss': 2....   \n",
       "125  {'act_acc': 0.8515198537650793, 'pos_neg_diff'...   \n",
       "126  {'act_f1': 0.46579197640153225, 'idm_acc': 0.2...   \n",
       "127  {'max_grad_norm': 0.8281413991922931, 'min_gra...   \n",
       "138  {'epoch': 10, 'best_metric_val': 0.36780150194...   \n",
       "139  {'idm_loss': 2.93418534532149, 'obs_loss': 0.2...   \n",
       "140  {'min_grad_norm': 0, 'best_metric_val': 0.2765...   \n",
       "141  {'rtg_loss': 0.0021383885955463255, 'loss': 0....   \n",
       "\n",
       "                                                config        id  \\\n",
       "1    {'env': {'game': 'Hero', 'type': 'atari', 'fra...  257y3lo3   \n",
       "2    {'env': {'game': 'Frostbite', 'type': 'atari',...  1r3e6wtl   \n",
       "3    {'env': {'game': 'Jamesbond', 'type': 'atari',...  2mpxvuub   \n",
       "4    {'env': {'game': 'Gopher', 'type': 'atari', 'f...  3ruf7rzq   \n",
       "34   {'env': {'game': 'CrazyClimber', 'type': 'atar...  1u4pahbk   \n",
       "35   {'env': {'game': 'DemonAttack', 'type': 'atari...  2vwko6xd   \n",
       "36   {'env': {'game': 'Freeway', 'type': 'atari', '...  35asodp6   \n",
       "37   {'env': {'game': 'ChopperCommand', 'type': 'at...  3qidgt2o   \n",
       "124  {'env': {'game': 'BankHeist', 'type': 'atari',...  4ce1zzkt   \n",
       "125  {'env': {'game': 'BattleZone', 'type': 'atari'...  d5wswm3e   \n",
       "126  {'env': {'game': 'Breakout', 'type': 'atari', ...  1u4k07ji   \n",
       "127  {'env': {'game': 'Boxing', 'type': 'atari', 'f...  21jij50n   \n",
       "138  {'env': {'game': 'Assault', 'type': 'atari', '...  3kd5eec3   \n",
       "139  {'env': {'game': 'Alien', 'type': 'atari', 'fr...  3vuyzhop   \n",
       "140  {'env': {'game': 'Amidar', 'type': 'atari', 'f...  3m74ckao   \n",
       "141  {'env': {'game': 'Asterix', 'type': 'atari', '...  eh4n7c9b   \n",
       "\n",
       "                env  \n",
       "1              Hero  \n",
       "2         Frostbite  \n",
       "3         Jamesbond  \n",
       "4            Gopher  \n",
       "34     CrazyClimber  \n",
       "35      DemonAttack  \n",
       "36          Freeway  \n",
       "37   ChopperCommand  \n",
       "124       BankHeist  \n",
       "125      BattleZone  \n",
       "126        Breakout  \n",
       "127          Boxing  \n",
       "138         Assault  \n",
       "139           Alien  \n",
       "140          Amidar  \n",
       "141         Asterix  "
      ]
     },
     "execution_count": 5,
     "metadata": {},
     "output_type": "execute_result"
    }
   ],
   "source": [
    "data = data_.iloc[indexs]\n",
    "envs = []\n",
    "for config in data['config']:\n",
    "    envs.append(eval(config)['env']['game'])\n",
    "data['env'] = envs\n",
    "print(len(data))\n",
    "data"
   ]
  },
  {
   "cell_type": "markdown",
   "id": "6502d51d-ea6d-49ce-b28e-ecb418c72172",
   "metadata": {},
   "source": [
    "### 1. Restore Saved Models"
   ]
  },
  {
   "cell_type": "code",
   "execution_count": 6,
   "id": "7a542abe-1776-418d-a89e-76c76410a076",
   "metadata": {},
   "outputs": [
    {
     "name": "stdout",
     "output_type": "stream",
     "text": [
      "Hero 257y3lo3\n",
      "Frostbite 1r3e6wtl\n",
      "Jamesbond 2mpxvuub\n",
      "Gopher 3ruf7rzq\n",
      "CrazyClimber 1u4pahbk\n",
      "DemonAttack 2vwko6xd\n",
      "Freeway 35asodp6\n",
      "ChopperCommand 3qidgt2o\n",
      "BankHeist 4ce1zzkt\n",
      "BattleZone d5wswm3e\n",
      "Breakout 1u4k07ji\n",
      "Boxing 21jij50n\n",
      "Assault 3kd5eec3\n",
      "Alien 3vuyzhop\n",
      "Amidar 3m74ckao\n",
      "Asterix eh4n7c9b\n"
     ]
    }
   ],
   "source": [
    "import pathlib\n",
    "base_path = str(pathlib.Path().resolve())\n",
    "\n",
    "artifact_dict = {}\n",
    "for run_id, env in zip(data['id'], data['env']):\n",
    "    print(env, run_id)\n",
    "    try:\n",
    "        name = env + '/' + model_path \n",
    "        path = base_path + '/' + name\n",
    "        wandb.restore(name, run_path=\"draftrec/atari_pretrain/\" + run_id)\n",
    "        artifact_dict[path] = name \n",
    "    except:\n",
    "        continue"
   ]
  },
  {
   "cell_type": "markdown",
   "id": "73679067-d9e7-49e4-9502-3f58133c5a4f",
   "metadata": {},
   "source": [
    "### Save to artifact"
   ]
  },
  {
   "cell_type": "code",
   "execution_count": 7,
   "id": "46d23273-07c1-40f7-a110-dc6fcc25c694",
   "metadata": {},
   "outputs": [
    {
     "name": "stderr",
     "output_type": "stream",
     "text": [
      "\u001b[34m\u001b[1mwandb\u001b[0m: Currently logged in as: \u001b[33mjoonleesky\u001b[0m (\u001b[33mdraftrec\u001b[0m). Use \u001b[1m`wandb login --relogin`\u001b[0m to force relogin\n",
      "/opt/conda/lib/python3.8/site-packages/IPython/html.py:12: ShimWarning: The `IPython.html` package has been deprecated since IPython 4.0. You should import from `notebook` instead. `IPython.html.widgets` has moved to `ipywidgets`.\n",
      "  warn(\"The `IPython.html` package has been deprecated since IPython 4.0. \"\n"
     ]
    },
    {
     "data": {
      "text/html": [
       "wandb version 0.13.5 is available!  To upgrade, please run:\n",
       " $ pip install wandb --upgrade"
      ],
      "text/plain": [
       "<IPython.core.display.HTML object>"
      ]
     },
     "metadata": {},
     "output_type": "display_data"
    },
    {
     "data": {
      "text/html": [
       "Tracking run with wandb version 0.12.21"
      ],
      "text/plain": [
       "<IPython.core.display.HTML object>"
      ]
     },
     "metadata": {},
     "output_type": "display_data"
    },
    {
     "data": {
      "text/html": [
       "Run data is saved locally in <code>/data/private/video_rl/vis/atari_100k/wandb/run-20221128_113733-3fyygtzu</code>"
      ],
      "text/plain": [
       "<IPython.core.display.HTML object>"
      ]
     },
     "metadata": {},
     "output_type": "display_data"
    },
    {
     "data": {
      "text/html": [
       "Syncing run <strong><a href=\"https://wandb.ai/draftrec/atari_pretrain/runs/3fyygtzu\" target=\"_blank\">flowing-fog-4934</a></strong> to <a href=\"https://wandb.ai/draftrec/atari_pretrain\" target=\"_blank\">Weights & Biases</a> (<a href=\"https://wandb.me/run\" target=\"_blank\">docs</a>)<br/>"
      ],
      "text/plain": [
       "<IPython.core.display.HTML object>"
      ]
     },
     "metadata": {},
     "output_type": "display_data"
    },
    {
     "data": {
      "text/plain": [
       "<wandb.sdk.wandb_artifacts.Artifact at 0x7f3bb246f310>"
      ]
     },
     "execution_count": 7,
     "metadata": {},
     "output_type": "execute_result"
    }
   ],
   "source": [
    "wandb.init(project='atari_pretrain',\n",
    "           entity='draftrec',\n",
    "           group=exp_name,\n",
    "           settings=wandb.Settings(start_method=\"thread\"))  \n",
    "artifact = wandb.Artifact(name=exp_name, type='model')\n",
    "\n",
    "# save models\n",
    "for path, name in artifact_dict.items():\n",
    "    artifact.add_file(path, name=name)\n",
    "\n",
    "wandb.run.finish_artifact(artifact)"
   ]
  },
  {
   "cell_type": "markdown",
   "id": "80148878-83a7-41e5-8eac-e315eee0b832",
   "metadata": {},
   "source": [
    "### Remove artifact"
   ]
  },
  {
   "cell_type": "code",
   "execution_count": 8,
   "id": "acba7b84-f841-4ef8-9772-0013dd40ca93",
   "metadata": {},
   "outputs": [],
   "source": [
    "import shutil\n",
    "for env in data['env']:\n",
    "    shutil.rmtree('./'+env, ignore_errors=True)"
   ]
  },
  {
   "cell_type": "markdown",
   "id": "2bc563cd-bad2-4867-87ac-3f4c39052daa",
   "metadata": {},
   "source": [
    "### 2. Generate json file"
   ]
  },
  {
   "cell_type": "code",
   "execution_count": null,
   "id": "5836bf82-98b7-4def-b8fc-e547c10effbe",
   "metadata": {},
   "outputs": [],
   "source": [
    "def get_results_dict(data):\n",
    "    results = []\n",
    "    for idx in range(len(data)):\n",
    "        row = data.iloc[idx]\n",
    "        summary = eval(row['summary'])\n",
    "        config = eval(row['config'])\n",
    "\n",
    "        if 'env' not in config:\n",
    "            continue\n",
    "\n",
    "        game = config['env']['game']\n",
    "        try:\n",
    "            import pdb\n",
    "            pdb.set_trace()\n",
    "            score = summary['eval_mean_traj_game_scores']\n",
    "        except:\n",
    "            continue\n",
    "        results.append([0, game, score, 0])\n",
    "\n",
    "    return results\n",
    "    \n",
    "results = get_results_dict(data)"
   ]
  },
  {
   "cell_type": "code",
   "execution_count": null,
   "id": "c5ff39de-78f8-4e4e-9769-c359838740ba",
   "metadata": {},
   "outputs": [],
   "source": [
    "data"
   ]
  },
  {
   "cell_type": "code",
   "execution_count": 18,
   "id": "c91a3ce2-a057-4a9a-b48e-e328c48bc577",
   "metadata": {},
   "outputs": [],
   "source": [
    "import json\n",
    "\n",
    "def generate_json_file(file_name, results):\n",
    "    data = {}\n",
    "    data['data'] = results\n",
    "    path = file_name + '.json'\n",
    "    with open(path, 'w') as json_file:\n",
    "        json.dump(data, json_file)"
   ]
  },
  {
   "cell_type": "code",
   "execution_count": 19,
   "id": "b9a638e9-1ab8-4d09-8bfe-58c1626136ca",
   "metadata": {},
   "outputs": [],
   "source": [
    "generate_json_file('byol_impala', results)"
   ]
  }
 ],
 "metadata": {
  "kernelspec": {
   "display_name": "Python 3 (ipykernel)",
   "language": "python",
   "name": "python3"
  },
  "language_info": {
   "codemirror_mode": {
    "name": "ipython",
    "version": 3
   },
   "file_extension": ".py",
   "mimetype": "text/x-python",
   "name": "python",
   "nbconvert_exporter": "python",
   "pygments_lexer": "ipython3",
   "version": "3.8.12"
  }
 },
 "nbformat": 4,
 "nbformat_minor": 5
}
