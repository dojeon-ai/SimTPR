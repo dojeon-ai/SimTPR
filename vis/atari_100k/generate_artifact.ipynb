{
 "cells": [
  {
   "cell_type": "markdown",
   "id": "eb04bdff-90a8-4ec1-a223-7ec7478b6b7b",
   "metadata": {},
   "source": [
    "### Get results from Wandb"
   ]
  },
  {
   "cell_type": "code",
   "execution_count": 1,
   "id": "e5db1e9d-e012-4e52-a1c8-f7a72ee78bd0",
   "metadata": {},
   "outputs": [],
   "source": [
    "import pandas as pd \n",
    "import wandb\n",
    "api = wandb.Api()\n",
    "\n",
    "# Project is specified by <entity/project-name>\n",
    "runs = api.runs(\"draftrec/atari_pretrain\")\n",
    "\n",
    "summary_list, config_list, id_list = [], [], []\n",
    "for run in runs: \n",
    "    # .summary contains the output keys/values for metrics like accuracy.\n",
    "    #  We call ._json_dict to omit large files \n",
    "    summary_list.append(run.summary._json_dict)\n",
    "\n",
    "    # .config contains the hyperparameters.\n",
    "    #  We remove special values that start with _.\n",
    "    config_list.append(\n",
    "        {k: v for k,v in run.config.items()\n",
    "          if not k.startswith('_')})\n",
    "\n",
    "    # .name is the human-readable name of the run.\n",
    "    id_list.append(run.id)\n",
    "\n",
    "runs_df = pd.DataFrame({\n",
    "    \"summary\": summary_list,\n",
    "    \"config\": config_list,\n",
    "    \"id\": id_list,\n",
    "    })\n",
    "\n",
    "runs_df.to_csv(\"project.csv\")"
   ]
  },
  {
   "cell_type": "markdown",
   "id": "907d278c-215d-4ceb-9d39-6d8a0aec52e6",
   "metadata": {},
   "source": [
    "### Read runs"
   ]
  },
  {
   "cell_type": "code",
   "execution_count": 2,
   "id": "cf369766-e8c6-4ef5-ba10-bab9e5f9d7ba",
   "metadata": {},
   "outputs": [
    {
     "data": {
      "text/html": [
       "<div>\n",
       "<style scoped>\n",
       "    .dataframe tbody tr th:only-of-type {\n",
       "        vertical-align: middle;\n",
       "    }\n",
       "\n",
       "    .dataframe tbody tr th {\n",
       "        vertical-align: top;\n",
       "    }\n",
       "\n",
       "    .dataframe thead th {\n",
       "        text-align: right;\n",
       "    }\n",
       "</style>\n",
       "<table border=\"1\" class=\"dataframe\">\n",
       "  <thead>\n",
       "    <tr style=\"text-align: right;\">\n",
       "      <th></th>\n",
       "      <th>summary</th>\n",
       "      <th>config</th>\n",
       "      <th>id</th>\n",
       "    </tr>\n",
       "  </thead>\n",
       "  <tbody>\n",
       "    <tr>\n",
       "      <th>0</th>\n",
       "      <td>{}</td>\n",
       "      <td>{'env': {'game': 'Boxing', 'type': 'atari', 'f...</td>\n",
       "      <td>kw6hqbf6</td>\n",
       "    </tr>\n",
       "    <tr>\n",
       "      <th>1</th>\n",
       "      <td>{}</td>\n",
       "      <td>{'env': {'game': 'Boxing', 'type': 'atari', 'f...</td>\n",
       "      <td>2ivz19nz</td>\n",
       "    </tr>\n",
       "    <tr>\n",
       "      <th>2</th>\n",
       "      <td>{}</td>\n",
       "      <td>{'env': {'game': 'Boxing', 'type': 'atari', 'f...</td>\n",
       "      <td>9wqpicwo</td>\n",
       "    </tr>\n",
       "    <tr>\n",
       "      <th>3</th>\n",
       "      <td>{'_wandb': {'runtime': 28}}</td>\n",
       "      <td>{'env': {'game': 'Boxing', 'type': 'atari', 'f...</td>\n",
       "      <td>f0i66cyl</td>\n",
       "    </tr>\n",
       "    <tr>\n",
       "      <th>4</th>\n",
       "      <td>{}</td>\n",
       "      <td>{'env': {'game': 'Boxing', 'type': 'atari', 'f...</td>\n",
       "      <td>3dst0211</td>\n",
       "    </tr>\n",
       "    <tr>\n",
       "      <th>...</th>\n",
       "      <td>...</td>\n",
       "      <td>...</td>\n",
       "      <td>...</td>\n",
       "    </tr>\n",
       "    <tr>\n",
       "      <th>1275</th>\n",
       "      <td>{'pos_neg_diff': 0.87976934150327, 'positive_s...</td>\n",
       "      <td>{'env': {'game': 'pong', 'type': 'atari', 'hor...</td>\n",
       "      <td>5zlpym7v</td>\n",
       "    </tr>\n",
       "    <tr>\n",
       "      <th>1276</th>\n",
       "      <td>{'loss': -0.9878902941942216, '_step': 117001,...</td>\n",
       "      <td>{'env': {'game': 'pong', 'type': 'atari', 'hor...</td>\n",
       "      <td>3oh4f4sw</td>\n",
       "    </tr>\n",
       "    <tr>\n",
       "      <th>1277</th>\n",
       "      <td>{'loss': -0.9783781695365906, '_step': 117001,...</td>\n",
       "      <td>{'env': {'game': 'pong', 'type': 'atari', 'hor...</td>\n",
       "      <td>385p3sw7</td>\n",
       "    </tr>\n",
       "    <tr>\n",
       "      <th>1278</th>\n",
       "      <td>{'negative_sim': 0.17696081340312958, 'pos_neg...</td>\n",
       "      <td>{'env': {'game': 'pong', 'type': 'atari', 'hor...</td>\n",
       "      <td>njf5gwab</td>\n",
       "    </tr>\n",
       "    <tr>\n",
       "      <th>1279</th>\n",
       "      <td>{'_step': 117001, '_wandb': {'runtime': 16033}...</td>\n",
       "      <td>{'env': {'game': 'pong', 'type': 'atari', 'hor...</td>\n",
       "      <td>nqsb1fxl</td>\n",
       "    </tr>\n",
       "  </tbody>\n",
       "</table>\n",
       "<p>1280 rows × 3 columns</p>\n",
       "</div>"
      ],
      "text/plain": [
       "                                                summary  \\\n",
       "0                                                    {}   \n",
       "1                                                    {}   \n",
       "2                                                    {}   \n",
       "3                           {'_wandb': {'runtime': 28}}   \n",
       "4                                                    {}   \n",
       "...                                                 ...   \n",
       "1275  {'pos_neg_diff': 0.87976934150327, 'positive_s...   \n",
       "1276  {'loss': -0.9878902941942216, '_step': 117001,...   \n",
       "1277  {'loss': -0.9783781695365906, '_step': 117001,...   \n",
       "1278  {'negative_sim': 0.17696081340312958, 'pos_neg...   \n",
       "1279  {'_step': 117001, '_wandb': {'runtime': 16033}...   \n",
       "\n",
       "                                                 config        id  \n",
       "0     {'env': {'game': 'Boxing', 'type': 'atari', 'f...  kw6hqbf6  \n",
       "1     {'env': {'game': 'Boxing', 'type': 'atari', 'f...  2ivz19nz  \n",
       "2     {'env': {'game': 'Boxing', 'type': 'atari', 'f...  9wqpicwo  \n",
       "3     {'env': {'game': 'Boxing', 'type': 'atari', 'f...  f0i66cyl  \n",
       "4     {'env': {'game': 'Boxing', 'type': 'atari', 'f...  3dst0211  \n",
       "...                                                 ...       ...  \n",
       "1275  {'env': {'game': 'pong', 'type': 'atari', 'hor...  5zlpym7v  \n",
       "1276  {'env': {'game': 'pong', 'type': 'atari', 'hor...  3oh4f4sw  \n",
       "1277  {'env': {'game': 'pong', 'type': 'atari', 'hor...  385p3sw7  \n",
       "1278  {'env': {'game': 'pong', 'type': 'atari', 'hor...  njf5gwab  \n",
       "1279  {'env': {'game': 'pong', 'type': 'atari', 'hor...  nqsb1fxl  \n",
       "\n",
       "[1280 rows x 3 columns]"
      ]
     },
     "execution_count": 2,
     "metadata": {},
     "output_type": "execute_result"
    }
   ],
   "source": [
    "data_ = pd.read_csv('project.csv', index_col=0)\n",
    "data_"
   ]
  },
  {
   "cell_type": "markdown",
   "id": "3f6cc325-4f8a-4544-a8a1-264d2d367afc",
   "metadata": {},
   "source": [
    "### Filter based on conditions"
   ]
  },
  {
   "cell_type": "code",
   "execution_count": 3,
   "id": "59294ba8-5497-4814-a36a-0c133b78071d",
   "metadata": {},
   "outputs": [],
   "source": [
    "group_name = 'baseline'\n",
    "exp_name = 'clt_traj_cons_no_proj'\n",
    "model_path = '0/10/model.pth'"
   ]
  },
  {
   "cell_type": "code",
   "execution_count": 4,
   "id": "5652ff34-3538-4b17-8908-56560c5f0179",
   "metadata": {},
   "outputs": [],
   "source": [
    "configs = data_['config']\n",
    "indexs = []\n",
    "for idx, config in enumerate(configs):\n",
    "    cfg = eval(config)\n",
    "    if len(cfg) == 0:\n",
    "        continue\n",
    "        \n",
    "    run_exp_name = cfg['exp_name']\n",
    "    run_group_name = cfg['group_name']\n",
    "\n",
    "    # condition\n",
    "    if run_exp_name == exp_name and run_group_name == group_name:\n",
    "        if 'env' in cfg:\n",
    "            indexs.append(idx)"
   ]
  },
  {
   "cell_type": "code",
   "execution_count": 5,
   "id": "cf36ab43-3f95-497e-b976-3a7fdcc4a94d",
   "metadata": {},
   "outputs": [
    {
     "name": "stdout",
     "output_type": "stream",
     "text": [
      "12\n"
     ]
    },
    {
     "name": "stderr",
     "output_type": "stream",
     "text": [
      "/tmp/ipykernel_4021/3806693401.py:5: SettingWithCopyWarning: \n",
      "A value is trying to be set on a copy of a slice from a DataFrame.\n",
      "Try using .loc[row_indexer,col_indexer] = value instead\n",
      "\n",
      "See the caveats in the documentation: https://pandas.pydata.org/pandas-docs/stable/user_guide/indexing.html#returning-a-view-versus-a-copy\n",
      "  data['env'] = envs\n"
     ]
    },
    {
     "data": {
      "text/html": [
       "<div>\n",
       "<style scoped>\n",
       "    .dataframe tbody tr th:only-of-type {\n",
       "        vertical-align: middle;\n",
       "    }\n",
       "\n",
       "    .dataframe tbody tr th {\n",
       "        vertical-align: top;\n",
       "    }\n",
       "\n",
       "    .dataframe thead th {\n",
       "        text-align: right;\n",
       "    }\n",
       "</style>\n",
       "<table border=\"1\" class=\"dataframe\">\n",
       "  <thead>\n",
       "    <tr style=\"text-align: right;\">\n",
       "      <th></th>\n",
       "      <th>summary</th>\n",
       "      <th>config</th>\n",
       "      <th>id</th>\n",
       "      <th>env</th>\n",
       "    </tr>\n",
       "  </thead>\n",
       "  <tbody>\n",
       "    <tr>\n",
       "      <th>21</th>\n",
       "      <td>{'_step': 200000, 'act_acc': 0.696096105813980...</td>\n",
       "      <td>{'env': {'game': 'CrazyClimber', 'type': 'atar...</td>\n",
       "      <td>3b8bcyof</td>\n",
       "      <td>CrazyClimber</td>\n",
       "    </tr>\n",
       "    <tr>\n",
       "      <th>22</th>\n",
       "      <td>{'pos_neg_diff': 0.941808152616024, 'max_grad_...</td>\n",
       "      <td>{'env': {'game': 'Freeway', 'type': 'atari', '...</td>\n",
       "      <td>bkmyy6jj</td>\n",
       "      <td>Freeway</td>\n",
       "    </tr>\n",
       "    <tr>\n",
       "      <th>23</th>\n",
       "      <td>{'rtg_loss': 1.111785558372736, 'reward_ratio'...</td>\n",
       "      <td>{'env': {'game': 'ChopperCommand', 'type': 'at...</td>\n",
       "      <td>f6rlmwdk</td>\n",
       "      <td>ChopperCommand</td>\n",
       "    </tr>\n",
       "    <tr>\n",
       "      <th>24</th>\n",
       "      <td>{'_step': 202000, '_timestamp': 1669436278, 'm...</td>\n",
       "      <td>{'env': {'game': 'DemonAttack', 'type': 'atari...</td>\n",
       "      <td>jxr9ejhs</td>\n",
       "      <td>DemonAttack</td>\n",
       "    </tr>\n",
       "    <tr>\n",
       "      <th>72</th>\n",
       "      <td>{'mean_grad_norm': 0.1223612709985516, 'best_m...</td>\n",
       "      <td>{'env': {'game': 'Boxing', 'type': 'atari', 'f...</td>\n",
       "      <td>32nzfqdn</td>\n",
       "      <td>Boxing</td>\n",
       "    </tr>\n",
       "    <tr>\n",
       "      <th>73</th>\n",
       "      <td>{'rtg_loss': 1.2629908736805282, 'epoch': 10, ...</td>\n",
       "      <td>{'env': {'game': 'Breakout', 'type': 'atari', ...</td>\n",
       "      <td>2batx68n</td>\n",
       "      <td>Breakout</td>\n",
       "    </tr>\n",
       "    <tr>\n",
       "      <th>74</th>\n",
       "      <td>{'best_metric_val': 0.17895647602832812, '_ste...</td>\n",
       "      <td>{'env': {'game': 'BankHeist', 'type': 'atari',...</td>\n",
       "      <td>4pgopiu3</td>\n",
       "      <td>BankHeist</td>\n",
       "    </tr>\n",
       "    <tr>\n",
       "      <th>75</th>\n",
       "      <td>{'mean_grad_norm': 0.10300133017908912, 'idm_a...</td>\n",
       "      <td>{'env': {'game': 'BattleZone', 'type': 'atari'...</td>\n",
       "      <td>2s6qu43q</td>\n",
       "      <td>BattleZone</td>\n",
       "    </tr>\n",
       "    <tr>\n",
       "      <th>80</th>\n",
       "      <td>{'mean_grad_norm': 0.1353523378893935, 'best_m...</td>\n",
       "      <td>{'env': {'game': 'Alien', 'type': 'atari', 'fr...</td>\n",
       "      <td>1xi3ji6w</td>\n",
       "      <td>Alien</td>\n",
       "    </tr>\n",
       "    <tr>\n",
       "      <th>81</th>\n",
       "      <td>{'epoch': 10, 'idm_loss': 2.323826084938153, '...</td>\n",
       "      <td>{'env': {'game': 'Amidar', 'type': 'atari', 'f...</td>\n",
       "      <td>2v6wvz3p</td>\n",
       "      <td>Amidar</td>\n",
       "    </tr>\n",
       "    <tr>\n",
       "      <th>82</th>\n",
       "      <td>{'neg_sim': 0.3478454136590001, 'obs_loss': 0....</td>\n",
       "      <td>{'env': {'game': 'Asterix', 'type': 'atari', '...</td>\n",
       "      <td>oz7rk7ss</td>\n",
       "      <td>Asterix</td>\n",
       "    </tr>\n",
       "    <tr>\n",
       "      <th>83</th>\n",
       "      <td>{'idm_acc': 0.1787237793530229, 'neg_sim': 0.0...</td>\n",
       "      <td>{'env': {'game': 'Assault', 'type': 'atari', '...</td>\n",
       "      <td>3t5ggjqr</td>\n",
       "      <td>Assault</td>\n",
       "    </tr>\n",
       "  </tbody>\n",
       "</table>\n",
       "</div>"
      ],
      "text/plain": [
       "                                              summary  \\\n",
       "21  {'_step': 200000, 'act_acc': 0.696096105813980...   \n",
       "22  {'pos_neg_diff': 0.941808152616024, 'max_grad_...   \n",
       "23  {'rtg_loss': 1.111785558372736, 'reward_ratio'...   \n",
       "24  {'_step': 202000, '_timestamp': 1669436278, 'm...   \n",
       "72  {'mean_grad_norm': 0.1223612709985516, 'best_m...   \n",
       "73  {'rtg_loss': 1.2629908736805282, 'epoch': 10, ...   \n",
       "74  {'best_metric_val': 0.17895647602832812, '_ste...   \n",
       "75  {'mean_grad_norm': 0.10300133017908912, 'idm_a...   \n",
       "80  {'mean_grad_norm': 0.1353523378893935, 'best_m...   \n",
       "81  {'epoch': 10, 'idm_loss': 2.323826084938153, '...   \n",
       "82  {'neg_sim': 0.3478454136590001, 'obs_loss': 0....   \n",
       "83  {'idm_acc': 0.1787237793530229, 'neg_sim': 0.0...   \n",
       "\n",
       "                                               config        id  \\\n",
       "21  {'env': {'game': 'CrazyClimber', 'type': 'atar...  3b8bcyof   \n",
       "22  {'env': {'game': 'Freeway', 'type': 'atari', '...  bkmyy6jj   \n",
       "23  {'env': {'game': 'ChopperCommand', 'type': 'at...  f6rlmwdk   \n",
       "24  {'env': {'game': 'DemonAttack', 'type': 'atari...  jxr9ejhs   \n",
       "72  {'env': {'game': 'Boxing', 'type': 'atari', 'f...  32nzfqdn   \n",
       "73  {'env': {'game': 'Breakout', 'type': 'atari', ...  2batx68n   \n",
       "74  {'env': {'game': 'BankHeist', 'type': 'atari',...  4pgopiu3   \n",
       "75  {'env': {'game': 'BattleZone', 'type': 'atari'...  2s6qu43q   \n",
       "80  {'env': {'game': 'Alien', 'type': 'atari', 'fr...  1xi3ji6w   \n",
       "81  {'env': {'game': 'Amidar', 'type': 'atari', 'f...  2v6wvz3p   \n",
       "82  {'env': {'game': 'Asterix', 'type': 'atari', '...  oz7rk7ss   \n",
       "83  {'env': {'game': 'Assault', 'type': 'atari', '...  3t5ggjqr   \n",
       "\n",
       "               env  \n",
       "21    CrazyClimber  \n",
       "22         Freeway  \n",
       "23  ChopperCommand  \n",
       "24     DemonAttack  \n",
       "72          Boxing  \n",
       "73        Breakout  \n",
       "74       BankHeist  \n",
       "75      BattleZone  \n",
       "80           Alien  \n",
       "81          Amidar  \n",
       "82         Asterix  \n",
       "83         Assault  "
      ]
     },
     "execution_count": 5,
     "metadata": {},
     "output_type": "execute_result"
    }
   ],
   "source": [
    "data = data_.iloc[indexs]\n",
    "envs = []\n",
    "for config in data['config']:\n",
    "    envs.append(eval(config)['env']['game'])\n",
    "data['env'] = envs\n",
    "print(len(data))\n",
    "data"
   ]
  },
  {
   "cell_type": "markdown",
   "id": "6502d51d-ea6d-49ce-b28e-ecb418c72172",
   "metadata": {},
   "source": [
    "### 1. Restore Saved Models"
   ]
  },
  {
   "cell_type": "code",
   "execution_count": 6,
   "id": "7a542abe-1776-418d-a89e-76c76410a076",
   "metadata": {},
   "outputs": [
    {
     "name": "stdout",
     "output_type": "stream",
     "text": [
      "CrazyClimber 3b8bcyof\n",
      "Freeway bkmyy6jj\n",
      "ChopperCommand f6rlmwdk\n",
      "DemonAttack jxr9ejhs\n",
      "Boxing 32nzfqdn\n",
      "Breakout 2batx68n\n",
      "BankHeist 4pgopiu3\n",
      "BattleZone 2s6qu43q\n",
      "Alien 1xi3ji6w\n",
      "Amidar 2v6wvz3p\n",
      "Asterix oz7rk7ss\n",
      "Assault 3t5ggjqr\n"
     ]
    }
   ],
   "source": [
    "import pathlib\n",
    "base_path = str(pathlib.Path().resolve())\n",
    "\n",
    "artifact_dict = {}\n",
    "for run_id, env in zip(data['id'], data['env']):\n",
    "    print(env, run_id)\n",
    "    try:\n",
    "        name = env + '/' + model_path \n",
    "        path = base_path + '/' + name\n",
    "        wandb.restore(name, run_path=\"draftrec/atari_pretrain/\" + run_id)\n",
    "        artifact_dict[path] = name \n",
    "    except:\n",
    "        continue"
   ]
  },
  {
   "cell_type": "markdown",
   "id": "73679067-d9e7-49e4-9502-3f58133c5a4f",
   "metadata": {},
   "source": [
    "### Save to artifact"
   ]
  },
  {
   "cell_type": "code",
   "execution_count": 7,
   "id": "46d23273-07c1-40f7-a110-dc6fcc25c694",
   "metadata": {},
   "outputs": [
    {
     "name": "stderr",
     "output_type": "stream",
     "text": [
      "\u001b[34m\u001b[1mwandb\u001b[0m: Currently logged in as: \u001b[33mjoonleesky\u001b[0m (\u001b[33mdraftrec\u001b[0m). Use \u001b[1m`wandb login --relogin`\u001b[0m to force relogin\n",
      "/opt/conda/lib/python3.8/site-packages/IPython/html.py:12: ShimWarning: The `IPython.html` package has been deprecated since IPython 4.0. You should import from `notebook` instead. `IPython.html.widgets` has moved to `ipywidgets`.\n",
      "  warn(\"The `IPython.html` package has been deprecated since IPython 4.0. \"\n"
     ]
    },
    {
     "data": {
      "text/html": [
       "wandb version 0.13.5 is available!  To upgrade, please run:\n",
       " $ pip install wandb --upgrade"
      ],
      "text/plain": [
       "<IPython.core.display.HTML object>"
      ]
     },
     "metadata": {},
     "output_type": "display_data"
    },
    {
     "data": {
      "text/html": [
       "Tracking run with wandb version 0.12.21"
      ],
      "text/plain": [
       "<IPython.core.display.HTML object>"
      ]
     },
     "metadata": {},
     "output_type": "display_data"
    },
    {
     "data": {
      "text/html": [
       "Run data is saved locally in <code>/data/private/video_rl/vis/atari_100k/wandb/run-20221126_132449-3eov0d1v</code>"
      ],
      "text/plain": [
       "<IPython.core.display.HTML object>"
      ]
     },
     "metadata": {},
     "output_type": "display_data"
    },
    {
     "data": {
      "text/html": [
       "Syncing run <strong><a href=\"https://wandb.ai/draftrec/atari_pretrain/runs/3eov0d1v\" target=\"_blank\">efficient-lion-4763</a></strong> to <a href=\"https://wandb.ai/draftrec/atari_pretrain\" target=\"_blank\">Weights & Biases</a> (<a href=\"https://wandb.me/run\" target=\"_blank\">docs</a>)<br/>"
      ],
      "text/plain": [
       "<IPython.core.display.HTML object>"
      ]
     },
     "metadata": {},
     "output_type": "display_data"
    },
    {
     "data": {
      "text/plain": [
       "<wandb.sdk.wandb_artifacts.Artifact at 0x7f444c2b8d60>"
      ]
     },
     "execution_count": 7,
     "metadata": {},
     "output_type": "execute_result"
    }
   ],
   "source": [
    "wandb.init(project='atari_pretrain',\n",
    "           entity='draftrec',\n",
    "           group=exp_name,\n",
    "           settings=wandb.Settings(start_method=\"thread\"))  \n",
    "artifact = wandb.Artifact(name=exp_name, type='model')\n",
    "\n",
    "# save models\n",
    "for path, name in artifact_dict.items():\n",
    "    artifact.add_file(path, name=name)\n",
    "\n",
    "wandb.run.finish_artifact(artifact)"
   ]
  },
  {
   "cell_type": "markdown",
   "id": "80148878-83a7-41e5-8eac-e315eee0b832",
   "metadata": {},
   "source": [
    "### Remove artifact"
   ]
  },
  {
   "cell_type": "code",
   "execution_count": 8,
   "id": "acba7b84-f841-4ef8-9772-0013dd40ca93",
   "metadata": {},
   "outputs": [],
   "source": [
    "import shutil\n",
    "for env in data['env']:\n",
    "    shutil.rmtree('./'+env, ignore_errors=True)"
   ]
  },
  {
   "cell_type": "markdown",
   "id": "2bc563cd-bad2-4867-87ac-3f4c39052daa",
   "metadata": {},
   "source": [
    "### 2. Generate json file"
   ]
  },
  {
   "cell_type": "code",
   "execution_count": null,
   "id": "5836bf82-98b7-4def-b8fc-e547c10effbe",
   "metadata": {},
   "outputs": [],
   "source": [
    "def get_results_dict(data):\n",
    "    results = []\n",
    "    for idx in range(len(data)):\n",
    "        row = data.iloc[idx]\n",
    "        summary = eval(row['summary'])\n",
    "        config = eval(row['config'])\n",
    "\n",
    "        if 'env' not in config:\n",
    "            continue\n",
    "\n",
    "        game = config['env']['game']\n",
    "        try:\n",
    "            import pdb\n",
    "            pdb.set_trace()\n",
    "            score = summary['eval_mean_traj_game_scores']\n",
    "        except:\n",
    "            continue\n",
    "        results.append([0, game, score, 0])\n",
    "\n",
    "    return results\n",
    "    \n",
    "results = get_results_dict(data)"
   ]
  },
  {
   "cell_type": "code",
   "execution_count": null,
   "id": "c5ff39de-78f8-4e4e-9769-c359838740ba",
   "metadata": {},
   "outputs": [],
   "source": [
    "data"
   ]
  },
  {
   "cell_type": "code",
   "execution_count": 18,
   "id": "c91a3ce2-a057-4a9a-b48e-e328c48bc577",
   "metadata": {},
   "outputs": [],
   "source": [
    "import json\n",
    "\n",
    "def generate_json_file(file_name, results):\n",
    "    data = {}\n",
    "    data['data'] = results\n",
    "    path = file_name + '.json'\n",
    "    with open(path, 'w') as json_file:\n",
    "        json.dump(data, json_file)"
   ]
  },
  {
   "cell_type": "code",
   "execution_count": 19,
   "id": "b9a638e9-1ab8-4d09-8bfe-58c1626136ca",
   "metadata": {},
   "outputs": [],
   "source": [
    "generate_json_file('byol_impala', results)"
   ]
  }
 ],
 "metadata": {
  "kernelspec": {
   "display_name": "Python 3 (ipykernel)",
   "language": "python",
   "name": "python3"
  },
  "language_info": {
   "codemirror_mode": {
    "name": "ipython",
    "version": 3
   },
   "file_extension": ".py",
   "mimetype": "text/x-python",
   "name": "python",
   "nbconvert_exporter": "python",
   "pygments_lexer": "ipython3",
   "version": "3.8.12"
  }
 },
 "nbformat": 4,
 "nbformat_minor": 5
}
