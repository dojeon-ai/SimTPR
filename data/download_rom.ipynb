{
 "cells": [
  {
   "cell_type": "code",
   "execution_count": 1,
   "id": "250ed6cf-ba7b-48e9-a468-21b5c074c679",
   "metadata": {},
   "outputs": [
    {
     "data": {
      "text/plain": [
       "('Roms.rar', <http.client.HTTPMessage at 0x7f88f007b7f0>)"
      ]
     },
     "execution_count": 1,
     "metadata": {},
     "output_type": "execute_result"
    }
   ],
   "source": [
    "import urllib.request\n",
    "urllib.request.urlretrieve('http://www.atarimania.com/roms/Roms.rar','Roms.rar')"
   ]
  },
  {
   "cell_type": "code",
   "execution_count": 2,
   "id": "3ac7eb2e-9a98-4aba-bcc1-bb509c650493",
   "metadata": {
    "tags": []
   },
   "outputs": [
    {
     "name": "stdout",
     "output_type": "stream",
     "text": [
      "E: Could not open lock file /var/lib/dpkg/lock-frontend - open (13: Permission denied)\n",
      "E: Unable to acquire the dpkg frontend lock (/var/lib/dpkg/lock-frontend), are you root?\n",
      "/bin/bash: unrar: command not found\n",
      "mv: cannot stat 'HC ROMS.zip': No such file or directory\n",
      "mv: cannot stat 'ROMS.zip': No such file or directory\n"
     ]
    }
   ],
   "source": [
    "!apt-get install unrar\n",
    "!unrar x Roms.rar\n",
    "!mkdir rars\n",
    "!mv HC\\ ROMS.zip   rars\n",
    "!mv ROMS.zip  rars\n",
    "!python -m atari_py.import_roms rars"
   ]
  },
  {
   "cell_type": "code",
   "execution_count": 6,
   "id": "84d9b9d3-448f-465e-bcf5-4021b097fced",
   "metadata": {},
   "outputs": [],
   "source": [
    "!python -m atari_py.import_roms rars"
   ]
  },
  {
   "cell_type": "code",
   "execution_count": 7,
   "id": "cbcc51c9-6cc1-4593-beb6-14bada92cbe5",
   "metadata": {},
   "outputs": [],
   "source": [
    "import gym"
   ]
  },
  {
   "cell_type": "code",
   "execution_count": null,
   "id": "fd59c35a-14c5-4e03-9448-ccf3f17658ce",
   "metadata": {},
   "outputs": [],
   "source": []
  }
 ],
 "metadata": {
  "kernelspec": {
   "display_name": "Python 3 (ipykernel)",
   "language": "python",
   "name": "python3"
  },
  "language_info": {
   "codemirror_mode": {
    "name": "ipython",
    "version": 3
   },
   "file_extension": ".py",
   "mimetype": "text/x-python",
   "name": "python",
   "nbconvert_exporter": "python",
   "pygments_lexer": "ipython3",
   "version": "3.9.12"
  }
 },
 "nbformat": 4,
 "nbformat_minor": 5
}
